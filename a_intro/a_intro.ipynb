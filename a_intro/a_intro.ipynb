{
 "cells": [
  {
   "cell_type": "markdown",
   "id": "1b1d66c9-31d4-4b18-ba4e-bbe8cf5e85d0",
   "metadata": {},
   "source": [
    "#### Deep Learing, 딥러닝\n",
    "- 인공 신경망(Artificial Neural Network)의 층을 연속적으로 깊게 쌓아올려 데이터를 학습하는 방식을 의미한다.\n",
    "- 인간이 학습하고 기억하는 매커니즘을 모방한 기계학습이다.\n",
    "- 인간은 학습 시, 뇌에 있는 뉴런이 자극을 받아들여서 일정 자극 이상이 되면, 화학물질을 통해 다른 뉴런과 연결되며 해당 부분이 발달한다.\n",
    "- 자극이 약하거나 기준치를 넘지 못하면, 뉴런은 연결되지 않는다.\n",
    "- 입력한 데이터가 활성 함수에서 임계점을 넘게 되면 출력된다.\n",
    "- 초기 인공 신경망(Perceptron = 뉴런)에서 깊게 층을 쌓아 학습하는 딥러닝으로 발전한다.\n",
    "- 딥러닝은 Input nodes layer, Hidden nodes layer, Output nodes layer, 이렇게 세 가지 층이 존재한다.\n",
    "\n",
    "<img src='./images/deep_learning.png' style=\"margin-left: 0\">"
   ]
  }
 ],
 "metadata": {
  "kernelspec": {
   "display_name": "Python 3 (ipykernel)",
   "language": "python",
   "name": "python3"
  },
  "language_info": {
   "codemirror_mode": {
    "name": "ipython",
    "version": 3
   },
   "file_extension": ".py",
   "mimetype": "text/x-python",
   "name": "python",
   "nbconvert_exporter": "python",
   "pygments_lexer": "ipython3",
   "version": "3.11.8"
  }
 },
 "nbformat": 4,
 "nbformat_minor": 5
}
