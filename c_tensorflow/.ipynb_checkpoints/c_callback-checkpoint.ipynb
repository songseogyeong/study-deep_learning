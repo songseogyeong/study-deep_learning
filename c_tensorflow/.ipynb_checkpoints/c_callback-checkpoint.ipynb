{
 "cells": [
  {
   "cell_type": "markdown",
   "id": "aaf8c88c-f0a1-43b1-95eb-f91880fa6ece",
   "metadata": {},
   "source": [
    "### Callback API\n",
    "- 모델이 학습 중에 충돌이 발생하거나 네트워크가 끊기면, 모든 훈련 시간이 낭비될 수 있고,  \n",
    "  과적합을 방지하기 위해 훈련을 중간에 중지해야 할 수도 있다.\n",
    "- 모델이 학습을 시작하면 학습이 완료될 때까지 아무런 제어를 하지 못하게 되고,  \n",
    "  신경망 훈련을 완료하는 데에는 몇 시간 또는 며칠이 걸릴 수 있기 때문에 모델을 모니터링하고 제어할 수 있는 기능이 필요하다.\n",
    "- 훈련 시(fit()) Callback API를 등록시키면 반복 내에서 특정 이벤트 발생마다 등록된 callback이 호출되어 수행된다.\n",
    "\n",
    "**ModelCheckpoint(filepath, monitor='val_loss', verbose=0, save_best_only=False, save_weight_only=False, mode='auto')**\n",
    "- 특정 조건에 따라서 모델 또는 가중치를 파일로 저장한다.\n",
    "- filepath: \"weights.{epoch:03d}-{val_loss:.4f}-{acc:.4f}.weights.h5\"와 같이 모델의 체크포인트를 저장한다.\n",
    "- monitor: 모니터링할 성능 지표를 작성한다.\n",
    "- save_best_only: 가장 좋은 성능을 나타내는 모델을 저장할 지에 대한 여부\n",
    "- save_weights_only: weights만 저장할 지에 대한 여부\n",
    "- mode: {auto, min, max} 중 한 가지를 작성한다. monitor의 성능 지표에 따라 좋은 경우를 선택한다.  \n",
    "  *monitor의 성능 지표가 감소해야 좋은 경우 min, 증가해야 좋은 경우 max, monitor의 이름으로부터 자동으로 유추하고 싶다면 auto\n",
    "\n",
    "<sub>*epoch:03d = 3자리 정수로 자리를 맞추기, 0 붙이면 앞에 공백을 맞춘다 (001, 010, 100 ...) </sub>  \n",
    "<sub>*확장자는 반드시 weights.h5를 한번에 작성해야 함 (확장자만 작성 불가)</sub>  \n",
    "<sub>*monitor와 mode는 같이 가는 개념, monitor에 loss 값을 구해야 하면 mode에는 min, acc면 max, auto도 가능하나 잘 사용하지 않음</sub>\n",
    "\n",
    "**ReduceLROnPlateau(monitor='val_loss', factor=0.1, patience=10, verbose=0, mode='auto', min_lr=0)**\n",
    "- 특정 반복동안 성능이 개선되지 않을 때, 학습률을 동적으로 감소시킨다.\n",
    "- monitor: 모니터링할 성능 지표를 작성한다.\n",
    "- factor: 학습률을 감소시킬 비율, 새로운 학습률 = 기존 학습률 * factor\n",
    "- patience: 학습률을 줄이기 전에 monitor할 반복 횟수\n",
    "- mode: {auto, min, max} 중 한 가지를 작성한다. monitor의 성능 지표에 따라 좋은 경우를 선택한다.  \n",
    "  *monitor의 성능 지표가 감소해야 좋은 경우 min, 증가해야 좋은 경우 max, monitor의 이름으로부터 자동으로 유추하고 싶다면 auto\n",
    "\n",
    "**EarlyStopping(monitor='val_loss', patience=0, verbose=0, mode='auto')**\n",
    "- 특정 반복동안 성능이 개선되지 않을 때, 학습을 조기에 중단한다.\n",
    "- monitor: 모니터링할 성능 지표를 작성한다.\n",
    "- patience: Early Stopping을 적용하기 전에 monitor할 반복 횟수.\n",
    "- mode: {auto, min, max} 중 한 가지를 작성한다. monitor의 성능 지표에 따라 좋은 경우를 선택한다.  \n",
    "  *monitor의 성능 지표가 감소해야 좋은 경우 min, 증가해야 좋은 경우 max, monitor의 이름으로부터 자동으로 유추하고 싶다면 auto"
   ]
  },
  {
   "cell_type": "code",
   "execution_count": 1,
   "id": "90073be2-50ca-4004-a7d9-105a6fc951ff",
   "metadata": {},
   "outputs": [],
   "source": [
    "from tensorflow.keras.layers import Layer, Input, Flatten, Dense\n",
    "from tensorflow.keras.models import Model\n",
    "\n",
    "# 입력 데이터 크기 지정\n",
    "INPUT_SIZE = 28\n",
    "\n",
    "# 인공 신경망 생성 함수 선언\n",
    "def create_model():\n",
    "    input_tensor = Input(shape=(INPUT_SIZE, INPUT_SIZE))\n",
    "    x = Flatten()(input_tensor)\n",
    "    x = Dense(64, activation='relu')(x)\n",
    "    x = Dense(128, activation='relu')(x)\n",
    "    output = Dense(10, activation='softmax')(x)\n",
    "\n",
    "    model = Model(inputs=input_tensor, outputs=output)\n",
    "    return model"
   ]
  },
  {
   "cell_type": "code",
   "execution_count": 2,
   "id": "57a33634-40f6-47e4-a7cb-6292ebc4c585",
   "metadata": {},
   "outputs": [],
   "source": [
    "from tensorflow.keras.utils import to_categorical\n",
    "from sklearn.model_selection import train_test_split\n",
    "import numpy as np\n",
    "\n",
    "# 데이터 전처리 함수 선언\n",
    "def get_preprocessed_data(images, targets):\n",
    "    images = np.array(images / 255.0, dtype=np.float32)\n",
    "    targets = np.array(targets, dtype=np.float32)\n",
    "\n",
    "    return images, targets\n",
    "\n",
    "# 원-핫 인코딩 변환 함수 선언\n",
    "def get_preprocessed_ohe(images, targets):\n",
    "    images, targets = get_preprocessed_data(images, targets)\n",
    "    oh_targets = to_categorical(targets)\n",
    "\n",
    "    return images, oh_targets\n",
    "\n",
    "# 데이터 세트 분리 함수 선언\n",
    "def get_train_valid_test(train_images, train_targets, test_images, test_targets, validation_size=0.2, random_state=124):\n",
    "    train_images, train_oh_targets = get_preprocessed_ohe(train_images, train_targets)\n",
    "    test_images, test_oh_targets = get_preprocessed_ohe(test_images, test_targets)\n",
    "\n",
    "    train_images, validation_images, train_oh_targets, validation_oh_targets = \\\n",
    "    train_test_split(train_images, train_oh_targets, stratify=train_oh_targets, test_size=validation_size, random_state=random_state)\n",
    "\n",
    "    return (train_images, train_oh_targets), (validation_images, validation_oh_targets), (test_images, test_oh_targets)"
   ]
  },
  {
   "cell_type": "code",
   "execution_count": 3,
   "id": "130d23c1-b0e0-409f-9446-ad5f3270c5d4",
   "metadata": {},
   "outputs": [
    {
     "name": "stdout",
     "output_type": "stream",
     "text": [
      "(48000, 28, 28) (48000, 10)\n",
      "(12000, 28, 28) (12000, 10)\n",
      "(10000, 28, 28) (10000, 10)\n"
     ]
    }
   ],
   "source": [
    "from tensorflow.keras.datasets import fashion_mnist\n",
    "\n",
    "# tensorflow 라이브러리에 내장되어 있는 패션 데이터 세트 호출 후 데이터 세트 분리\n",
    "(train_images, train_targets), (test_images, test_targets) = fashion_mnist.load_data()\n",
    "\n",
    "# 데이터 세트 분리 함수를 통해 데이터 세트 분리\n",
    "(train_images, train_oh_targets), (validation_images, validation_oh_targets), (test_images, test_oh_targets) = \\\n",
    "get_train_valid_test(train_images, train_targets, test_images, test_targets)\n",
    "\n",
    "# 데이터 형태 확인\n",
    "print(train_images.shape, train_oh_targets.shape)\n",
    "print(validation_images.shape, validation_oh_targets.shape)\n",
    "print(test_images.shape, test_oh_targets.shape)"
   ]
  },
  {
   "cell_type": "code",
   "execution_count": 4,
   "id": "7306d0ae-e719-4f3a-8deb-864f288c4046",
   "metadata": {},
   "outputs": [
    {
     "name": "stdout",
     "output_type": "stream",
     "text": [
      " C 드라이브의 볼륨에는 이름이 없습니다.\n",
      " 볼륨 일련 번호: 0457-852B\n",
      "\n",
      " C:\\study\\ai\\deep_learning\\c_tensorflow 디렉터리\n",
      "\n",
      "2024-05-28  오후 05:48    <DIR>          .\n",
      "2024-05-28  오전 11:30    <DIR>          ..\n",
      "2024-05-28  오전 11:29    <DIR>          .ipynb_checkpoints\n",
      "2024-05-27  오후 08:38            92,212 a_tensorflow.ipynb\n",
      "2024-05-28  오후 04:55           166,938 b_keras.ipynb\n",
      "2024-05-27  오후 10:12           184,667 b_keras_task.ipynb\n",
      "2024-05-28  오후 09:15    <DIR>          callback_files\n",
      "2024-05-28  오후 05:48            41,569 c_callback.ipynb\n",
      "2024-05-28  오전 10:42            34,848 c_callback22.ipynb\n",
      "2024-05-28  오전 11:29            10,534 c_callback_task.ipynb\n",
      "2024-05-28  오전 11:29            13,199 c_callback_task22.ipynb\n",
      "2024-05-27  오후 08:15    <DIR>          images\n",
      "               7개 파일             543,967 바이트\n",
      "               5개 디렉터리  1,822,870,302,720 바이트 남음\n"
     ]
    }
   ],
   "source": [
    "# 현제 디렉토리 확인\n",
    "!dir"
   ]
  },
  {
   "cell_type": "code",
   "execution_count": 5,
   "id": "bd75bccc-7a03-4900-afb1-0ef9a4b7f9d1",
   "metadata": {},
   "outputs": [
    {
     "name": "stdout",
     "output_type": "stream",
     "text": [
      " C 드라이브의 볼륨에는 이름이 없습니다.\n",
      " 볼륨 일련 번호: 0457-852B\n",
      "\n",
      " C:\\study\\ai\\deep_learning\\c_tensorflow\\callback_files 디렉터리\n",
      "\n",
      "2024-05-28  오후 09:15    <DIR>          .\n",
      "2024-05-28  오후 05:48    <DIR>          ..\n",
      "               0개 파일                   0 바이트\n",
      "               2개 디렉터리  1,822,870,302,720 바이트 남음\n"
     ]
    }
   ],
   "source": [
    "# 현재 디렉토리 내 특정 폴더 확인\n",
    "!dir callback_files"
   ]
  },
  {
   "cell_type": "markdown",
   "id": "fd149b4b-f102-497c-bd2e-217fed6beb00",
   "metadata": {},
   "source": [
    "### ModelCheckPoint"
   ]
  },
  {
   "cell_type": "code",
   "execution_count": 6,
   "id": "ae6958e8-bc5c-439f-9ac7-b91204f4a61b",
   "metadata": {},
   "outputs": [
    {
     "name": "stdout",
     "output_type": "stream",
     "text": [
      "Epoch 1/20\n",
      "\u001b[1m750/750\u001b[0m \u001b[32m━━━━━━━━━━━━━━━━━━━━\u001b[0m\u001b[37m\u001b[0m \u001b[1m3s\u001b[0m 3ms/step - acc: 0.7384 - loss: 0.7523 - val_acc: 0.8438 - val_loss: 0.4434\n",
      "Epoch 2/20\n",
      "\u001b[1m750/750\u001b[0m \u001b[32m━━━━━━━━━━━━━━━━━━━━\u001b[0m\u001b[37m\u001b[0m \u001b[1m2s\u001b[0m 2ms/step - acc: 0.8567 - loss: 0.4033 - val_acc: 0.8627 - val_loss: 0.3764\n",
      "Epoch 3/20\n",
      "\u001b[1m750/750\u001b[0m \u001b[32m━━━━━━━━━━━━━━━━━━━━\u001b[0m\u001b[37m\u001b[0m \u001b[1m2s\u001b[0m 2ms/step - acc: 0.8715 - loss: 0.3589 - val_acc: 0.8668 - val_loss: 0.3624\n",
      "Epoch 4/20\n",
      "\u001b[1m750/750\u001b[0m \u001b[32m━━━━━━━━━━━━━━━━━━━━\u001b[0m\u001b[37m\u001b[0m \u001b[1m2s\u001b[0m 3ms/step - acc: 0.8777 - loss: 0.3351 - val_acc: 0.8697 - val_loss: 0.3578\n",
      "Epoch 5/20\n",
      "\u001b[1m750/750\u001b[0m \u001b[32m━━━━━━━━━━━━━━━━━━━━\u001b[0m\u001b[37m\u001b[0m \u001b[1m2s\u001b[0m 3ms/step - acc: 0.8865 - loss: 0.3092 - val_acc: 0.8802 - val_loss: 0.3300\n",
      "Epoch 6/20\n",
      "\u001b[1m750/750\u001b[0m \u001b[32m━━━━━━━━━━━━━━━━━━━━\u001b[0m\u001b[37m\u001b[0m \u001b[1m2s\u001b[0m 2ms/step - acc: 0.8929 - loss: 0.2923 - val_acc: 0.8734 - val_loss: 0.3366\n",
      "Epoch 7/20\n",
      "\u001b[1m750/750\u001b[0m \u001b[32m━━━━━━━━━━━━━━━━━━━━\u001b[0m\u001b[37m\u001b[0m \u001b[1m2s\u001b[0m 2ms/step - acc: 0.8957 - loss: 0.2827 - val_acc: 0.8693 - val_loss: 0.3524\n",
      "Epoch 8/20\n",
      "\u001b[1m750/750\u001b[0m \u001b[32m━━━━━━━━━━━━━━━━━━━━\u001b[0m\u001b[37m\u001b[0m \u001b[1m2s\u001b[0m 2ms/step - acc: 0.8982 - loss: 0.2741 - val_acc: 0.8861 - val_loss: 0.3169\n",
      "Epoch 9/20\n",
      "\u001b[1m750/750\u001b[0m \u001b[32m━━━━━━━━━━━━━━━━━━━━\u001b[0m\u001b[37m\u001b[0m \u001b[1m1s\u001b[0m 2ms/step - acc: 0.9019 - loss: 0.2616 - val_acc: 0.8805 - val_loss: 0.3253\n",
      "Epoch 10/20\n",
      "\u001b[1m750/750\u001b[0m \u001b[32m━━━━━━━━━━━━━━━━━━━━\u001b[0m\u001b[37m\u001b[0m \u001b[1m2s\u001b[0m 2ms/step - acc: 0.9033 - loss: 0.2585 - val_acc: 0.8787 - val_loss: 0.3326\n",
      "Epoch 11/20\n",
      "\u001b[1m750/750\u001b[0m \u001b[32m━━━━━━━━━━━━━━━━━━━━\u001b[0m\u001b[37m\u001b[0m \u001b[1m2s\u001b[0m 2ms/step - acc: 0.9099 - loss: 0.2431 - val_acc: 0.8876 - val_loss: 0.3124\n",
      "Epoch 12/20\n",
      "\u001b[1m750/750\u001b[0m \u001b[32m━━━━━━━━━━━━━━━━━━━━\u001b[0m\u001b[37m\u001b[0m \u001b[1m1s\u001b[0m 2ms/step - acc: 0.9115 - loss: 0.2358 - val_acc: 0.8875 - val_loss: 0.3157\n",
      "Epoch 13/20\n",
      "\u001b[1m750/750\u001b[0m \u001b[32m━━━━━━━━━━━━━━━━━━━━\u001b[0m\u001b[37m\u001b[0m \u001b[1m2s\u001b[0m 2ms/step - acc: 0.9133 - loss: 0.2337 - val_acc: 0.8832 - val_loss: 0.3313\n",
      "Epoch 14/20\n",
      "\u001b[1m750/750\u001b[0m \u001b[32m━━━━━━━━━━━━━━━━━━━━\u001b[0m\u001b[37m\u001b[0m \u001b[1m2s\u001b[0m 2ms/step - acc: 0.9149 - loss: 0.2254 - val_acc: 0.8876 - val_loss: 0.3248\n",
      "Epoch 15/20\n",
      "\u001b[1m750/750\u001b[0m \u001b[32m━━━━━━━━━━━━━━━━━━━━\u001b[0m\u001b[37m\u001b[0m \u001b[1m2s\u001b[0m 2ms/step - acc: 0.9186 - loss: 0.2164 - val_acc: 0.8902 - val_loss: 0.3265\n",
      "Epoch 16/20\n",
      "\u001b[1m750/750\u001b[0m \u001b[32m━━━━━━━━━━━━━━━━━━━━\u001b[0m\u001b[37m\u001b[0m \u001b[1m2s\u001b[0m 2ms/step - acc: 0.9211 - loss: 0.2097 - val_acc: 0.8845 - val_loss: 0.3463\n",
      "Epoch 17/20\n",
      "\u001b[1m750/750\u001b[0m \u001b[32m━━━━━━━━━━━━━━━━━━━━\u001b[0m\u001b[37m\u001b[0m \u001b[1m2s\u001b[0m 2ms/step - acc: 0.9224 - loss: 0.2030 - val_acc: 0.8847 - val_loss: 0.3221\n",
      "Epoch 18/20\n",
      "\u001b[1m750/750\u001b[0m \u001b[32m━━━━━━━━━━━━━━━━━━━━\u001b[0m\u001b[37m\u001b[0m \u001b[1m2s\u001b[0m 2ms/step - acc: 0.9260 - loss: 0.1951 - val_acc: 0.8878 - val_loss: 0.3221\n",
      "Epoch 19/20\n",
      "\u001b[1m750/750\u001b[0m \u001b[32m━━━━━━━━━━━━━━━━━━━━\u001b[0m\u001b[37m\u001b[0m \u001b[1m2s\u001b[0m 2ms/step - acc: 0.9267 - loss: 0.1925 - val_acc: 0.8907 - val_loss: 0.3230\n",
      "Epoch 20/20\n",
      "\u001b[1m750/750\u001b[0m \u001b[32m━━━━━━━━━━━━━━━━━━━━\u001b[0m\u001b[37m\u001b[0m \u001b[1m2s\u001b[0m 3ms/step - acc: 0.9312 - loss: 0.1845 - val_acc: 0.8825 - val_loss: 0.3514\n"
     ]
    }
   ],
   "source": [
    "from tensorflow.keras.optimizers import Adam\n",
    "from tensorflow.keras.losses import CategoricalCrossentropy\n",
    "from tensorflow.keras.callbacks import ModelCheckpoint\n",
    "\n",
    "# 인공 신경망 생성 함수를 통해 인공 신경망 생성\n",
    "model = create_model()\n",
    "# 모델 컴파일\n",
    "model.compile(optimizer=Adam(), loss=CategoricalCrossentropy(), metrics=['acc'])\n",
    "\n",
    "# weights 저장\n",
    "mcp_cb = ModelCheckpoint(\n",
    "    # 경로 지정\n",
    "    filepath=\"./callback_files/weights.{epoch:03d}-{val_loss:.4f}-{acc:.4f}.weights.h5\",\n",
    "    # 모니터링 할 성능지표\n",
    "    monitor='val_loss',\n",
    "    # 모든 epoch의 파일을 저장하지 않고 좋은 성능이라 판단될 경우만 저장할 때 True설정\n",
    "    save_best_only=False,\n",
    "    save_weights_only=True,\n",
    "    # 성능 지표 최적화\n",
    "    mode='min'\n",
    ")\n",
    "\n",
    "# 훈련\n",
    "history = model.fit(x=train_images, y=train_oh_targets, validation_data=(validation_images, validation_oh_targets), batch_size=64, epochs=20, callbacks=[mcp_cb])"
   ]
  },
  {
   "cell_type": "code",
   "execution_count": 7,
   "id": "4f5cf87f-4c6e-4617-8b71-af5e5ec1ea5e",
   "metadata": {},
   "outputs": [
    {
     "name": "stdout",
     "output_type": "stream",
     "text": [
      "Epoch 1/20\n",
      "\u001b[1m750/750\u001b[0m \u001b[32m━━━━━━━━━━━━━━━━━━━━\u001b[0m\u001b[37m\u001b[0m \u001b[1m3s\u001b[0m 3ms/step - acc: 0.7419 - loss: 0.7569 - val_acc: 0.8425 - val_loss: 0.4347\n",
      "Epoch 2/20\n",
      "\u001b[1m750/750\u001b[0m \u001b[32m━━━━━━━━━━━━━━━━━━━━\u001b[0m\u001b[37m\u001b[0m \u001b[1m2s\u001b[0m 2ms/step - acc: 0.8556 - loss: 0.4052 - val_acc: 0.8543 - val_loss: 0.3916\n",
      "Epoch 3/20\n",
      "\u001b[1m750/750\u001b[0m \u001b[32m━━━━━━━━━━━━━━━━━━━━\u001b[0m\u001b[37m\u001b[0m \u001b[1m2s\u001b[0m 2ms/step - acc: 0.8693 - loss: 0.3577 - val_acc: 0.8702 - val_loss: 0.3560\n",
      "Epoch 4/20\n",
      "\u001b[1m750/750\u001b[0m \u001b[32m━━━━━━━━━━━━━━━━━━━━\u001b[0m\u001b[37m\u001b[0m \u001b[1m2s\u001b[0m 2ms/step - acc: 0.8797 - loss: 0.3262 - val_acc: 0.8708 - val_loss: 0.3485\n",
      "Epoch 5/20\n",
      "\u001b[1m750/750\u001b[0m \u001b[32m━━━━━━━━━━━━━━━━━━━━\u001b[0m\u001b[37m\u001b[0m \u001b[1m2s\u001b[0m 2ms/step - acc: 0.8836 - loss: 0.3140 - val_acc: 0.8648 - val_loss: 0.3542\n",
      "Epoch 6/20\n",
      "\u001b[1m750/750\u001b[0m \u001b[32m━━━━━━━━━━━━━━━━━━━━\u001b[0m\u001b[37m\u001b[0m \u001b[1m2s\u001b[0m 2ms/step - acc: 0.8931 - loss: 0.2931 - val_acc: 0.8840 - val_loss: 0.3124\n",
      "Epoch 7/20\n",
      "\u001b[1m750/750\u001b[0m \u001b[32m━━━━━━━━━━━━━━━━━━━━\u001b[0m\u001b[37m\u001b[0m \u001b[1m2s\u001b[0m 2ms/step - acc: 0.8949 - loss: 0.2789 - val_acc: 0.8842 - val_loss: 0.3158\n",
      "Epoch 8/20\n",
      "\u001b[1m750/750\u001b[0m \u001b[32m━━━━━━━━━━━━━━━━━━━━\u001b[0m\u001b[37m\u001b[0m \u001b[1m2s\u001b[0m 2ms/step - acc: 0.8992 - loss: 0.2714 - val_acc: 0.8810 - val_loss: 0.3230\n",
      "Epoch 9/20\n",
      "\u001b[1m750/750\u001b[0m \u001b[32m━━━━━━━━━━━━━━━━━━━━\u001b[0m\u001b[37m\u001b[0m \u001b[1m2s\u001b[0m 2ms/step - acc: 0.9040 - loss: 0.2606 - val_acc: 0.8878 - val_loss: 0.3136\n",
      "Epoch 10/20\n",
      "\u001b[1m750/750\u001b[0m \u001b[32m━━━━━━━━━━━━━━━━━━━━\u001b[0m\u001b[37m\u001b[0m \u001b[1m2s\u001b[0m 2ms/step - acc: 0.9053 - loss: 0.2580 - val_acc: 0.8854 - val_loss: 0.3177\n",
      "Epoch 11/20\n",
      "\u001b[1m750/750\u001b[0m \u001b[32m━━━━━━━━━━━━━━━━━━━━\u001b[0m\u001b[37m\u001b[0m \u001b[1m2s\u001b[0m 2ms/step - acc: 0.9100 - loss: 0.2428 - val_acc: 0.8802 - val_loss: 0.3277\n",
      "Epoch 12/20\n",
      "\u001b[1m750/750\u001b[0m \u001b[32m━━━━━━━━━━━━━━━━━━━━\u001b[0m\u001b[37m\u001b[0m \u001b[1m2s\u001b[0m 2ms/step - acc: 0.9145 - loss: 0.2328 - val_acc: 0.8848 - val_loss: 0.3243\n",
      "Epoch 13/20\n",
      "\u001b[1m750/750\u001b[0m \u001b[32m━━━━━━━━━━━━━━━━━━━━\u001b[0m\u001b[37m\u001b[0m \u001b[1m2s\u001b[0m 2ms/step - acc: 0.9164 - loss: 0.2253 - val_acc: 0.8871 - val_loss: 0.3119\n",
      "Epoch 14/20\n",
      "\u001b[1m750/750\u001b[0m \u001b[32m━━━━━━━━━━━━━━━━━━━━\u001b[0m\u001b[37m\u001b[0m \u001b[1m2s\u001b[0m 2ms/step - acc: 0.9193 - loss: 0.2193 - val_acc: 0.8902 - val_loss: 0.3112\n",
      "Epoch 15/20\n",
      "\u001b[1m750/750\u001b[0m \u001b[32m━━━━━━━━━━━━━━━━━━━━\u001b[0m\u001b[37m\u001b[0m \u001b[1m2s\u001b[0m 2ms/step - acc: 0.9204 - loss: 0.2152 - val_acc: 0.8912 - val_loss: 0.3173\n",
      "Epoch 16/20\n",
      "\u001b[1m750/750\u001b[0m \u001b[32m━━━━━━━━━━━━━━━━━━━━\u001b[0m\u001b[37m\u001b[0m \u001b[1m2s\u001b[0m 2ms/step - acc: 0.9224 - loss: 0.2065 - val_acc: 0.8868 - val_loss: 0.3320\n",
      "Epoch 17/20\n",
      "\u001b[1m750/750\u001b[0m \u001b[32m━━━━━━━━━━━━━━━━━━━━\u001b[0m\u001b[37m\u001b[0m \u001b[1m2s\u001b[0m 2ms/step - acc: 0.9256 - loss: 0.2006 - val_acc: 0.8876 - val_loss: 0.3255\n",
      "Epoch 18/20\n",
      "\u001b[1m750/750\u001b[0m \u001b[32m━━━━━━━━━━━━━━━━━━━━\u001b[0m\u001b[37m\u001b[0m \u001b[1m2s\u001b[0m 2ms/step - acc: 0.9258 - loss: 0.1996 - val_acc: 0.8906 - val_loss: 0.3277\n",
      "Epoch 19/20\n",
      "\u001b[1m750/750\u001b[0m \u001b[32m━━━━━━━━━━━━━━━━━━━━\u001b[0m\u001b[37m\u001b[0m \u001b[1m2s\u001b[0m 2ms/step - acc: 0.9306 - loss: 0.1853 - val_acc: 0.8908 - val_loss: 0.3251\n",
      "Epoch 20/20\n",
      "\u001b[1m750/750\u001b[0m \u001b[32m━━━━━━━━━━━━━━━━━━━━\u001b[0m\u001b[37m\u001b[0m \u001b[1m2s\u001b[0m 2ms/step - acc: 0.9280 - loss: 0.1915 - val_acc: 0.8903 - val_loss: 0.3290\n"
     ]
    }
   ],
   "source": [
    "from tensorflow.keras.optimizers import Adam\n",
    "from tensorflow.keras.losses import CategoricalCrossentropy\n",
    "from tensorflow.keras.callbacks import ModelCheckpoint\n",
    "\n",
    "# 인공 신경망 생성 함수를 통해 인공 신경망 생성\n",
    "model = create_model()\n",
    "# 모델 컴파일\n",
    "model.compile(optimizer=Adam(), loss=CategoricalCrossentropy(), metrics=['acc'])\n",
    "\n",
    "# 모델 저장\n",
    "mcp_cb = ModelCheckpoint(\n",
    "    # 경로 지정\n",
    "    filepath=\"./callback_files/model.{epoch:03d}-{val_loss:.4f}-{acc:.4f}.model.keras\",\n",
    "    # 모니터링 할 성능지표\n",
    "    monitor='val_loss',\n",
    "    # 모든 epoch의 파일을 저장하지 않고 좋은 성능이라 판단될 경우만 저장할 때 True설정\n",
    "    save_best_only=False,\n",
    "    save_weights_only=False,\n",
    "    # 성능 지표 최적화\n",
    "    mode='min'\n",
    ")\n",
    "\n",
    "# 훈련\n",
    "history = model.fit(x=train_images, y=train_oh_targets, validation_data=(validation_images, validation_oh_targets), batch_size=64, epochs=20, callbacks=[mcp_cb])"
   ]
  },
  {
   "cell_type": "markdown",
   "id": "10776b7c-c354-45b4-a89e-d3bef76808e3",
   "metadata": {},
   "source": [
    "#### TIP!\n",
    "model을 내보내면 그대로 predict하여 사용하겠다는 의미지만,  \n",
    "weights(가중치)를 내보내는 이유는 weight부터 시작한다는 의미.  \n",
    "weight를 받아서 바로 predict도 할 수 있지만, 이건 model로도 가능하기 때문에 바로 prediect 시 model을 내보낸다.  \n",
    "<sub>*weights부터 시작하면 가중치를 가지고 내 이미지 파일을 다시 훈련하는 느낌</sub>\n",
    "\n",
    "weight를 가져간다는 것은 층도 동일하게 사용하겠다는 것이고 적용 후 튜닝까지 진행 해야한다.  \n",
    "model 보다 사용할 수 있는 폭이 더 크다."
   ]
  },
  {
   "cell_type": "code",
   "execution_count": 8,
   "id": "a58e7f15-f197-420a-8bdc-432708ab0c26",
   "metadata": {},
   "outputs": [
    {
     "name": "stdout",
     "output_type": "stream",
     "text": [
      " C 드라이브의 볼륨에는 이름이 없습니다.\n",
      " 볼륨 일련 번호: 0457-852B\n",
      "\n",
      " C:\\study\\ai\\deep_learning\\c_tensorflow\\callback_files 디렉터리\n",
      "\n",
      "2024-05-28  오후 09:16    <DIR>          .\n",
      "2024-05-28  오후 05:48    <DIR>          ..\n",
      "2024-05-28  오후 09:16           743,334 model.001-0.4347-0.8063.model.keras\n",
      "2024-05-28  오후 09:16           743,334 model.002-0.3916-0.8567.model.keras\n",
      "2024-05-28  오후 09:16           743,334 model.003-0.3560-0.8708.model.keras\n",
      "2024-05-28  오후 09:16           743,334 model.004-0.3485-0.8796.model.keras\n",
      "2024-05-28  오후 09:16           743,334 model.005-0.3542-0.8851.model.keras\n",
      "2024-05-28  오후 09:16           743,334 model.006-0.3124-0.8916.model.keras\n",
      "2024-05-28  오후 09:16           743,334 model.007-0.3158-0.8956.model.keras\n",
      "2024-05-28  오후 09:16           743,334 model.008-0.3230-0.8990.model.keras\n",
      "2024-05-28  오후 09:16           743,334 model.009-0.3136-0.9039.model.keras\n",
      "2024-05-28  오후 09:16           743,334 model.010-0.3177-0.9057.model.keras\n",
      "2024-05-28  오후 09:16           743,334 model.011-0.3277-0.9085.model.keras\n",
      "2024-05-28  오후 09:16           743,334 model.012-0.3243-0.9126.model.keras\n",
      "2024-05-28  오후 09:16           743,334 model.013-0.3119-0.9142.model.keras\n",
      "2024-05-28  오후 09:16           743,334 model.014-0.3112-0.9164.model.keras\n",
      "2024-05-28  오후 09:16           743,334 model.015-0.3173-0.9192.model.keras\n",
      "2024-05-28  오후 09:16           743,334 model.016-0.3320-0.9206.model.keras\n",
      "2024-05-28  오후 09:16           743,334 model.017-0.3255-0.9241.model.keras\n",
      "2024-05-28  오후 09:16           743,334 model.018-0.3277-0.9254.model.keras\n",
      "2024-05-28  오후 09:16           743,334 model.019-0.3251-0.9265.model.keras\n",
      "2024-05-28  오후 09:16           743,334 model.020-0.3290-0.9286.model.keras\n",
      "2024-05-28  오후 09:15           739,600 weights.001-0.4434-0.8052.weights.h5\n",
      "2024-05-28  오후 09:15           739,600 weights.002-0.3764-0.8602.weights.h5\n",
      "2024-05-28  오후 09:15           739,600 weights.003-0.3624-0.8714.weights.h5\n",
      "2024-05-28  오후 09:15           739,600 weights.004-0.3578-0.8805.weights.h5\n",
      "2024-05-28  오후 09:15           739,600 weights.005-0.3300-0.8862.weights.h5\n",
      "2024-05-28  오후 09:15           739,600 weights.006-0.3366-0.8917.weights.h5\n",
      "2024-05-28  오후 09:15           739,600 weights.007-0.3524-0.8948.weights.h5\n",
      "2024-05-28  오후 09:15           739,600 weights.008-0.3169-0.8984.weights.h5\n",
      "2024-05-28  오후 09:15           739,600 weights.009-0.3253-0.9017.weights.h5\n",
      "2024-05-28  오후 09:15           739,600 weights.010-0.3326-0.9050.weights.h5\n",
      "2024-05-28  오후 09:15           739,600 weights.011-0.3124-0.9085.weights.h5\n",
      "2024-05-28  오후 09:15           739,600 weights.012-0.3157-0.9097.weights.h5\n",
      "2024-05-28  오후 09:15           739,600 weights.013-0.3313-0.9128.weights.h5\n",
      "2024-05-28  오후 09:15           739,600 weights.014-0.3248-0.9147.weights.h5\n",
      "2024-05-28  오후 09:15           739,600 weights.015-0.3265-0.9175.weights.h5\n",
      "2024-05-28  오후 09:15           739,600 weights.016-0.3463-0.9208.weights.h5\n",
      "2024-05-28  오후 09:15           739,600 weights.017-0.3221-0.9216.weights.h5\n",
      "2024-05-28  오후 09:16           739,600 weights.018-0.3221-0.9249.weights.h5\n",
      "2024-05-28  오후 09:16           739,600 weights.019-0.3230-0.9262.weights.h5\n",
      "2024-05-28  오후 09:16           739,600 weights.020-0.3514-0.9290.weights.h5\n",
      "              40개 파일          29,658,680 바이트\n",
      "               2개 디렉터리  1,822,839,304,192 바이트 남음\n"
     ]
    }
   ],
   "source": [
    "# 현재 디렉토리 내 특정 폴더 확인\n",
    "!dir callback_files"
   ]
  },
  {
   "cell_type": "code",
   "execution_count": 9,
   "id": "7ec10d0d-fec8-4b37-85f6-2e5e0d9860d4",
   "metadata": {},
   "outputs": [
    {
     "name": "stdout",
     "output_type": "stream",
     "text": [
      "\u001b[1m313/313\u001b[0m \u001b[32m━━━━━━━━━━━━━━━━━━━━\u001b[0m\u001b[37m\u001b[0m \u001b[1m0s\u001b[0m 737us/step - acc: 0.8835 - loss: 0.3604\n"
     ]
    },
    {
     "data": {
      "text/plain": [
       "[0.3568391501903534, 0.8826000094413757]"
      ]
     },
     "execution_count": 9,
     "metadata": {},
     "output_type": "execute_result"
    }
   ],
   "source": [
    "# 평가\n",
    "model.evaluate(test_images, test_oh_targets)"
   ]
  },
  {
   "cell_type": "code",
   "execution_count": 10,
   "id": "008b8f24-b71c-4e29-acda-f01c6ac2389c",
   "metadata": {},
   "outputs": [
    {
     "name": "stdout",
     "output_type": "stream",
     "text": [
      "\u001b[1m313/313\u001b[0m \u001b[32m━━━━━━━━━━━━━━━━━━━━\u001b[0m\u001b[37m\u001b[0m \u001b[1m1s\u001b[0m 1ms/step - acc: 0.8842 - loss: 0.3654\n"
     ]
    },
    {
     "data": {
      "text/plain": [
       "[0.3636404871940613, 0.8835999965667725]"
      ]
     },
     "execution_count": 10,
     "metadata": {},
     "output_type": "execute_result"
    }
   ],
   "source": [
    "# 인공 신경망 생성 함수를 통해 인공 신경망 생성\n",
    "model = create_model()\n",
    "# 저장된 가중치 파일을 불러오기\n",
    "model.load_weights('./callback_files/weights.019-0.3230-0.9262.weights.h5')\n",
    "\n",
    "# 모델 컴파일\n",
    "model.compile(optimizer=Adam(), loss=CategoricalCrossentropy(), metrics=['acc'])\n",
    "# 평가\n",
    "model.evaluate(test_images, test_oh_targets)"
   ]
  },
  {
   "cell_type": "code",
   "execution_count": 11,
   "id": "02362bbe-aed5-4d0a-aae7-f50ffaa6bc20",
   "metadata": {},
   "outputs": [
    {
     "name": "stdout",
     "output_type": "stream",
     "text": [
      "\u001b[1m313/313\u001b[0m \u001b[32m━━━━━━━━━━━━━━━━━━━━\u001b[0m\u001b[37m\u001b[0m \u001b[1m1s\u001b[0m 2ms/step - acc: 0.8841 - loss: 0.3563\n"
     ]
    },
    {
     "data": {
      "text/plain": [
       "[0.3618769645690918, 0.8840000033378601]"
      ]
     },
     "execution_count": 11,
     "metadata": {},
     "output_type": "execute_result"
    }
   ],
   "source": [
    "from tensorflow.keras.models import load_model\n",
    "\n",
    "# 저장된 모데 파일 불러오기\n",
    "model = load_model('./callback_files/model.020-0.3290-0.9286.model.keras')\n",
    "# 평가\n",
    "model.evaluate(test_images, test_oh_targets)"
   ]
  },
  {
   "cell_type": "markdown",
   "id": "9f499abd-4391-4a71-9cf9-540d3c5d6b39",
   "metadata": {},
   "source": [
    "### ReduceLROnPlateau"
   ]
  },
  {
   "cell_type": "code",
   "execution_count": 12,
   "id": "926b7d7b-b458-4bdd-bb47-7d713275f26d",
   "metadata": {},
   "outputs": [
    {
     "name": "stdout",
     "output_type": "stream",
     "text": [
      "Epoch 1/20\n",
      "\u001b[1m750/750\u001b[0m \u001b[32m━━━━━━━━━━━━━━━━━━━━\u001b[0m\u001b[37m\u001b[0m \u001b[1m3s\u001b[0m 3ms/step - acc: 0.7362 - loss: 0.7594 - val_acc: 0.8376 - val_loss: 0.4484 - learning_rate: 0.0010\n",
      "Epoch 2/20\n",
      "\u001b[1m750/750\u001b[0m \u001b[32m━━━━━━━━━━━━━━━━━━━━\u001b[0m\u001b[37m\u001b[0m \u001b[1m2s\u001b[0m 3ms/step - acc: 0.8533 - loss: 0.4135 - val_acc: 0.8609 - val_loss: 0.3844 - learning_rate: 0.0010\n",
      "Epoch 3/20\n",
      "\u001b[1m750/750\u001b[0m \u001b[32m━━━━━━━━━━━━━━━━━━━━\u001b[0m\u001b[37m\u001b[0m \u001b[1m2s\u001b[0m 2ms/step - acc: 0.8688 - loss: 0.3563 - val_acc: 0.8694 - val_loss: 0.3604 - learning_rate: 0.0010\n",
      "Epoch 4/20\n",
      "\u001b[1m750/750\u001b[0m \u001b[32m━━━━━━━━━━━━━━━━━━━━\u001b[0m\u001b[37m\u001b[0m \u001b[1m2s\u001b[0m 2ms/step - acc: 0.8795 - loss: 0.3332 - val_acc: 0.8671 - val_loss: 0.3621 - learning_rate: 0.0010\n",
      "Epoch 5/20\n",
      "\u001b[1m750/750\u001b[0m \u001b[32m━━━━━━━━━━━━━━━━━━━━\u001b[0m\u001b[37m\u001b[0m \u001b[1m2s\u001b[0m 2ms/step - acc: 0.8853 - loss: 0.3112 - val_acc: 0.8740 - val_loss: 0.3373 - learning_rate: 0.0010\n",
      "Epoch 6/20\n",
      "\u001b[1m750/750\u001b[0m \u001b[32m━━━━━━━━━━━━━━━━━━━━\u001b[0m\u001b[37m\u001b[0m \u001b[1m2s\u001b[0m 3ms/step - acc: 0.8900 - loss: 0.2962 - val_acc: 0.8793 - val_loss: 0.3199 - learning_rate: 0.0010\n",
      "Epoch 7/20\n",
      "\u001b[1m750/750\u001b[0m \u001b[32m━━━━━━━━━━━━━━━━━━━━\u001b[0m\u001b[37m\u001b[0m \u001b[1m2s\u001b[0m 3ms/step - acc: 0.8954 - loss: 0.2803 - val_acc: 0.8819 - val_loss: 0.3192 - learning_rate: 0.0010\n",
      "Epoch 8/20\n",
      "\u001b[1m750/750\u001b[0m \u001b[32m━━━━━━━━━━━━━━━━━━━━\u001b[0m\u001b[37m\u001b[0m \u001b[1m2s\u001b[0m 2ms/step - acc: 0.8989 - loss: 0.2732 - val_acc: 0.8788 - val_loss: 0.3372 - learning_rate: 0.0010\n",
      "Epoch 9/20\n",
      "\u001b[1m750/750\u001b[0m \u001b[32m━━━━━━━━━━━━━━━━━━━━\u001b[0m\u001b[37m\u001b[0m \u001b[1m2s\u001b[0m 3ms/step - acc: 0.9017 - loss: 0.2629 - val_acc: 0.8827 - val_loss: 0.3263 - learning_rate: 0.0010\n",
      "Epoch 10/20\n",
      "\u001b[1m750/750\u001b[0m \u001b[32m━━━━━━━━━━━━━━━━━━━━\u001b[0m\u001b[37m\u001b[0m \u001b[1m2s\u001b[0m 2ms/step - acc: 0.9150 - loss: 0.2306 - val_acc: 0.8923 - val_loss: 0.2966 - learning_rate: 1.0000e-04\n",
      "Epoch 11/20\n",
      "\u001b[1m750/750\u001b[0m \u001b[32m━━━━━━━━━━━━━━━━━━━━\u001b[0m\u001b[37m\u001b[0m \u001b[1m2s\u001b[0m 2ms/step - acc: 0.9170 - loss: 0.2234 - val_acc: 0.8923 - val_loss: 0.2980 - learning_rate: 1.0000e-04\n",
      "Epoch 12/20\n",
      "\u001b[1m750/750\u001b[0m \u001b[32m━━━━━━━━━━━━━━━━━━━━\u001b[0m\u001b[37m\u001b[0m \u001b[1m2s\u001b[0m 2ms/step - acc: 0.9235 - loss: 0.2136 - val_acc: 0.8926 - val_loss: 0.2973 - learning_rate: 1.0000e-04\n",
      "Epoch 13/20\n",
      "\u001b[1m750/750\u001b[0m \u001b[32m━━━━━━━━━━━━━━━━━━━━\u001b[0m\u001b[37m\u001b[0m \u001b[1m2s\u001b[0m 2ms/step - acc: 0.9230 - loss: 0.2100 - val_acc: 0.8930 - val_loss: 0.2956 - learning_rate: 1.0000e-05\n",
      "Epoch 14/20\n",
      "\u001b[1m750/750\u001b[0m \u001b[32m━━━━━━━━━━━━━━━━━━━━\u001b[0m\u001b[37m\u001b[0m \u001b[1m2s\u001b[0m 2ms/step - acc: 0.9225 - loss: 0.2088 - val_acc: 0.8928 - val_loss: 0.2954 - learning_rate: 1.0000e-05\n",
      "Epoch 15/20\n",
      "\u001b[1m750/750\u001b[0m \u001b[32m━━━━━━━━━━━━━━━━━━━━\u001b[0m\u001b[37m\u001b[0m \u001b[1m2s\u001b[0m 3ms/step - acc: 0.9229 - loss: 0.2094 - val_acc: 0.8932 - val_loss: 0.2956 - learning_rate: 1.0000e-05\n",
      "Epoch 16/20\n",
      "\u001b[1m750/750\u001b[0m \u001b[32m━━━━━━━━━━━━━━━━━━━━\u001b[0m\u001b[37m\u001b[0m \u001b[1m2s\u001b[0m 3ms/step - acc: 0.9235 - loss: 0.2066 - val_acc: 0.8923 - val_loss: 0.2956 - learning_rate: 1.0000e-05\n",
      "Epoch 17/20\n",
      "\u001b[1m750/750\u001b[0m \u001b[32m━━━━━━━━━━━━━━━━━━━━\u001b[0m\u001b[37m\u001b[0m \u001b[1m2s\u001b[0m 2ms/step - acc: 0.9234 - loss: 0.2088 - val_acc: 0.8928 - val_loss: 0.2955 - learning_rate: 1.0000e-06\n",
      "Epoch 18/20\n",
      "\u001b[1m750/750\u001b[0m \u001b[32m━━━━━━━━━━━━━━━━━━━━\u001b[0m\u001b[37m\u001b[0m \u001b[1m2s\u001b[0m 3ms/step - acc: 0.9228 - loss: 0.2082 - val_acc: 0.8927 - val_loss: 0.2955 - learning_rate: 1.0000e-06\n",
      "Epoch 19/20\n",
      "\u001b[1m750/750\u001b[0m \u001b[32m━━━━━━━━━━━━━━━━━━━━\u001b[0m\u001b[37m\u001b[0m \u001b[1m2s\u001b[0m 2ms/step - acc: 0.9242 - loss: 0.2054 - val_acc: 0.8927 - val_loss: 0.2955 - learning_rate: 1.0000e-07\n",
      "Epoch 20/20\n",
      "\u001b[1m750/750\u001b[0m \u001b[32m━━━━━━━━━━━━━━━━━━━━\u001b[0m\u001b[37m\u001b[0m \u001b[1m2s\u001b[0m 2ms/step - acc: 0.9252 - loss: 0.2048 - val_acc: 0.8927 - val_loss: 0.2955 - learning_rate: 1.0000e-07\n"
     ]
    }
   ],
   "source": [
    "from tensorflow.keras.optimizers import Adam\n",
    "from tensorflow.keras.losses import CategoricalCrossentropy\n",
    "from tensorflow.keras.callbacks import ReduceLROnPlateau\n",
    "\n",
    "# 인공 신경망 생성 함수를 통해 인공 신경망 생성\n",
    "model = create_model()\n",
    "# 모델 컴파일\n",
    "model.compile(optimizer=Adam(), loss=CategoricalCrossentropy(), metrics=['acc'])\n",
    "\n",
    "# 일정 기간 동안 성능이 개선되지 않을 시 학습률 동적으로 감소\n",
    "rlr_cb = ReduceLROnPlateau(\n",
    "    # 모니터링 할 성능지표\n",
    "    monitor='val_loss',\n",
    "    # 감소할 학습률 지정\n",
    "    factor=0.1,\n",
    "    # 성능 미개선 반복 횟수\n",
    "    patience=2,\n",
    "    # 성능 지표 최적화\n",
    "    mode='min'\n",
    ")\n",
    "\n",
    "# 훈련\n",
    "history = model.fit(x=train_images, y=train_oh_targets, validation_data=(validation_images, validation_oh_targets), batch_size=64, epochs=20, callbacks=[rlr_cb])"
   ]
  },
  {
   "cell_type": "code",
   "execution_count": 13,
   "id": "ae97ea23-cfcf-4fa0-9fdd-61e56234174e",
   "metadata": {},
   "outputs": [
    {
     "name": "stdout",
     "output_type": "stream",
     "text": [
      "\u001b[1m313/313\u001b[0m \u001b[32m━━━━━━━━━━━━━━━━━━━━\u001b[0m\u001b[37m\u001b[0m \u001b[1m0s\u001b[0m 2ms/step - acc: 0.8876 - loss: 0.3218\n"
     ]
    },
    {
     "data": {
      "text/plain": [
       "[0.3224271833896637, 0.8871999979019165]"
      ]
     },
     "execution_count": 13,
     "metadata": {},
     "output_type": "execute_result"
    }
   ],
   "source": [
    "# 평가\n",
    "model.evaluate(test_images, test_oh_targets)"
   ]
  },
  {
   "cell_type": "markdown",
   "id": "08b275b4-a4f2-4544-97da-228a70e015f7",
   "metadata": {},
   "source": [
    "### EarlyStopping"
   ]
  },
  {
   "cell_type": "code",
   "execution_count": 14,
   "id": "8d026d9a-f4a8-4174-aba0-e5559c90a82f",
   "metadata": {},
   "outputs": [
    {
     "name": "stdout",
     "output_type": "stream",
     "text": [
      "Epoch 1/20\n",
      "\u001b[1m750/750\u001b[0m \u001b[32m━━━━━━━━━━━━━━━━━━━━\u001b[0m\u001b[37m\u001b[0m \u001b[1m3s\u001b[0m 3ms/step - acc: 0.7413 - loss: 0.7508 - val_acc: 0.8451 - val_loss: 0.4309\n",
      "Epoch 2/20\n",
      "\u001b[1m750/750\u001b[0m \u001b[32m━━━━━━━━━━━━━━━━━━━━\u001b[0m\u001b[37m\u001b[0m \u001b[1m2s\u001b[0m 2ms/step - acc: 0.8544 - loss: 0.4085 - val_acc: 0.8605 - val_loss: 0.3815\n",
      "Epoch 3/20\n",
      "\u001b[1m750/750\u001b[0m \u001b[32m━━━━━━━━━━━━━━━━━━━━\u001b[0m\u001b[37m\u001b[0m \u001b[1m2s\u001b[0m 2ms/step - acc: 0.8701 - loss: 0.3596 - val_acc: 0.8684 - val_loss: 0.3615\n",
      "Epoch 4/20\n",
      "\u001b[1m750/750\u001b[0m \u001b[32m━━━━━━━━━━━━━━━━━━━━\u001b[0m\u001b[37m\u001b[0m \u001b[1m2s\u001b[0m 2ms/step - acc: 0.8765 - loss: 0.3293 - val_acc: 0.8703 - val_loss: 0.3581\n",
      "Epoch 5/20\n",
      "\u001b[1m750/750\u001b[0m \u001b[32m━━━━━━━━━━━━━━━━━━━━\u001b[0m\u001b[37m\u001b[0m \u001b[1m2s\u001b[0m 2ms/step - acc: 0.8869 - loss: 0.3101 - val_acc: 0.8767 - val_loss: 0.3334\n",
      "Epoch 6/20\n",
      "\u001b[1m750/750\u001b[0m \u001b[32m━━━━━━━━━━━━━━━━━━━━\u001b[0m\u001b[37m\u001b[0m \u001b[1m2s\u001b[0m 3ms/step - acc: 0.8902 - loss: 0.2960 - val_acc: 0.8775 - val_loss: 0.3323\n",
      "Epoch 7/20\n",
      "\u001b[1m750/750\u001b[0m \u001b[32m━━━━━━━━━━━━━━━━━━━━\u001b[0m\u001b[37m\u001b[0m \u001b[1m2s\u001b[0m 3ms/step - acc: 0.8961 - loss: 0.2817 - val_acc: 0.8775 - val_loss: 0.3389\n",
      "Epoch 8/20\n",
      "\u001b[1m750/750\u001b[0m \u001b[32m━━━━━━━━━━━━━━━━━━━━\u001b[0m\u001b[37m\u001b[0m \u001b[1m2s\u001b[0m 2ms/step - acc: 0.8989 - loss: 0.2720 - val_acc: 0.8869 - val_loss: 0.3155\n",
      "Epoch 9/20\n",
      "\u001b[1m750/750\u001b[0m \u001b[32m━━━━━━━━━━━━━━━━━━━━\u001b[0m\u001b[37m\u001b[0m \u001b[1m2s\u001b[0m 3ms/step - acc: 0.9069 - loss: 0.2549 - val_acc: 0.8867 - val_loss: 0.3123\n",
      "Epoch 10/20\n",
      "\u001b[1m750/750\u001b[0m \u001b[32m━━━━━━━━━━━━━━━━━━━━\u001b[0m\u001b[37m\u001b[0m \u001b[1m2s\u001b[0m 3ms/step - acc: 0.9090 - loss: 0.2462 - val_acc: 0.8818 - val_loss: 0.3249\n",
      "Epoch 11/20\n",
      "\u001b[1m750/750\u001b[0m \u001b[32m━━━━━━━━━━━━━━━━━━━━\u001b[0m\u001b[37m\u001b[0m \u001b[1m2s\u001b[0m 3ms/step - acc: 0.9100 - loss: 0.2394 - val_acc: 0.8825 - val_loss: 0.3326\n",
      "Epoch 12/20\n",
      "\u001b[1m750/750\u001b[0m \u001b[32m━━━━━━━━━━━━━━━━━━━━\u001b[0m\u001b[37m\u001b[0m \u001b[1m2s\u001b[0m 2ms/step - acc: 0.9111 - loss: 0.2335 - val_acc: 0.8877 - val_loss: 0.3135\n"
     ]
    }
   ],
   "source": [
    "from tensorflow.keras.optimizers import Adam\n",
    "from tensorflow.keras.losses import CategoricalCrossentropy\n",
    "from tensorflow.keras.callbacks import EarlyStopping\n",
    "\n",
    "# 인공 신경망 생성 함수를 통해 인공 신경망 생성\n",
    "model = create_model()\n",
    "# 모델 컴파일\n",
    "model.compile(optimizer=Adam(), loss=CategoricalCrossentropy(), metrics=['acc'])\n",
    "\n",
    "# 일정 기간 동안 성능이 개선되지 않을 시 학습 조기 중단\n",
    "ely_cb = EarlyStopping(\n",
    "    # 모니터링 할 성능지표\n",
    "    monitor='val_loss',\n",
    "    # 성능 미개선 반복 횟수\n",
    "    patience=3,\n",
    "    # 성능 지표 최적화\n",
    "    mode='min'\n",
    ")\n",
    "\n",
    "history = model.fit(x=train_images, y=train_oh_targets, validation_data=(validation_images, validation_oh_targets), batch_size=64, epochs=20, callbacks=[ely_cb])"
   ]
  },
  {
   "cell_type": "code",
   "execution_count": 15,
   "id": "e1742f97-8a5a-47c7-af75-bf5ac009a19f",
   "metadata": {},
   "outputs": [
    {
     "name": "stdout",
     "output_type": "stream",
     "text": [
      "\u001b[1m313/313\u001b[0m \u001b[32m━━━━━━━━━━━━━━━━━━━━\u001b[0m\u001b[37m\u001b[0m \u001b[1m0s\u001b[0m 1ms/step - acc: 0.8818 - loss: 0.3512\n"
     ]
    },
    {
     "data": {
      "text/plain": [
       "[0.35141339898109436, 0.881600022315979]"
      ]
     },
     "execution_count": 15,
     "metadata": {},
     "output_type": "execute_result"
    }
   ],
   "source": [
    "# 평가\n",
    "model.evaluate(test_images, test_oh_targets)"
   ]
  },
  {
   "cell_type": "markdown",
   "id": "3811ec0f-5ce2-4a40-83fd-0a6bed966ee5",
   "metadata": {},
   "source": [
    "### ALL"
   ]
  },
  {
   "cell_type": "code",
   "execution_count": 16,
   "id": "2ffe4d70-485d-4c66-b463-a69eca423c1d",
   "metadata": {},
   "outputs": [
    {
     "name": "stdout",
     "output_type": "stream",
     "text": [
      "Epoch 1/20\n",
      "\u001b[1m750/750\u001b[0m \u001b[32m━━━━━━━━━━━━━━━━━━━━\u001b[0m\u001b[37m\u001b[0m \u001b[1m3s\u001b[0m 3ms/step - acc: 0.7473 - loss: 0.7404 - val_acc: 0.8506 - val_loss: 0.4224 - learning_rate: 0.0010\n",
      "Epoch 2/20\n",
      "\u001b[1m750/750\u001b[0m \u001b[32m━━━━━━━━━━━━━━━━━━━━\u001b[0m\u001b[37m\u001b[0m \u001b[1m2s\u001b[0m 3ms/step - acc: 0.8499 - loss: 0.4166 - val_acc: 0.8620 - val_loss: 0.3771 - learning_rate: 0.0010\n",
      "Epoch 3/20\n",
      "\u001b[1m750/750\u001b[0m \u001b[32m━━━━━━━━━━━━━━━━━━━━\u001b[0m\u001b[37m\u001b[0m \u001b[1m2s\u001b[0m 3ms/step - acc: 0.8688 - loss: 0.3653 - val_acc: 0.8717 - val_loss: 0.3527 - learning_rate: 0.0010\n",
      "Epoch 4/20\n",
      "\u001b[1m750/750\u001b[0m \u001b[32m━━━━━━━━━━━━━━━━━━━━\u001b[0m\u001b[37m\u001b[0m \u001b[1m2s\u001b[0m 2ms/step - acc: 0.8819 - loss: 0.3279 - val_acc: 0.8753 - val_loss: 0.3391 - learning_rate: 0.0010\n",
      "Epoch 5/20\n",
      "\u001b[1m750/750\u001b[0m \u001b[32m━━━━━━━━━━━━━━━━━━━━\u001b[0m\u001b[37m\u001b[0m \u001b[1m2s\u001b[0m 2ms/step - acc: 0.8882 - loss: 0.3076 - val_acc: 0.8755 - val_loss: 0.3454 - learning_rate: 0.0010\n",
      "Epoch 6/20\n",
      "\u001b[1m750/750\u001b[0m \u001b[32m━━━━━━━━━━━━━━━━━━━━\u001b[0m\u001b[37m\u001b[0m \u001b[1m2s\u001b[0m 2ms/step - acc: 0.8895 - loss: 0.2976 - val_acc: 0.8764 - val_loss: 0.3412 - learning_rate: 0.0010\n",
      "Epoch 7/20\n",
      "\u001b[1m750/750\u001b[0m \u001b[32m━━━━━━━━━━━━━━━━━━━━\u001b[0m\u001b[37m\u001b[0m \u001b[1m2s\u001b[0m 3ms/step - acc: 0.9069 - loss: 0.2572 - val_acc: 0.8858 - val_loss: 0.3091 - learning_rate: 1.0000e-04\n",
      "Epoch 8/20\n",
      "\u001b[1m750/750\u001b[0m \u001b[32m━━━━━━━━━━━━━━━━━━━━\u001b[0m\u001b[37m\u001b[0m \u001b[1m2s\u001b[0m 2ms/step - acc: 0.9092 - loss: 0.2467 - val_acc: 0.8853 - val_loss: 0.3080 - learning_rate: 1.0000e-04\n",
      "Epoch 9/20\n",
      "\u001b[1m750/750\u001b[0m \u001b[32m━━━━━━━━━━━━━━━━━━━━\u001b[0m\u001b[37m\u001b[0m \u001b[1m2s\u001b[0m 3ms/step - acc: 0.9114 - loss: 0.2425 - val_acc: 0.8857 - val_loss: 0.3086 - learning_rate: 1.0000e-04\n",
      "Epoch 10/20\n",
      "\u001b[1m750/750\u001b[0m \u001b[32m━━━━━━━━━━━━━━━━━━━━\u001b[0m\u001b[37m\u001b[0m \u001b[1m2s\u001b[0m 3ms/step - acc: 0.9106 - loss: 0.2379 - val_acc: 0.8860 - val_loss: 0.3087 - learning_rate: 1.0000e-04\n",
      "Epoch 11/20\n",
      "\u001b[1m750/750\u001b[0m \u001b[32m━━━━━━━━━━━━━━━━━━━━\u001b[0m\u001b[37m\u001b[0m \u001b[1m2s\u001b[0m 3ms/step - acc: 0.9132 - loss: 0.2385 - val_acc: 0.8888 - val_loss: 0.3038 - learning_rate: 1.0000e-05\n",
      "Epoch 12/20\n",
      "\u001b[1m750/750\u001b[0m \u001b[32m━━━━━━━━━━━━━━━━━━━━\u001b[0m\u001b[37m\u001b[0m \u001b[1m2s\u001b[0m 2ms/step - acc: 0.9156 - loss: 0.2321 - val_acc: 0.8882 - val_loss: 0.3034 - learning_rate: 1.0000e-05\n",
      "Epoch 13/20\n",
      "\u001b[1m750/750\u001b[0m \u001b[32m━━━━━━━━━━━━━━━━━━━━\u001b[0m\u001b[37m\u001b[0m \u001b[1m2s\u001b[0m 2ms/step - acc: 0.9139 - loss: 0.2338 - val_acc: 0.8882 - val_loss: 0.3035 - learning_rate: 1.0000e-05\n",
      "Epoch 14/20\n",
      "\u001b[1m750/750\u001b[0m \u001b[32m━━━━━━━━━━━━━━━━━━━━\u001b[0m\u001b[37m\u001b[0m \u001b[1m2s\u001b[0m 3ms/step - acc: 0.9158 - loss: 0.2317 - val_acc: 0.8882 - val_loss: 0.3036 - learning_rate: 1.0000e-05\n",
      "Epoch 15/20\n",
      "\u001b[1m750/750\u001b[0m \u001b[32m━━━━━━━━━━━━━━━━━━━━\u001b[0m\u001b[37m\u001b[0m \u001b[1m2s\u001b[0m 2ms/step - acc: 0.9151 - loss: 0.2335 - val_acc: 0.8876 - val_loss: 0.3033 - learning_rate: 1.0000e-06\n",
      "Epoch 16/20\n",
      "\u001b[1m750/750\u001b[0m \u001b[32m━━━━━━━━━━━━━━━━━━━━\u001b[0m\u001b[37m\u001b[0m \u001b[1m2s\u001b[0m 2ms/step - acc: 0.9165 - loss: 0.2289 - val_acc: 0.8881 - val_loss: 0.3032 - learning_rate: 1.0000e-06\n",
      "Epoch 17/20\n",
      "\u001b[1m750/750\u001b[0m \u001b[32m━━━━━━━━━━━━━━━━━━━━\u001b[0m\u001b[37m\u001b[0m \u001b[1m2s\u001b[0m 2ms/step - acc: 0.9150 - loss: 0.2308 - val_acc: 0.8878 - val_loss: 0.3032 - learning_rate: 1.0000e-06\n",
      "Epoch 18/20\n",
      "\u001b[1m750/750\u001b[0m \u001b[32m━━━━━━━━━━━━━━━━━━━━\u001b[0m\u001b[37m\u001b[0m \u001b[1m2s\u001b[0m 2ms/step - acc: 0.9136 - loss: 0.2336 - val_acc: 0.8879 - val_loss: 0.3032 - learning_rate: 1.0000e-06\n",
      "Epoch 19/20\n",
      "\u001b[1m750/750\u001b[0m \u001b[32m━━━━━━━━━━━━━━━━━━━━\u001b[0m\u001b[37m\u001b[0m \u001b[1m2s\u001b[0m 3ms/step - acc: 0.9172 - loss: 0.2281 - val_acc: 0.8879 - val_loss: 0.3032 - learning_rate: 1.0000e-07\n",
      "Epoch 20/20\n",
      "\u001b[1m750/750\u001b[0m \u001b[32m━━━━━━━━━━━━━━━━━━━━\u001b[0m\u001b[37m\u001b[0m \u001b[1m2s\u001b[0m 2ms/step - acc: 0.9136 - loss: 0.2363 - val_acc: 0.8879 - val_loss: 0.3032 - learning_rate: 1.0000e-07\n"
     ]
    }
   ],
   "source": [
    "from tensorflow.keras.optimizers import Adam\n",
    "from tensorflow.keras.losses import CategoricalCrossentropy\n",
    "from tensorflow.keras.callbacks import ModelCheckpoint\n",
    "\n",
    "model = create_model()\n",
    "model.compile(optimizer=Adam(), loss=CategoricalCrossentropy(), metrics=['acc'])\n",
    "\n",
    "# weights 저장\n",
    "mcp_cb = ModelCheckpoint(\n",
    "    # 경로 지정\n",
    "    filepath=\"./callback_files/weights.{epoch:03d}-{val_loss:.4f}-{acc:.4f}.weights.h5\",\n",
    "    # 모니터링 할 성능지표\n",
    "    monitor='val_loss',\n",
    "    # 모든 epoch의 파일을 저장하지 않고 좋은 성능이라 판단될 경우만 저장할 때 True설정\n",
    "    save_best_only=False,\n",
    "    save_weights_only=True,\n",
    "    # 성능 지표 최적화\n",
    "    mode='min'\n",
    ")\n",
    "\n",
    "# 일정 기간 동안 성능이 개선되지 않을 시 학습률 동적으로 감소\n",
    "rlr_cb = ReduceLROnPlateau(\n",
    "    # 모니터링 할 성능지표\n",
    "    monitor='val_loss',\n",
    "    # 감소할 학습률 지정\n",
    "    factor=0.1,\n",
    "    # 성능 미개선 반복 횟수\n",
    "    patience=2,\n",
    "    # 성능 지표 최적화\n",
    "    mode='min'\n",
    ")\n",
    "\n",
    "# 일정 기간 동안 성능이 개선되지 않을 시 학습 조기 중단\n",
    "ely_cb = EarlyStopping(\n",
    "    # 모니터링 할 성능지표\n",
    "    monitor='val_loss',\n",
    "    # 성능 미개선 반복 횟수\n",
    "    patience=3,\n",
    "    # 성능 지표 최적화\n",
    "    mode='min'\n",
    ")\n",
    "\n",
    "# 훈련\n",
    "history = model.fit(x=train_images, y=train_oh_targets, validation_data=(validation_images, validation_oh_targets), batch_size=64, epochs=20, callbacks=[mcp_cb, rlr_cb, ely_cb])"
   ]
  },
  {
   "cell_type": "code",
   "execution_count": 17,
   "id": "c4525e62-f927-481f-afe9-dafb3515a22f",
   "metadata": {},
   "outputs": [
    {
     "name": "stdout",
     "output_type": "stream",
     "text": [
      "\u001b[1m313/313\u001b[0m \u001b[32m━━━━━━━━━━━━━━━━━━━━\u001b[0m\u001b[37m\u001b[0m \u001b[1m0s\u001b[0m 1ms/step - acc: 0.8838 - loss: 0.3238\n"
     ]
    },
    {
     "data": {
      "text/plain": [
       "[0.32640039920806885, 0.8823999762535095]"
      ]
     },
     "execution_count": 17,
     "metadata": {},
     "output_type": "execute_result"
    }
   ],
   "source": [
    "# 평가\n",
    "model.evaluate(test_images, test_oh_targets)"
   ]
  }
 ],
 "metadata": {
  "kernelspec": {
   "display_name": "Python 3 (ipykernel)",
   "language": "python",
   "name": "python3"
  },
  "language_info": {
   "codemirror_mode": {
    "name": "ipython",
    "version": 3
   },
   "file_extension": ".py",
   "mimetype": "text/x-python",
   "name": "python",
   "nbconvert_exporter": "python",
   "pygments_lexer": "ipython3",
   "version": "3.11.8"
  }
 },
 "nbformat": 4,
 "nbformat_minor": 5
}
