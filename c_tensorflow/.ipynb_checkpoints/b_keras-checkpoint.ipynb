{
 "cells": [
  {
   "cell_type": "markdown",
   "id": "c4a14c7b-b8df-4002-b92c-95de425d4c39",
   "metadata": {},
   "source": [
    "### Sequential API, Functional API\n",
    "\n",
    "#### Sequential API (단순한것)\n",
    "- 간단한 모델을 구현하기에 적합하고 단순하게 층을 쌓는 방식으로 쉽고 사용하기가 간단하다.\n",
    "- 단일 입력 및 출력만 있으므로 레이어를 공유하거나 여러 입력 또는 출력을 가질 수 있는 모델을 생성할 수 없다.\n",
    "\n",
    "#### Functional API (복잡한것, 단 단순한것도 functional로도 사용함)\n",
    "- Functional API는 Sequential API로는 구현하기 어려운 복잡한 모델들을 구현할 수 있다.\n",
    "- 여러 개의 입력 및 출력을 가진 모델을 구현하거나 층 간의 연결 및 연산을 수행하는 모델 구현 시 사용한다.\n",
    "\n",
    "#### 성능 평가\n",
    "<img src=\"./images/validation.png\" width=\"700\" style=\"margin-left: 0\">\n",
    "퍼포먼스 이스티메이션(사전에 만들어진 모델을 사용할 때)  \n",
    "큰 데이터 세트에서는 그냥 표준대로 해라!  \n",
    "스몰 데이터 세트는 반복해서 데이터 할 수 있도록 하고 부트스트랩을 사용해서 해라! = 더 훈련할 수 있겠끔 (0.632 부트스트랩은 부투스트랩 이름)  \n",
    "데이터 세트가 너무 적으니까 20%가져와서 하기도 힘듦 그래서 99개 훈련하고 1개 랜덤으로 뽑아와서 검증  \n",
    "\n",
    "\n",
    "하이퍼 파라미터 오티마이제이션  \n",
    "하이퍼파라미터를 최적화할 수 있따면  \n",
    "데이터 개수가 많으면 세가지로 분리해서 하기  \n",
    "\n",
    "데이터 개수가 적으면 \n",
    "데이터 세트가 너무 적으니까 20%가져와서 하기도 힘듦 그래서 99개 훈련하고 1개 랜덤으로 뽑아와서 검증"
   ]
  },
  {
   "cell_type": "markdown",
   "id": "b9f54515-59f4-415b-967e-ac101c87b185",
   "metadata": {},
   "source": [
    "시퀀셜은 ㅐㄷ괄호 열고 시작 제어문 사용 불가 \\\n",
    "펑셔널은 내놓고 사용 제어문 결합 가능, 상황에 따라 튜닝 가능"
   ]
  },
  {
   "cell_type": "code",
   "execution_count": 2,
   "id": "d5cd7e02-db12-44a9-9e85-8b32e9fe0f18",
   "metadata": {},
   "outputs": [
    {
     "name": "stdout",
     "output_type": "stream",
     "text": [
      "(60000, 28, 28) (60000,)\n",
      "(10000, 28, 28) (10000,)\n"
     ]
    }
   ],
   "source": [
    "from tensorflow.keras.datasets import fashion_mnist\n",
    "\n",
    "(train_images, train_targets), (test_images, test_targets) = fashion_mnist.load_data()\n",
    "\n",
    "print(train_images.shape, train_targets.shape)\n",
    "print(test_images.shape, test_targets.shape)"
   ]
  },
  {
   "cell_type": "code",
   "execution_count": 24,
   "id": "a1def109-d946-43ee-82d7-db8aadcc09a7",
   "metadata": {},
   "outputs": [
    {
     "name": "stdout",
     "output_type": "stream",
     "text": [
      "(48000, 28, 28) (48000,)\n",
      "(10000, 28, 28) (10000,)\n"
     ]
    }
   ],
   "source": [
    "import numpy as np\n",
    "\n",
    "def get_preprocessed_data(images, targets):\n",
    "    images = np.array(images / 255.0, dtype=np.float32)\n",
    "    targets = np.array(targets, dtype=np.float32)\n",
    "\n",
    "    return images, targets\n",
    "\n",
    "train_images, train_targets = get_preprocessed_data(train_images, train_targets)\n",
    "test_images, test_targets = get_preprocessed_data(test_images, test_targets)\n",
    "\n",
    "# shape는 변화가 생기면 안됨\n",
    "print(train_images.shape, train_targets.shape)\n",
    "print(test_images.shape, test_targets.shape)"
   ]
  },
  {
   "cell_type": "code",
   "execution_count": 8,
   "id": "a7a1d943-cb54-4c91-a623-07acb00efd3e",
   "metadata": {},
   "outputs": [
    {
     "name": "stderr",
     "output_type": "stream",
     "text": [
      "C:\\Users\\LEGION\\anaconda3\\Lib\\site-packages\\keras\\src\\layers\\reshaping\\flatten.py:37: UserWarning: Do not pass an `input_shape`/`input_dim` argument to a layer. When using Sequential models, prefer using an `Input(shape)` object as the first layer in the model instead.\n",
      "  super().__init__(**kwargs)\n"
     ]
    },
    {
     "data": {
      "text/html": [
       "<pre style=\"white-space:pre;overflow-x:auto;line-height:normal;font-family:Menlo,'DejaVu Sans Mono',consolas,'Courier New',monospace\"><span style=\"font-weight: bold\">Model: \"sequential\"</span>\n",
       "</pre>\n"
      ],
      "text/plain": [
       "\u001b[1mModel: \"sequential\"\u001b[0m\n"
      ]
     },
     "metadata": {},
     "output_type": "display_data"
    },
    {
     "data": {
      "text/html": [
       "<pre style=\"white-space:pre;overflow-x:auto;line-height:normal;font-family:Menlo,'DejaVu Sans Mono',consolas,'Courier New',monospace\">┏━━━━━━━━━━━━━━━━━━━━━━━━━━━━━━━━━━━━━━┳━━━━━━━━━━━━━━━━━━━━━━━━━━━━━┳━━━━━━━━━━━━━━━━━┓\n",
       "┃<span style=\"font-weight: bold\"> Layer (type)                         </span>┃<span style=\"font-weight: bold\"> Output Shape                </span>┃<span style=\"font-weight: bold\">         Param # </span>┃\n",
       "┡━━━━━━━━━━━━━━━━━━━━━━━━━━━━━━━━━━━━━━╇━━━━━━━━━━━━━━━━━━━━━━━━━━━━━╇━━━━━━━━━━━━━━━━━┩\n",
       "│ flatten (<span style=\"color: #0087ff; text-decoration-color: #0087ff\">Flatten</span>)                    │ (<span style=\"color: #00d7ff; text-decoration-color: #00d7ff\">None</span>, <span style=\"color: #00af00; text-decoration-color: #00af00\">64</span>)                  │               <span style=\"color: #00af00; text-decoration-color: #00af00\">0</span> │\n",
       "├──────────────────────────────────────┼─────────────────────────────┼─────────────────┤\n",
       "│ dense (<span style=\"color: #0087ff; text-decoration-color: #0087ff\">Dense</span>)                        │ (<span style=\"color: #00d7ff; text-decoration-color: #00d7ff\">None</span>, <span style=\"color: #00af00; text-decoration-color: #00af00\">64</span>)                  │           <span style=\"color: #00af00; text-decoration-color: #00af00\">4,160</span> │\n",
       "├──────────────────────────────────────┼─────────────────────────────┼─────────────────┤\n",
       "│ dense_1 (<span style=\"color: #0087ff; text-decoration-color: #0087ff\">Dense</span>)                      │ (<span style=\"color: #00d7ff; text-decoration-color: #00d7ff\">None</span>, <span style=\"color: #00af00; text-decoration-color: #00af00\">128</span>)                 │           <span style=\"color: #00af00; text-decoration-color: #00af00\">8,320</span> │\n",
       "├──────────────────────────────────────┼─────────────────────────────┼─────────────────┤\n",
       "│ dense_2 (<span style=\"color: #0087ff; text-decoration-color: #0087ff\">Dense</span>)                      │ (<span style=\"color: #00d7ff; text-decoration-color: #00d7ff\">None</span>, <span style=\"color: #00af00; text-decoration-color: #00af00\">10</span>)                  │           <span style=\"color: #00af00; text-decoration-color: #00af00\">1,290</span> │\n",
       "└──────────────────────────────────────┴─────────────────────────────┴─────────────────┘\n",
       "</pre>\n"
      ],
      "text/plain": [
       "┏━━━━━━━━━━━━━━━━━━━━━━━━━━━━━━━━━━━━━━┳━━━━━━━━━━━━━━━━━━━━━━━━━━━━━┳━━━━━━━━━━━━━━━━━┓\n",
       "┃\u001b[1m \u001b[0m\u001b[1mLayer (type)                        \u001b[0m\u001b[1m \u001b[0m┃\u001b[1m \u001b[0m\u001b[1mOutput Shape               \u001b[0m\u001b[1m \u001b[0m┃\u001b[1m \u001b[0m\u001b[1m        Param #\u001b[0m\u001b[1m \u001b[0m┃\n",
       "┡━━━━━━━━━━━━━━━━━━━━━━━━━━━━━━━━━━━━━━╇━━━━━━━━━━━━━━━━━━━━━━━━━━━━━╇━━━━━━━━━━━━━━━━━┩\n",
       "│ flatten (\u001b[38;5;33mFlatten\u001b[0m)                    │ (\u001b[38;5;45mNone\u001b[0m, \u001b[38;5;34m64\u001b[0m)                  │               \u001b[38;5;34m0\u001b[0m │\n",
       "├──────────────────────────────────────┼─────────────────────────────┼─────────────────┤\n",
       "│ dense (\u001b[38;5;33mDense\u001b[0m)                        │ (\u001b[38;5;45mNone\u001b[0m, \u001b[38;5;34m64\u001b[0m)                  │           \u001b[38;5;34m4,160\u001b[0m │\n",
       "├──────────────────────────────────────┼─────────────────────────────┼─────────────────┤\n",
       "│ dense_1 (\u001b[38;5;33mDense\u001b[0m)                      │ (\u001b[38;5;45mNone\u001b[0m, \u001b[38;5;34m128\u001b[0m)                 │           \u001b[38;5;34m8,320\u001b[0m │\n",
       "├──────────────────────────────────────┼─────────────────────────────┼─────────────────┤\n",
       "│ dense_2 (\u001b[38;5;33mDense\u001b[0m)                      │ (\u001b[38;5;45mNone\u001b[0m, \u001b[38;5;34m10\u001b[0m)                  │           \u001b[38;5;34m1,290\u001b[0m │\n",
       "└──────────────────────────────────────┴─────────────────────────────┴─────────────────┘\n"
      ]
     },
     "metadata": {},
     "output_type": "display_data"
    },
    {
     "data": {
      "text/html": [
       "<pre style=\"white-space:pre;overflow-x:auto;line-height:normal;font-family:Menlo,'DejaVu Sans Mono',consolas,'Courier New',monospace\"><span style=\"font-weight: bold\"> Total params: </span><span style=\"color: #00af00; text-decoration-color: #00af00\">13,770</span> (53.79 KB)\n",
       "</pre>\n"
      ],
      "text/plain": [
       "\u001b[1m Total params: \u001b[0m\u001b[38;5;34m13,770\u001b[0m (53.79 KB)\n"
      ]
     },
     "metadata": {},
     "output_type": "display_data"
    },
    {
     "data": {
      "text/html": [
       "<pre style=\"white-space:pre;overflow-x:auto;line-height:normal;font-family:Menlo,'DejaVu Sans Mono',consolas,'Courier New',monospace\"><span style=\"font-weight: bold\"> Trainable params: </span><span style=\"color: #00af00; text-decoration-color: #00af00\">13,770</span> (53.79 KB)\n",
       "</pre>\n"
      ],
      "text/plain": [
       "\u001b[1m Trainable params: \u001b[0m\u001b[38;5;34m13,770\u001b[0m (53.79 KB)\n"
      ]
     },
     "metadata": {},
     "output_type": "display_data"
    },
    {
     "data": {
      "text/html": [
       "<pre style=\"white-space:pre;overflow-x:auto;line-height:normal;font-family:Menlo,'DejaVu Sans Mono',consolas,'Courier New',monospace\"><span style=\"font-weight: bold\"> Non-trainable params: </span><span style=\"color: #00af00; text-decoration-color: #00af00\">0</span> (0.00 B)\n",
       "</pre>\n"
      ],
      "text/plain": [
       "\u001b[1m Non-trainable params: \u001b[0m\u001b[38;5;34m0\u001b[0m (0.00 B)\n"
      ]
     },
     "metadata": {},
     "output_type": "display_data"
    }
   ],
   "source": [
    "from tensorflow.keras.layers import Flatten, Dense\n",
    "from tensorflow.keras.models import Sequential\n",
    "\n",
    "# Flatten는 층이 아니라 층에 들어가기 전에 사전 작업\n",
    "\n",
    "INPUT_SIZE = 28\n",
    "\n",
    "# Sequential는 list로\n",
    "# 전부 Dense layer라고 부른다.\n",
    "\n",
    "# 학습할 데이터가 많으면 neuron의 개수를 더 많이 지정(예, 64, 128, 256 등)하거나\n",
    "# 은닉층 수를 더 늘리면 된다.\n",
    "# 학습할 데이터가 적으면 neuron의 개수 또는 은닉층 수를 줄이는 것이 좋다.\n",
    "model = Sequential([\n",
    "    # 전체 28 * 28(784)개의 feature로 flatten 진행\n",
    "    # 첫 번째 Input Layer\n",
    "    Flatten(input_shape=(INPUT_SIZE, INPUT_SIZE)),\n",
    "    \n",
    "    # 두 번째 Hidden Layer\n",
    "    # 2의 제곱으로 넣기(64, 128,...) = 바이어스\n",
    "    Dense(64, activation='relu'),\n",
    "    \n",
    "    # 세 번째 Hidden Layer\n",
    "    Dense(128, activation='relu'),\n",
    "    \n",
    "    # 마지막 Output Layer (다중)\n",
    "    Dense(10, activation='softmax')\n",
    "])\n",
    "\n",
    "# 파라미터 수 = (입력 뉴런 수 * 출력 뉴런 수) + 출력 뉴런 수\n",
    "# 이 파라미터 수에는 편향(bias) 파라미터도 포함되어여\n",
    "model.summary()"
   ]
  },
  {
   "cell_type": "markdown",
   "id": "70062235-b853-4fee-8444-0668bf03bb06",
   "metadata": {},
   "source": [
    "학습 데이터가 많으면 뉴런의 개수의 개수를 많이 층도 높이고/ > 시간이 오래걸림 .. 걍해야됨\n",
    "차라리 데이터를 리셈플해서 데이터수를 잘게 쪼개거나\n",
    "애초에 데이터 자체를 랜덤하게 뽑거나..\n",
    "층을 건들지 ㄴㄴ\n",
    "\n",
    "학습할 데이터가 많을 수록 복잡도가 증가\n",
    "학습 데이터가 적으면 복잡도 감소 = 과적합 때문에\n",
    "상황에 따라 다르지만 일단 일반적임\n",
    "첫번재 사이클은 이렇게 돌리기\n",
    "\n",
    "숫자 증가시킨 이유\n",
    "그만큼 학습하라는 의미도 있지만\n",
    "자극을 조금만 줘도 넘어갈 수 있게함"
   ]
  },
  {
   "cell_type": "code",
   "execution_count": 17,
   "id": "2788e9c4-b27c-4e31-9335-b1a697758956",
   "metadata": {},
   "outputs": [],
   "source": [
    "from tensorflow.keras.optimizers import Adam\n",
    "from tensorflow.keras.losses import CategoricalCrossentropy\n",
    "from tensorflow.keras.metrics import Accuracy\n",
    "\n",
    "model.compile(optimizer=Adam(0.001), loss=CategoricalCrossentropy(), metrics=['accuracy'])"
   ]
  },
  {
   "cell_type": "code",
   "execution_count": 15,
   "id": "0d1a2ad7-f003-4cac-a059-331c96dd325d",
   "metadata": {},
   "outputs": [
    {
     "name": "stdout",
     "output_type": "stream",
     "text": [
      "(60000, 10) (10000, 10)\n"
     ]
    }
   ],
   "source": [
    "from tensorflow.keras.utils import to_categorical\n",
    "\n",
    "train_oh_targets = to_categorical(train_targets)\n",
    "test_oh_targets = to_categorical(test_targets)\n",
    "\n",
    "print(train_oh_targets.shape, test_oh_targets.shape)\n",
    "\n",
    "# (원핫 인코딩)10개 피처에 60000개 행"
   ]
  },
  {
   "cell_type": "code",
   "execution_count": null,
   "id": "afe18d22-e211-461e-81ca-55c95c06d2cf",
   "metadata": {},
   "outputs": [],
   "source": [
    "# 검증 데이터와 훈련 데이터가 히스토리에 담김\n",
    "# batch_size도 2의 제곱으로 가기 \n",
    "history = model.fit(x=train_images, y=train_oh_targets, batch_size=64, epochs=20)"
   ]
  },
  {
   "cell_type": "code",
   "execution_count": null,
   "id": "ddc5e780-1d76-4e8a-a0fd-19d7b08b1eb9",
   "metadata": {},
   "outputs": [],
   "source": [
    "history.history\n",
    "# 정확도랑 loss가 나옴"
   ]
  },
  {
   "cell_type": "code",
   "execution_count": null,
   "id": "05d6fb45-dc73-4535-94ed-9fe081fc5d97",
   "metadata": {},
   "outputs": [],
   "source": [
    "print(history.history['loss'])\n",
    "print('=' * 80)\n",
    "history.history['accuracy']"
   ]
  },
  {
   "cell_type": "code",
   "execution_count": null,
   "id": "781b5e8b-a39b-4e86-9f98-1f614d72267a",
   "metadata": {},
   "outputs": [],
   "source": [
    "# 3차원으로 변경\n",
    "# 한차원 높여라\n",
    "np.expand_dims(test_images[0], axis=0).shape"
   ]
  },
  {
   "cell_type": "code",
   "execution_count": null,
   "id": "21828ee6-4a3b-42e8-ab57-b9549f515064",
   "metadata": {},
   "outputs": [],
   "source": [
    "pred_prob = model.predict(np.expand_dims(test_images[10], axis=0))\n",
    "print(pred_prob)"
   ]
  },
  {
   "cell_type": "code",
   "execution_count": null,
   "id": "75b5feeb-e17c-424b-bb1b-edc13acb03f5",
   "metadata": {},
   "outputs": [],
   "source": [
    "import matplotlib.pyplot as plt\n",
    "\n",
    "class_names = ['T-shirt/top', 'Trouser', 'Pullover', 'Dress', 'Coat','Sandal', 'Shirt', 'Sneaker', 'Bag', 'Ankle boot']\n",
    "# print(class_names[pred_prob.flatten().argsort()[::-1][0]])\n",
    "\n",
    "plt.imshow(test_images[10], cmap='gray')\n",
    "# pred_prob 가 고차원이라 플랫튼으로 피고 내림차순 정렬 0번째 방으로 예측 결과 확인\n",
    "plt.title(class_names[pred_prob.flatten().argsort()[::-1][0]])\n",
    "plt.show()"
   ]
  },
  {
   "cell_type": "markdown",
   "id": "0baca237-e35b-4173-8439-52bc259de5b2",
   "metadata": {},
   "source": [
    "### Validation"
   ]
  },
  {
   "cell_type": "code",
   "execution_count": 18,
   "id": "1f3250d1-b0a4-452e-b79d-6115a737461f",
   "metadata": {},
   "outputs": [
    {
     "name": "stdout",
     "output_type": "stream",
     "text": [
      "(60000, 28, 28) (60000,)\n",
      "(10000, 28, 28) (10000,)\n"
     ]
    }
   ],
   "source": [
    "from tensorflow.keras.datasets import fashion_mnist\n",
    "\n",
    "(train_images, train_targets), (test_images, test_targets) = fashion_mnist.load_data()\n",
    "\n",
    "print(train_images.shape, train_targets.shape)\n",
    "print(test_images.shape, test_targets.shape)"
   ]
  },
  {
   "cell_type": "code",
   "execution_count": 19,
   "id": "7f5c2994-03be-4a3d-baea-5c0f2f72d080",
   "metadata": {},
   "outputs": [
    {
     "name": "stdout",
     "output_type": "stream",
     "text": [
      "(60000, 28, 28) (60000,)\n",
      "(10000, 28, 28) (10000,)\n"
     ]
    }
   ],
   "source": [
    "import numpy as np\n",
    "\n",
    "def get_preprocessed_data(images, targets):\n",
    "    images = np.array(images / 255.0, dtype=np.float32)\n",
    "    targets = np.array(targets, dtype=np.float32)\n",
    "\n",
    "    return images, targets\n",
    "\n",
    "train_images, train_targets = get_preprocessed_data(train_images, train_targets)\n",
    "test_images, test_targets = get_preprocessed_data(test_images, test_targets)\n",
    "\n",
    "# shape는 변화가 생기면 안됨\n",
    "print(train_images.shape, train_targets.shape)\n",
    "print(test_images.shape, test_targets.shape)"
   ]
  },
  {
   "cell_type": "code",
   "execution_count": 20,
   "id": "e10b31f1-0aa5-46ea-942c-2e9f8908681f",
   "metadata": {},
   "outputs": [
    {
     "name": "stdout",
     "output_type": "stream",
     "text": [
      "(48000, 28, 28) (48000, 10)\n",
      "(12000, 28, 28) (12000, 10)\n"
     ]
    }
   ],
   "source": [
    "from sklearn.model_selection import train_test_split\n",
    "from tensorflow.keras.utils import to_categorical\n",
    "\n",
    "train_images, validation_images, train_targets, validation_targets = \\\n",
    "train_test_split(train_images, train_targets, stratify=train_targets, test_size=0.2, random_state=124)\n",
    "\n",
    "train_oh_targets = to_categorical(train_targets)\n",
    "validation_oh_targets = to_categorical(validation_targets)\n",
    "\n",
    "print(train_images.shape, train_oh_targets.shape)\n",
    "print(validation_images.shape, validation_oh_targets.shape)"
   ]
  },
  {
   "cell_type": "code",
   "execution_count": 23,
   "id": "88f052d4-4bff-4230-ae79-94ad2dc7f53a",
   "metadata": {},
   "outputs": [
    {
     "ename": "AttributeError",
     "evalue": "'Sequential' object has no attribute 'complie'",
     "output_type": "error",
     "traceback": [
      "\u001b[1;31m---------------------------------------------------------------------------\u001b[0m",
      "\u001b[1;31mAttributeError\u001b[0m                            Traceback (most recent call last)",
      "Cell \u001b[1;32mIn[23], line 15\u001b[0m\n\u001b[0;32m      7\u001b[0m model \u001b[38;5;241m=\u001b[39m Sequential([\n\u001b[0;32m      8\u001b[0m     Flatten(input_shape\u001b[38;5;241m=\u001b[39m(INPUT_SIZE, INPUT_SIZE)),\n\u001b[0;32m      9\u001b[0m     Dense(\u001b[38;5;241m64\u001b[39m, activation\u001b[38;5;241m=\u001b[39m\u001b[38;5;124m'\u001b[39m\u001b[38;5;124mrelu\u001b[39m\u001b[38;5;124m'\u001b[39m),\n\u001b[0;32m     10\u001b[0m     Dense(\u001b[38;5;241m128\u001b[39m, activation\u001b[38;5;241m=\u001b[39m\u001b[38;5;124m'\u001b[39m\u001b[38;5;124mrelu\u001b[39m\u001b[38;5;124m'\u001b[39m),\n\u001b[0;32m     11\u001b[0m     Dense(\u001b[38;5;241m10\u001b[39m, activation\u001b[38;5;241m=\u001b[39m\u001b[38;5;124m'\u001b[39m\u001b[38;5;124msoftmax\u001b[39m\u001b[38;5;124m'\u001b[39m),\n\u001b[0;32m     12\u001b[0m ])\n\u001b[0;32m     14\u001b[0m \u001b[38;5;66;03m# model.compile(optimizer= Adam(), loss= CategoricalCrossentropy(), metrics=['accuracy'])\u001b[39;00m\n\u001b[1;32m---> 15\u001b[0m model\u001b[38;5;241m.\u001b[39mcomplie(optimizers\u001b[38;5;241m=\u001b[39mAdam(\u001b[38;5;241m0.001\u001b[39m), loss\u001b[38;5;241m=\u001b[39mCategoricalCrossentropy(), metrics\u001b[38;5;241m=\u001b[39m[\u001b[38;5;124m'\u001b[39m\u001b[38;5;124macc\u001b[39m\u001b[38;5;124m'\u001b[39m])\n",
      "\u001b[1;31mAttributeError\u001b[0m: 'Sequential' object has no attribute 'complie'"
     ]
    }
   ],
   "source": [
    "from tensorflow.keras.layers import Dense, Flatten\n",
    "from tensorflow.keras.models import Sequential\n",
    "from tensorflow.keras.losses import CategoricalCrossentropy\n",
    "from tensorflow.keras.optimizers import Adam\n",
    "\n",
    "INPUT_SIZE = 28\n",
    "\n",
    "model = Sequential([\n",
    "    Flatten(input_shape=(INPUT_SIZE, INPUT_SIZE)),\n",
    "    Dense(64, activation='relu'),\n",
    "    Dense(128, activation='relu'),\n",
    "    Dense(10, activation='softmax')\n",
    "])\n",
    "\n",
    "model.compile(optimizer=Adam(0.001), loss=CategoricalCrossentropy(), metrics=['acc'])"
   ]
  },
  {
   "cell_type": "code",
   "execution_count": null,
   "id": "9a5442bb-11b5-4939-aea7-85202a193c7c",
   "metadata": {},
   "outputs": [],
   "source": [
    "# verbose 가 올라갈 수록  간결화\n",
    "# val acc가 떨어지면 과적합\n",
    "history = model.fit(x=train_images, \n",
    "                    y=train_oh_targets, \n",
    "                    validation_data=(validation_images, validation_oh_targets), \n",
    "                    batch_size=32,\n",
    "                    epochs=20,\n",
    "                    verbose=2)"
   ]
  },
  {
   "cell_type": "code",
   "execution_count": null,
   "id": "ceb949ad-b93a-474e-ae74-f0961524fed3",
   "metadata": {},
   "outputs": [],
   "source": [
    "import matplotlib.pyplot as plt\n",
    "\n",
    "plt.plot(history.history['acc'], label='train')\n",
    "plt.plot(history.history['acc'], label='train')\n",
    "\n",
    "# 10번쯤 반복이 괜찮지 않을까..."
   ]
  },
  {
   "cell_type": "code",
   "execution_count": null,
   "id": "a533aa15-2898-4897-a92a-24ef690296af",
   "metadata": {},
   "outputs": [],
   "source": [
    "# 예측할 이미지 뽑고\n",
    "# 이미지를 보고 예측된 이름 가져오기"
   ]
  },
  {
   "cell_type": "markdown",
   "id": "d6b8acdc-6c7a-4eee-a1dc-d1552f97fd95",
   "metadata": {},
   "source": [
    "### Functional API"
   ]
  },
  {
   "cell_type": "code",
   "execution_count": 26,
   "id": "7c051dbf-d8e0-4a7f-ba5e-5fb16f37402a",
   "metadata": {},
   "outputs": [
    {
     "name": "stdout",
     "output_type": "stream",
     "text": [
      "30\n"
     ]
    }
   ],
   "source": [
    "class Test:\n",
    "    def __call__(self, data):\n",
    "        return data + 10\n",
    "\n",
    "# 생성자 뒤에 괄호로 쓴다\n",
    "# call 함수\n",
    "print(Test()(20))"
   ]
  },
  {
   "cell_type": "code",
   "execution_count": null,
   "id": "be3db5de-6ec8-4563-b5ef-28ef41476e28",
   "metadata": {},
   "outputs": [],
   "source": [
    "from tensorflow.keras.layers import Layer, Input, Dense, Flatten\n",
    "from tensorflow.keras.models import Model\n",
    "\n",
    "INPUT_SIZE = 28\n",
    "\n",
    "def create_model():\n",
    "    input_tensor = Input(shape=(INPUT_SIZE, INPUT_SIZE))\n",
    "    x = Flatten()(input_tensor)\n",
    "    x = Dense(64, activation='relu')(x)\n",
    "    x = Dense(128, activation='relu')(x)\n",
    "    output = Dense(10, activation='softmax')(x)\n",
    "\n",
    "    model = Model(inputs=input_tensor, output=output)\n",
    "    return model"
   ]
  },
  {
   "cell_type": "code",
   "execution_count": null,
   "id": "d6633cfc-3fdb-402b-9de0-5fff6e6cba79",
   "metadata": {},
   "outputs": [],
   "source": [
    "from tensorflow.keras.utils import to_categorical\n",
    "from tensorflow.keras.datasets import fashion_mnist\n",
    "from sklearn.model_selection import train_test_split\n",
    "import numpy as np\n",
    "\n",
    "(train_images, train_targets), (test_images, test_targets) = fashion_mnist.load_data()\n",
    "\n",
    "def get_preprocessed_data(images, targets):\n",
    "    images = np.array(images / 255.0, dtype=np.float32)\n",
    "    targets = np.array(targets, dtype=np.float32)\n",
    "\n",
    "    return images, targets\n",
    "\n",
    "\n",
    "# 원핫인코디 ㅇ완료한 함수\n",
    "def get_preprocessed_ohe(images, targets):\n",
    "    images, targets = get_preprocessed_data(images, targets)\n",
    "    oh_targets = to_categorical(targets)\n",
    "\n",
    "    return images, oh_targets\n",
    "\n",
    "def get_train_valid_test(train_images, train_targets, test_images, test_targets, validation_size=0.2, random)\n",
    "    train_images, train_oh_targets = get_preprocessed_ohe(train_images, train_targets)\n",
    "    test_images, test_oh_targets = get_preprocessed_ohe(test_images, test_targets)\n",
    "\n",
    "    train_images, validation_images, train_oh_targets, validation_oh_targets = \\\n",
    "    train_test_split(train_images, train_oh_targets, stratify=train_oh_targets, test_sze=validation_images)\n",
    "\n",
    "    return (train_images, train_oh_targets), (validation_images, validation_oh_targets), (test_images, test_targets)\n",
    "\n",
    "\n",
    "# 딥러닝은 무조건 모듈화"
   ]
  },
  {
   "cell_type": "code",
   "execution_count": null,
   "id": "3af53391-ee41-462a-a960-8729c5a5409c",
   "metadata": {},
   "outputs": [],
   "source": [
    "from tensorflow.keras.datasets import fashion_mnist\n",
    "\n",
    "(train_images, train_targets), (test_images, test_targets) = fashion_mnist.load_data()\n",
    "\n",
    "# 케라스에서 지원하는 데이터에서만 사용가능한 모듈(케글 이런곳에서 들고온 거 안됨)\n",
    "(train_images, train_oh_targets), (validation_images, validation_oh_targets), (test_images, test_targets)\n",
    "get_train_valid_test(train_images, train_targets, test_images, test_targets)\n",
    "\n",
    "print(train_images.shape, train_oh_targets.shape)\n",
    "print(validation_images.shape, validation_oh_targets.shape)\n",
    "print(test_images.shape, test_oh_targets.shape)"
   ]
  },
  {
   "cell_type": "code",
   "execution_count": null,
   "id": "230817e6-ad6d-4388-81f6-df9524dcb81f",
   "metadata": {},
   "outputs": [],
   "source": [
    "model = create_model()\n",
    "\n",
    "model.summary()"
   ]
  },
  {
   "cell_type": "code",
   "execution_count": null,
   "id": "d5ce287c-7ee8-4502-8bb3-3fd2dc583312",
   "metadata": {},
   "outputs": [],
   "source": [
    "from tensorflow.keras.optimizers import Adam\n",
    "from tensorflow.keras.losses import CategoricalCrossentropy\n",
    "\n",
    "# 아래꺼는 쓰고 마는 것... 어디 담지 말기\n",
    "model.compile(optimizer=Adam(), loss="
   ]
  },
  {
   "cell_type": "code",
   "execution_count": null,
   "id": "0bd1ef97-3088-40ee-9d3d-1c555dc5a6c2",
   "metadata": {},
   "outputs": [],
   "source": [
    "model.fit(x=train_images, y=train_oh_targets, batch_size=64, epochs=20, validation_data=(validation_images, validation_oh_targets))"
   ]
  },
  {
   "cell_type": "code",
   "execution_count": null,
   "id": "88917d36-775e-48fa-a327-148f2f4092f1",
   "metadata": {},
   "outputs": [],
   "source": [
    "import matplotlib.pyplot import plt\n",
    "\n",
    "def show_history(history):\n",
    "    plt.plt"
   ]
  },
  {
   "cell_type": "code",
   "execution_count": null,
   "id": "7fa19684-58c0-494c-be96-d78c16ffebd1",
   "metadata": {},
   "outputs": [],
   "source": []
  },
  {
   "cell_type": "code",
   "execution_count": null,
   "id": "791160ed-f7af-4311-b95b-60529cf90fb9",
   "metadata": {},
   "outputs": [],
   "source": []
  },
  {
   "cell_type": "code",
   "execution_count": null,
   "id": "5bc2a337-5a62-4d8e-8cca-59f8092b3fe7",
   "metadata": {},
   "outputs": [],
   "source": []
  },
  {
   "cell_type": "code",
   "execution_count": null,
   "id": "4784ab3c-5fd2-4d8a-8770-969fd94bb773",
   "metadata": {},
   "outputs": [],
   "source": []
  },
  {
   "cell_type": "code",
   "execution_count": null,
   "id": "58a33262-8ee8-44e7-a0e3-c1cf9f104a59",
   "metadata": {},
   "outputs": [],
   "source": []
  }
 ],
 "metadata": {
  "kernelspec": {
   "display_name": "Python 3 (ipykernel)",
   "language": "python",
   "name": "python3"
  },
  "language_info": {
   "codemirror_mode": {
    "name": "ipython",
    "version": 3
   },
   "file_extension": ".py",
   "mimetype": "text/x-python",
   "name": "python",
   "nbconvert_exporter": "python",
   "pygments_lexer": "ipython3",
   "version": "3.11.8"
  }
 },
 "nbformat": 4,
 "nbformat_minor": 5
}
