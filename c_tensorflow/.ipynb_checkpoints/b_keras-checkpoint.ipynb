{
 "cells": [
  {
   "cell_type": "markdown",
   "id": "c4a14c7b-b8df-4002-b92c-95de425d4c39",
   "metadata": {},
   "source": [
    "### Sequential API, Functional API\n",
    "\n",
    "#### Sequential API (단순한것)\n",
    "- 간단한 모델을 구현하기에 적합하고 단순하게 층을 쌓는 방식으로 쉽고 사용하기가 간단한다.\n",
    "- 단일 입력 및 출력만 있으므로 레이어를 공유하거나 여러 입력 또는 출력을 가질 수 있는 모델을 생성할 수 없다.\n",
    "<sub>Sequential은 대괄호로 열어야 하며, 제어문이 사용이 불가하다.</sub>\n",
    "\n",
    "#### Functional API (복잡한것, 단 단순한것도 functional로도 사용함)\n",
    "- Functional API는 Sequential API로는 구현하기 어려운 복잡한 모델들을 구현할 수 있다.\n",
    "- 여러 개의 입력 및 출력을 가진 모델을 구현하거나 층 간의 연결 및 연산을 수행하는 모델 구현 시 사용한다.  \n",
    "<sub>Functional은 내놓고 사용하며, 제어문 결합이 가능하고 상황에 따라 튜닝이 가능하다.</sub>\n",
    "\n",
    "#### 성능 평가\n",
    "<img src=\"./images/validation.png\" width=\"700\" style=\"margin-left: 0\">\n",
    "\n",
    "##### ○ Performance estimation (사전에 생성된 모델을 사용할 때)\n",
    "1. Large dataset\n",
    "    - 큰 데이터 세트에서는 그표준대로 사용\n",
    "2. Small dataset\n",
    "    - 작은 데이터 세트는 데이터가 적기 때문에 20%만 가져와서 하기 힘들기 때문에,  \n",
    "      100개라고 가정할 때 99개는 훈련시키고 1개를 랜덤으로 뽑아와서 검증으로 사용\n",
    "    - 작은 데이터 세트에서는 반복해서 데이터 훈련을 할 수 있도록 하고,  \n",
    "      0.632(+) bootstrap이라는 이름의 부트스트랩을 사용해서 진행 (더 훈련할 수 있게 반복하는 것)\n",
    "\n",
    "##### ○ Model selection and performance estimation (하이퍼 파라미터 오티마제이션)\n",
    "1. Large dataset\n",
    "    - 하이퍼 파라미터를 최적화할 수 있고 데이터개수가 많다면, (train/validatino/test split) 세가지로 분리\n",
    "2. Small dataset\n",
    "    - 작은 데이터 세트는 데이터가 적기 때문에 20%만 가져와서 하기 힘들기 때문에,  \n",
    "      100개라고 가정할 때 99개는 훈련시키고 1개를 랜덤으로 뽑아와서 검증으로 사용"
   ]
  },
  {
   "cell_type": "code",
   "execution_count": 1,
   "id": "d5cd7e02-db12-44a9-9e85-8b32e9fe0f18",
   "metadata": {},
   "outputs": [
    {
     "name": "stdout",
     "output_type": "stream",
     "text": [
      "(60000, 28, 28) (60000,)\n",
      "(10000, 28, 28) (10000,)\n"
     ]
    }
   ],
   "source": [
    "from tensorflow.keras.datasets import fashion_mnist\n",
    "\n",
    "# tensorflow 라이브러리에 내장되어 있는 패션 데이터 세트 호출 후 데이터 세트 분리\n",
    "(train_images, train_targets), (test_images, test_targets) = fashion_mnist.load_data()\n",
    "\n",
    "# 형태 확인\n",
    "print(train_images.shape, train_targets.shape)\n",
    "print(test_images.shape, test_targets.shape)"
   ]
  },
  {
   "cell_type": "code",
   "execution_count": 2,
   "id": "a1def109-d946-43ee-82d7-db8aadcc09a7",
   "metadata": {},
   "outputs": [
    {
     "name": "stdout",
     "output_type": "stream",
     "text": [
      "(60000, 28, 28) (60000,)\n",
      "(10000, 28, 28) (10000,)\n"
     ]
    }
   ],
   "source": [
    "import numpy as np\n",
    "\n",
    "# 전처리 함수 선언\n",
    "def get_preprocessed_data(images, targets):\n",
    "    # 픽셀 범위를 0 또는 1로 이미지 정규화 후 형변환\n",
    "    images = np.array(images / 255.0, dtype=np.float32)\n",
    "    # 타겟 데이터 형변환\n",
    "    targets = np.array(targets, dtype=np.float32)\n",
    "\n",
    "    return images, targets\n",
    "\n",
    "# 함수를 통해 형변환 진행\n",
    "train_images, train_targets = get_preprocessed_data(train_images, train_targets)\n",
    "test_images, test_targets = get_preprocessed_data(test_images, test_targets)\n",
    "\n",
    "# 형변환 후 형태 확인\n",
    "# shape는 변화가 생기면 안됨\n",
    "print(train_images.shape, train_targets.shape)\n",
    "print(test_images.shape, test_targets.shape)"
   ]
  },
  {
   "cell_type": "code",
   "execution_count": 3,
   "id": "a7a1d943-cb54-4c91-a623-07acb00efd3e",
   "metadata": {},
   "outputs": [
    {
     "name": "stderr",
     "output_type": "stream",
     "text": [
      "C:\\Users\\LEGION\\anaconda3\\Lib\\site-packages\\keras\\src\\layers\\reshaping\\flatten.py:37: UserWarning: Do not pass an `input_shape`/`input_dim` argument to a layer. When using Sequential models, prefer using an `Input(shape)` object as the first layer in the model instead.\n",
      "  super().__init__(**kwargs)\n"
     ]
    },
    {
     "data": {
      "text/html": [
       "<pre style=\"white-space:pre;overflow-x:auto;line-height:normal;font-family:Menlo,'DejaVu Sans Mono',consolas,'Courier New',monospace\"><span style=\"font-weight: bold\">Model: \"sequential\"</span>\n",
       "</pre>\n"
      ],
      "text/plain": [
       "\u001b[1mModel: \"sequential\"\u001b[0m\n"
      ]
     },
     "metadata": {},
     "output_type": "display_data"
    },
    {
     "data": {
      "text/html": [
       "<pre style=\"white-space:pre;overflow-x:auto;line-height:normal;font-family:Menlo,'DejaVu Sans Mono',consolas,'Courier New',monospace\">┏━━━━━━━━━━━━━━━━━━━━━━━━━━━━━━━━━━━━━━┳━━━━━━━━━━━━━━━━━━━━━━━━━━━━━┳━━━━━━━━━━━━━━━━━┓\n",
       "┃<span style=\"font-weight: bold\"> Layer (type)                         </span>┃<span style=\"font-weight: bold\"> Output Shape                </span>┃<span style=\"font-weight: bold\">         Param # </span>┃\n",
       "┡━━━━━━━━━━━━━━━━━━━━━━━━━━━━━━━━━━━━━━╇━━━━━━━━━━━━━━━━━━━━━━━━━━━━━╇━━━━━━━━━━━━━━━━━┩\n",
       "│ flatten (<span style=\"color: #0087ff; text-decoration-color: #0087ff\">Flatten</span>)                    │ (<span style=\"color: #00d7ff; text-decoration-color: #00d7ff\">None</span>, <span style=\"color: #00af00; text-decoration-color: #00af00\">784</span>)                 │               <span style=\"color: #00af00; text-decoration-color: #00af00\">0</span> │\n",
       "├──────────────────────────────────────┼─────────────────────────────┼─────────────────┤\n",
       "│ dense (<span style=\"color: #0087ff; text-decoration-color: #0087ff\">Dense</span>)                        │ (<span style=\"color: #00d7ff; text-decoration-color: #00d7ff\">None</span>, <span style=\"color: #00af00; text-decoration-color: #00af00\">64</span>)                  │          <span style=\"color: #00af00; text-decoration-color: #00af00\">50,240</span> │\n",
       "├──────────────────────────────────────┼─────────────────────────────┼─────────────────┤\n",
       "│ dense_1 (<span style=\"color: #0087ff; text-decoration-color: #0087ff\">Dense</span>)                      │ (<span style=\"color: #00d7ff; text-decoration-color: #00d7ff\">None</span>, <span style=\"color: #00af00; text-decoration-color: #00af00\">128</span>)                 │           <span style=\"color: #00af00; text-decoration-color: #00af00\">8,320</span> │\n",
       "├──────────────────────────────────────┼─────────────────────────────┼─────────────────┤\n",
       "│ dense_2 (<span style=\"color: #0087ff; text-decoration-color: #0087ff\">Dense</span>)                      │ (<span style=\"color: #00d7ff; text-decoration-color: #00d7ff\">None</span>, <span style=\"color: #00af00; text-decoration-color: #00af00\">10</span>)                  │           <span style=\"color: #00af00; text-decoration-color: #00af00\">1,290</span> │\n",
       "└──────────────────────────────────────┴─────────────────────────────┴─────────────────┘\n",
       "</pre>\n"
      ],
      "text/plain": [
       "┏━━━━━━━━━━━━━━━━━━━━━━━━━━━━━━━━━━━━━━┳━━━━━━━━━━━━━━━━━━━━━━━━━━━━━┳━━━━━━━━━━━━━━━━━┓\n",
       "┃\u001b[1m \u001b[0m\u001b[1mLayer (type)                        \u001b[0m\u001b[1m \u001b[0m┃\u001b[1m \u001b[0m\u001b[1mOutput Shape               \u001b[0m\u001b[1m \u001b[0m┃\u001b[1m \u001b[0m\u001b[1m        Param #\u001b[0m\u001b[1m \u001b[0m┃\n",
       "┡━━━━━━━━━━━━━━━━━━━━━━━━━━━━━━━━━━━━━━╇━━━━━━━━━━━━━━━━━━━━━━━━━━━━━╇━━━━━━━━━━━━━━━━━┩\n",
       "│ flatten (\u001b[38;5;33mFlatten\u001b[0m)                    │ (\u001b[38;5;45mNone\u001b[0m, \u001b[38;5;34m784\u001b[0m)                 │               \u001b[38;5;34m0\u001b[0m │\n",
       "├──────────────────────────────────────┼─────────────────────────────┼─────────────────┤\n",
       "│ dense (\u001b[38;5;33mDense\u001b[0m)                        │ (\u001b[38;5;45mNone\u001b[0m, \u001b[38;5;34m64\u001b[0m)                  │          \u001b[38;5;34m50,240\u001b[0m │\n",
       "├──────────────────────────────────────┼─────────────────────────────┼─────────────────┤\n",
       "│ dense_1 (\u001b[38;5;33mDense\u001b[0m)                      │ (\u001b[38;5;45mNone\u001b[0m, \u001b[38;5;34m128\u001b[0m)                 │           \u001b[38;5;34m8,320\u001b[0m │\n",
       "├──────────────────────────────────────┼─────────────────────────────┼─────────────────┤\n",
       "│ dense_2 (\u001b[38;5;33mDense\u001b[0m)                      │ (\u001b[38;5;45mNone\u001b[0m, \u001b[38;5;34m10\u001b[0m)                  │           \u001b[38;5;34m1,290\u001b[0m │\n",
       "└──────────────────────────────────────┴─────────────────────────────┴─────────────────┘\n"
      ]
     },
     "metadata": {},
     "output_type": "display_data"
    },
    {
     "data": {
      "text/html": [
       "<pre style=\"white-space:pre;overflow-x:auto;line-height:normal;font-family:Menlo,'DejaVu Sans Mono',consolas,'Courier New',monospace\"><span style=\"font-weight: bold\"> Total params: </span><span style=\"color: #00af00; text-decoration-color: #00af00\">59,850</span> (233.79 KB)\n",
       "</pre>\n"
      ],
      "text/plain": [
       "\u001b[1m Total params: \u001b[0m\u001b[38;5;34m59,850\u001b[0m (233.79 KB)\n"
      ]
     },
     "metadata": {},
     "output_type": "display_data"
    },
    {
     "data": {
      "text/html": [
       "<pre style=\"white-space:pre;overflow-x:auto;line-height:normal;font-family:Menlo,'DejaVu Sans Mono',consolas,'Courier New',monospace\"><span style=\"font-weight: bold\"> Trainable params: </span><span style=\"color: #00af00; text-decoration-color: #00af00\">59,850</span> (233.79 KB)\n",
       "</pre>\n"
      ],
      "text/plain": [
       "\u001b[1m Trainable params: \u001b[0m\u001b[38;5;34m59,850\u001b[0m (233.79 KB)\n"
      ]
     },
     "metadata": {},
     "output_type": "display_data"
    },
    {
     "data": {
      "text/html": [
       "<pre style=\"white-space:pre;overflow-x:auto;line-height:normal;font-family:Menlo,'DejaVu Sans Mono',consolas,'Courier New',monospace\"><span style=\"font-weight: bold\"> Non-trainable params: </span><span style=\"color: #00af00; text-decoration-color: #00af00\">0</span> (0.00 B)\n",
       "</pre>\n"
      ],
      "text/plain": [
       "\u001b[1m Non-trainable params: \u001b[0m\u001b[38;5;34m0\u001b[0m (0.00 B)\n"
      ]
     },
     "metadata": {},
     "output_type": "display_data"
    }
   ],
   "source": [
    "from tensorflow.keras.layers import Flatten, Dense\n",
    "from tensorflow.keras.models import Sequential\n",
    "\n",
    "# 입력 데이터 크기 지정\n",
    "# Flatten는 층이 아니기 때문에 층에 들어가기 전에 사전 작업\n",
    "INPUT_SIZE = 28\n",
    "\n",
    "# Sequential는 list를 사용해야 함\n",
    "\n",
    "# 전부 Dense layer라고 부른다.\n",
    "# 학습할 데이터가 많으면 neuron의 개수를 더 많이 지정(예, 64, 128, 256 등)하거나 은닉층 수를 더 늘리면 된다.\n",
    "# 학습할 데이터가 적으면 neuron의 개수 또는 은닉층 수를 줄이는 것이 좋다.\n",
    "model = Sequential([\n",
    "    # 전체 28 * 28(784)개의 feature로 flatten 진행\n",
    "    # 첫 번째 Input Layer\n",
    "    Flatten(input_shape=(INPUT_SIZE, INPUT_SIZE)),\n",
    "    \n",
    "    # 두 번째 Hidden Layer (은닉, relu 사용)\n",
    "    # 2의 제곱으로 넣기(64, 128,...) = bias\n",
    "    Dense(64, activation='relu'),\n",
    "    \n",
    "    # 세 번째 Hidden Layer (은닉, relu 사용)\n",
    "    Dense(128, activation='relu'),\n",
    "    \n",
    "    # 마지막 Output Layer (다중 출력, softmax 사용)\n",
    "    Dense(10, activation='softmax')\n",
    "])\n",
    "\n",
    "# 모델 구조 확인\n",
    "# 파라미터 수 = (입력 뉴런 수 * 출력 뉴런 수) + 출력 뉴런 수\n",
    "# 이 파라미터 수에는 편향(bias) 파라미터도 포함됨\n",
    "model.summary()"
   ]
  },
  {
   "cell_type": "markdown",
   "id": "70062235-b853-4fee-8444-0668bf03bb06",
   "metadata": {},
   "source": [
    "#### TIP!\n",
    "상황에 따라 다르지만, 일반적으로  \n",
    "학습할 데이터가 많을 수록 복잡도가 증가하며, 학습 데이터가 적으면 복잡도가 감소한다(과적합 때문).\n",
    "\n",
    "학습 데이터가 많다면 뉴런의 개수도 많이 해야하고 층도 높여야 하는데, 시간이 오래걸린다.  \n",
    "때문에, 데이터를 리샘프하여 데이터 개수를 잘게 나누거나 애초에 데이터 자체를 랜덤하게 뽑아야 한다.\n",
    "첫 번째 사이클은 기본으로 세팅으로 진행한다.\n",
    "\n",
    "64, 128.. 등 숫자를 증가하는 이유는 그만큼 학습하라는 의미도 있지만,  \n",
    "자극을 조금만 줘도 넘어갈 수 있게 하기 위함이다."
   ]
  },
  {
   "cell_type": "code",
   "execution_count": 4,
   "id": "0d1a2ad7-f003-4cac-a059-331c96dd325d",
   "metadata": {},
   "outputs": [
    {
     "name": "stdout",
     "output_type": "stream",
     "text": [
      "(60000, 10) (10000, 10)\n"
     ]
    }
   ],
   "source": [
    "from tensorflow.keras.utils import to_categorical\n",
    "\n",
    "# 타겟을 원-핫 인코딩을 통해 변환\n",
    "train_oh_targets = to_categorical(train_targets)\n",
    "test_oh_targets = to_categorical(test_targets)\n",
    "\n",
    "print(train_oh_targets.shape, test_oh_targets.shape)\n",
    "\n",
    "# (원-핫 인코딩으로 변환한)10개 피처에 60000개 행"
   ]
  },
  {
   "cell_type": "code",
   "execution_count": 5,
   "id": "2788e9c4-b27c-4e31-9335-b1a697758956",
   "metadata": {},
   "outputs": [],
   "source": [
    "from tensorflow.keras.optimizers import Adam\n",
    "from tensorflow.keras.losses import CategoricalCrossentropy\n",
    "from tensorflow.keras.metrics import Accuracy\n",
    "\n",
    "# 모델 컴파일 = 모델을 사용할 수 있도록 준비\n",
    "# optimizer= 최적화 알고리즘, Adam(0.001) = 기본 학습률은 0.001으로 생략이 가능함\n",
    "# loss = 손실함수, 크로스 엔트로피 사용\n",
    "# metrics = 성능 측정 지표선택, 정확도 사용\n",
    "model.compile(optimizer=Adam(0.001), loss=CategoricalCrossentropy(), metrics=['accuracy'])"
   ]
  },
  {
   "cell_type": "code",
   "execution_count": 6,
   "id": "afe18d22-e211-461e-81ca-55c95c06d2cf",
   "metadata": {},
   "outputs": [
    {
     "name": "stdout",
     "output_type": "stream",
     "text": [
      "Epoch 1/20\n",
      "\u001b[1m938/938\u001b[0m \u001b[32m━━━━━━━━━━━━━━━━━━━━\u001b[0m\u001b[37m\u001b[0m \u001b[1m4s\u001b[0m 3ms/step - accuracy: 0.7532 - loss: 0.7207\n",
      "Epoch 2/20\n",
      "\u001b[1m938/938\u001b[0m \u001b[32m━━━━━━━━━━━━━━━━━━━━\u001b[0m\u001b[37m\u001b[0m \u001b[1m3s\u001b[0m 3ms/step - accuracy: 0.8583 - loss: 0.3894\n",
      "Epoch 3/20\n",
      "\u001b[1m938/938\u001b[0m \u001b[32m━━━━━━━━━━━━━━━━━━━━\u001b[0m\u001b[37m\u001b[0m \u001b[1m2s\u001b[0m 2ms/step - accuracy: 0.8732 - loss: 0.3468\n",
      "Epoch 4/20\n",
      "\u001b[1m938/938\u001b[0m \u001b[32m━━━━━━━━━━━━━━━━━━━━\u001b[0m\u001b[37m\u001b[0m \u001b[1m2s\u001b[0m 2ms/step - accuracy: 0.8850 - loss: 0.3157\n",
      "Epoch 5/20\n",
      "\u001b[1m938/938\u001b[0m \u001b[32m━━━━━━━━━━━━━━━━━━━━\u001b[0m\u001b[37m\u001b[0m \u001b[1m2s\u001b[0m 2ms/step - accuracy: 0.8866 - loss: 0.3035\n",
      "Epoch 6/20\n",
      "\u001b[1m938/938\u001b[0m \u001b[32m━━━━━━━━━━━━━━━━━━━━\u001b[0m\u001b[37m\u001b[0m \u001b[1m3s\u001b[0m 3ms/step - accuracy: 0.8962 - loss: 0.2818\n",
      "Epoch 7/20\n",
      "\u001b[1m938/938\u001b[0m \u001b[32m━━━━━━━━━━━━━━━━━━━━\u001b[0m\u001b[37m\u001b[0m \u001b[1m2s\u001b[0m 2ms/step - accuracy: 0.8978 - loss: 0.2756\n",
      "Epoch 8/20\n",
      "\u001b[1m938/938\u001b[0m \u001b[32m━━━━━━━━━━━━━━━━━━━━\u001b[0m\u001b[37m\u001b[0m \u001b[1m2s\u001b[0m 2ms/step - accuracy: 0.9018 - loss: 0.2639\n",
      "Epoch 9/20\n",
      "\u001b[1m938/938\u001b[0m \u001b[32m━━━━━━━━━━━━━━━━━━━━\u001b[0m\u001b[37m\u001b[0m \u001b[1m2s\u001b[0m 2ms/step - accuracy: 0.9044 - loss: 0.2545\n",
      "Epoch 10/20\n",
      "\u001b[1m938/938\u001b[0m \u001b[32m━━━━━━━━━━━━━━━━━━━━\u001b[0m\u001b[37m\u001b[0m \u001b[1m2s\u001b[0m 2ms/step - accuracy: 0.9095 - loss: 0.2457\n",
      "Epoch 11/20\n",
      "\u001b[1m938/938\u001b[0m \u001b[32m━━━━━━━━━━━━━━━━━━━━\u001b[0m\u001b[37m\u001b[0m \u001b[1m3s\u001b[0m 3ms/step - accuracy: 0.9100 - loss: 0.2414\n",
      "Epoch 12/20\n",
      "\u001b[1m938/938\u001b[0m \u001b[32m━━━━━━━━━━━━━━━━━━━━\u001b[0m\u001b[37m\u001b[0m \u001b[1m2s\u001b[0m 2ms/step - accuracy: 0.9126 - loss: 0.2293\n",
      "Epoch 13/20\n",
      "\u001b[1m938/938\u001b[0m \u001b[32m━━━━━━━━━━━━━━━━━━━━\u001b[0m\u001b[37m\u001b[0m \u001b[1m2s\u001b[0m 2ms/step - accuracy: 0.9153 - loss: 0.2259\n",
      "Epoch 14/20\n",
      "\u001b[1m938/938\u001b[0m \u001b[32m━━━━━━━━━━━━━━━━━━━━\u001b[0m\u001b[37m\u001b[0m \u001b[1m2s\u001b[0m 2ms/step - accuracy: 0.9197 - loss: 0.2118\n",
      "Epoch 15/20\n",
      "\u001b[1m938/938\u001b[0m \u001b[32m━━━━━━━━━━━━━━━━━━━━\u001b[0m\u001b[37m\u001b[0m \u001b[1m2s\u001b[0m 2ms/step - accuracy: 0.9204 - loss: 0.2105\n",
      "Epoch 16/20\n",
      "\u001b[1m938/938\u001b[0m \u001b[32m━━━━━━━━━━━━━━━━━━━━\u001b[0m\u001b[37m\u001b[0m \u001b[1m2s\u001b[0m 2ms/step - accuracy: 0.9227 - loss: 0.2048\n",
      "Epoch 17/20\n",
      "\u001b[1m938/938\u001b[0m \u001b[32m━━━━━━━━━━━━━━━━━━━━\u001b[0m\u001b[37m\u001b[0m \u001b[1m2s\u001b[0m 2ms/step - accuracy: 0.9230 - loss: 0.2012\n",
      "Epoch 18/20\n",
      "\u001b[1m938/938\u001b[0m \u001b[32m━━━━━━━━━━━━━━━━━━━━\u001b[0m\u001b[37m\u001b[0m \u001b[1m2s\u001b[0m 2ms/step - accuracy: 0.9279 - loss: 0.1938\n",
      "Epoch 19/20\n",
      "\u001b[1m938/938\u001b[0m \u001b[32m━━━━━━━━━━━━━━━━━━━━\u001b[0m\u001b[37m\u001b[0m \u001b[1m2s\u001b[0m 2ms/step - accuracy: 0.9277 - loss: 0.1891\n",
      "Epoch 20/20\n",
      "\u001b[1m938/938\u001b[0m \u001b[32m━━━━━━━━━━━━━━━━━━━━\u001b[0m\u001b[37m\u001b[0m \u001b[1m2s\u001b[0m 2ms/step - accuracy: 0.9308 - loss: 0.1805\n"
     ]
    }
   ],
   "source": [
    "# 훈련 결과 history에 저장\n",
    "# batch_size는 2의 제곱, epochs로 20번 반복\n",
    "history = model.fit(x=train_images, y=train_oh_targets, batch_size=64, epochs=20)"
   ]
  },
  {
   "cell_type": "code",
   "execution_count": 7,
   "id": "ddc5e780-1d76-4e8a-a0fd-19d7b08b1eb9",
   "metadata": {},
   "outputs": [
    {
     "data": {
      "text/plain": [
       "{'accuracy': [0.8159000277519226,\n",
       "  0.8630333542823792,\n",
       "  0.8732666373252869,\n",
       "  0.8825166821479797,\n",
       "  0.8885166645050049,\n",
       "  0.8938000202178955,\n",
       "  0.8971499800682068,\n",
       "  0.9014666676521301,\n",
       "  0.9042333364486694,\n",
       "  0.9078333377838135,\n",
       "  0.9104833602905273,\n",
       "  0.9123166799545288,\n",
       "  0.9157500267028809,\n",
       "  0.9164333343505859,\n",
       "  0.918749988079071,\n",
       "  0.9209333062171936,\n",
       "  0.9230333566665649,\n",
       "  0.9251166582107544,\n",
       "  0.926966667175293,\n",
       "  0.9279500246047974],\n",
       " 'loss': [0.5268526077270508,\n",
       "  0.38003212213516235,\n",
       "  0.3451526463031769,\n",
       "  0.31766781210899353,\n",
       "  0.3009803593158722,\n",
       "  0.2879769206047058,\n",
       "  0.2753249406814575,\n",
       "  0.2646736800670624,\n",
       "  0.25518786907196045,\n",
       "  0.2465355098247528,\n",
       "  0.24015803635120392,\n",
       "  0.23241247236728668,\n",
       "  0.22554843127727509,\n",
       "  0.22052685916423798,\n",
       "  0.21312813460826874,\n",
       "  0.20795001089572906,\n",
       "  0.20160146057605743,\n",
       "  0.19731546938419342,\n",
       "  0.19007369875907898,\n",
       "  0.1881961077451706]}"
      ]
     },
     "execution_count": 7,
     "metadata": {},
     "output_type": "execute_result"
    }
   ],
   "source": [
    "# 학습과정 지표 및 손실값 결과 확인\n",
    "# 정확도랑 loss가 나옴\n",
    "history.history"
   ]
  },
  {
   "cell_type": "code",
   "execution_count": 8,
   "id": "05d6fb45-dc73-4535-94ed-9fe081fc5d97",
   "metadata": {},
   "outputs": [
    {
     "name": "stdout",
     "output_type": "stream",
     "text": [
      "[0.5268526077270508, 0.38003212213516235, 0.3451526463031769, 0.31766781210899353, 0.3009803593158722, 0.2879769206047058, 0.2753249406814575, 0.2646736800670624, 0.25518786907196045, 0.2465355098247528, 0.24015803635120392, 0.23241247236728668, 0.22554843127727509, 0.22052685916423798, 0.21312813460826874, 0.20795001089572906, 0.20160146057605743, 0.19731546938419342, 0.19007369875907898, 0.1881961077451706]\n",
      "================================================================================\n"
     ]
    },
    {
     "data": {
      "text/plain": [
       "[0.8159000277519226,\n",
       " 0.8630333542823792,\n",
       " 0.8732666373252869,\n",
       " 0.8825166821479797,\n",
       " 0.8885166645050049,\n",
       " 0.8938000202178955,\n",
       " 0.8971499800682068,\n",
       " 0.9014666676521301,\n",
       " 0.9042333364486694,\n",
       " 0.9078333377838135,\n",
       " 0.9104833602905273,\n",
       " 0.9123166799545288,\n",
       " 0.9157500267028809,\n",
       " 0.9164333343505859,\n",
       " 0.918749988079071,\n",
       " 0.9209333062171936,\n",
       " 0.9230333566665649,\n",
       " 0.9251166582107544,\n",
       " 0.926966667175293,\n",
       " 0.9279500246047974]"
      ]
     },
     "execution_count": 8,
     "metadata": {},
     "output_type": "execute_result"
    }
   ],
   "source": [
    "# loss만 확인\n",
    "print(history.history['loss'])\n",
    "print('=' * 80)\n",
    "# 정확도만 확인 \n",
    "history.history['accuracy']"
   ]
  },
  {
   "cell_type": "code",
   "execution_count": 9,
   "id": "781b5e8b-a39b-4e86-9f98-1f614d72267a",
   "metadata": {},
   "outputs": [
    {
     "data": {
      "text/plain": [
       "(1, 28, 28)"
      ]
     },
     "execution_count": 9,
     "metadata": {},
     "output_type": "execute_result"
    }
   ],
   "source": [
    "# 3차원으로 변경 후 형태 확인\n",
    "# expand_dims = 한 차원 높여줌\n",
    "np.expand_dims(test_images[0], axis=0).shape"
   ]
  },
  {
   "cell_type": "code",
   "execution_count": 10,
   "id": "21828ee6-4a3b-42e8-ab57-b9549f515064",
   "metadata": {},
   "outputs": [
    {
     "name": "stdout",
     "output_type": "stream",
     "text": [
      "\u001b[1m1/1\u001b[0m \u001b[32m━━━━━━━━━━━━━━━━━━━━\u001b[0m\u001b[37m\u001b[0m \u001b[1m0s\u001b[0m 104ms/step\n",
      "[[1.1969932e-04 1.8782544e-06 1.3859415e-02 2.8045342e-05 9.6953970e-01\n",
      "  5.8471374e-12 1.6451141e-02 1.8398627e-08 2.0131001e-08 6.7242505e-09]]\n"
     ]
    }
   ],
   "source": [
    "# 예측\n",
    "# 모델에 이미지를 전달할 때 정확한 차원을 유지해야 하기 때문에 expand_dims을 사용하여 3차원으로 변경한 뒤 예측\n",
    "pred_prob = model.predict(np.expand_dims(test_images[10], axis=0))\n",
    "print(pred_prob)"
   ]
  },
  {
   "cell_type": "code",
   "execution_count": 11,
   "id": "75b5feeb-e17c-424b-bb1b-edc13acb03f5",
   "metadata": {},
   "outputs": [
    {
     "data": {
      "image/png": "[encoded data removed]",
      "text/plain": [
       "<Figure size 640x480 with 1 Axes>"
      ]
     },
     "metadata": {},
     "output_type": "display_data"
    }
   ],
   "source": [
    "import matplotlib.pyplot as plt\n",
    "\n",
    "# 클래스 이름 지정\n",
    "class_names = ['T-shirt/top', 'Trouser', 'Pullover', 'Dress', 'Coat','Sandal', 'Shirt', 'Sneaker', 'Bag', 'Ankle boot']\n",
    "# print(class_names[pred_prob.flatten().argsort()[::-1][0]])\n",
    "\n",
    "# 이미지 출력\n",
    "plt.imshow(test_images[10], cmap='gray')\n",
    "# 이미지의 예측된 이름 출력\n",
    "# pred_prob 가 고차원이라 Flatten으로 펴고, 내림차순 정렬 0번째 방으로 예측 결과 확인\n",
    "plt.title(class_names[pred_prob.flatten().argsort()[::-1][0]])\n",
    "plt.show()"
   ]
  },
  {
   "cell_type": "code",
   "execution_count": 12,
   "id": "a4f8d562-ebf3-4f59-b63e-3367874c2101",
   "metadata": {},
   "outputs": [
    {
     "name": "stdout",
     "output_type": "stream",
     "text": [
      "\u001b[1m157/157\u001b[0m \u001b[32m━━━━━━━━━━━━━━━━━━━━\u001b[0m\u001b[37m\u001b[0m \u001b[1m0s\u001b[0m 2ms/step - accuracy: 0.8789 - loss: 0.3645\n"
     ]
    },
    {
     "data": {
      "text/plain": [
       "[0.3621952533721924, 0.8820000290870667]"
      ]
     },
     "execution_count": 12,
     "metadata": {},
     "output_type": "execute_result"
    }
   ],
   "source": [
    "# 평가\n",
    "model.evaluate(test_images, test_oh_targets, batch_size=64)"
   ]
  },
  {
   "cell_type": "markdown",
   "id": "0baca237-e35b-4173-8439-52bc259de5b2",
   "metadata": {},
   "source": [
    "### Validation"
   ]
  },
  {
   "cell_type": "code",
   "execution_count": 13,
   "id": "1f3250d1-b0a4-452e-b79d-6115a737461f",
   "metadata": {},
   "outputs": [
    {
     "name": "stdout",
     "output_type": "stream",
     "text": [
      "(60000, 28, 28) (60000,)\n",
      "(10000, 28, 28) (10000,)\n"
     ]
    }
   ],
   "source": [
    "from tensorflow.keras.datasets import fashion_mnist\n",
    "\n",
    "# tensorflow 라이브러리에 내장되어 있는 패션 데이터 세트 호출 후 데이터 세트 분리\n",
    "(train_images, train_targets), (test_images, test_targets) = fashion_mnist.load_data()\n",
    "\n",
    "# 형태 확인\n",
    "print(train_images.shape, train_targets.shape)\n",
    "print(test_images.shape, test_targets.shape)"
   ]
  },
  {
   "cell_type": "code",
   "execution_count": 14,
   "id": "0891da4e-f1a1-458e-876c-d267d4a6b30f",
   "metadata": {},
   "outputs": [
    {
     "name": "stdout",
     "output_type": "stream",
     "text": [
      "(60000, 28, 28) (60000,)\n",
      "(10000, 28, 28) (10000,)\n"
     ]
    }
   ],
   "source": [
    "import numpy as np\n",
    "\n",
    "# 전처리 함수 선언\n",
    "def get_preprocessed_data(images, targets):\n",
    "    # 픽셀 범위를 0 또는 1로 이미지 정규화 후 형변환\n",
    "    images = np.array(images / 255.0, dtype=np.float32)\n",
    "    # 타겟 데이터 형변환\n",
    "    targets = np.array(targets, dtype=np.float32)\n",
    "\n",
    "    return images, targets\n",
    "\n",
    "# 함수를 통해 형변환 진행\n",
    "train_images, train_targets = get_preprocessed_data(train_images, train_targets)\n",
    "test_images, test_targets = get_preprocessed_data(test_images, test_targets)\n",
    "\n",
    "# 형변환 후 형태 확인\n",
    "# shape는 변화가 생기면 안됨\n",
    "print(train_images.shape, train_targets.shape)\n",
    "print(test_images.shape, test_targets.shape)"
   ]
  },
  {
   "cell_type": "code",
   "execution_count": 15,
   "id": "e10b31f1-0aa5-46ea-942c-2e9f8908681f",
   "metadata": {},
   "outputs": [
    {
     "name": "stdout",
     "output_type": "stream",
     "text": [
      "(48000, 28, 28) (48000, 10)\n",
      "(12000, 28, 28) (12000, 10)\n"
     ]
    }
   ],
   "source": [
    "from sklearn.model_selection import train_test_split\n",
    "from tensorflow.keras.utils import to_categorical\n",
    "\n",
    "# 데이터 세트 분리\n",
    "# 검증 데이터 생성\n",
    "train_images, validation_images, train_targets, validation_targets = \\\n",
    "train_test_split(train_images, train_targets, stratify=train_targets, test_size=0.2, random_state=124)\n",
    "\n",
    "# 원-핫 인코딩을 통해 타겟 데이터 변환\n",
    "train_oh_targets = to_categorical(train_targets)\n",
    "validation_oh_targets = to_categorical(validation_targets)\n",
    "\n",
    "# 변환 후 형태 확인\n",
    "print(train_images.shape, train_oh_targets.shape)\n",
    "print(validation_images.shape, validation_oh_targets.shape)"
   ]
  },
  {
   "cell_type": "code",
   "execution_count": 16,
   "id": "88f052d4-4bff-4230-ae79-94ad2dc7f53a",
   "metadata": {},
   "outputs": [
    {
     "name": "stderr",
     "output_type": "stream",
     "text": [
      "C:\\Users\\LEGION\\anaconda3\\Lib\\site-packages\\keras\\src\\layers\\reshaping\\flatten.py:37: UserWarning: Do not pass an `input_shape`/`input_dim` argument to a layer. When using Sequential models, prefer using an `Input(shape)` object as the first layer in the model instead.\n",
      "  super().__init__(**kwargs)\n"
     ]
    }
   ],
   "source": [
    "from tensorflow.keras.layers import Dense, Flatten\n",
    "from tensorflow.keras.models import Sequential\n",
    "from tensorflow.keras.losses import CategoricalCrossentropy\n",
    "from tensorflow.keras.optimizers import Adam\n",
    "\n",
    "# 입력 데이터 크기\n",
    "INPUT_SIZE = 28\n",
    "\n",
    "# 인공 신경망 생성\n",
    "model = Sequential([\n",
    "    Flatten(input_shape=(INPUT_SIZE, INPUT_SIZE)),\n",
    "    Dense(64, activation='relu'),\n",
    "    Dense(128, activation='relu'),\n",
    "    Dense(10, activation='softmax')\n",
    "])\n",
    "\n",
    "# 모델 컴파일\n",
    "model.compile(optimizer=Adam(0.001), loss=CategoricalCrossentropy(), metrics=['acc'])"
   ]
  },
  {
   "cell_type": "code",
   "execution_count": 17,
   "id": "9a5442bb-11b5-4939-aea7-85202a193c7c",
   "metadata": {},
   "outputs": [
    {
     "name": "stdout",
     "output_type": "stream",
     "text": [
      "Epoch 1/20\n",
      "1500/1500 - 5s - 3ms/step - acc: 0.8146 - loss: 0.5220 - val_acc: 0.8598 - val_loss: 0.4001\n",
      "Epoch 2/20\n",
      "1500/1500 - 4s - 2ms/step - acc: 0.8615 - loss: 0.3793 - val_acc: 0.8674 - val_loss: 0.3596\n",
      "Epoch 3/20\n",
      "1500/1500 - 4s - 3ms/step - acc: 0.8750 - loss: 0.3417 - val_acc: 0.8679 - val_loss: 0.3586\n",
      "Epoch 4/20\n",
      "1500/1500 - 4s - 2ms/step - acc: 0.8815 - loss: 0.3226 - val_acc: 0.8650 - val_loss: 0.3633\n",
      "Epoch 5/20\n",
      "1500/1500 - 3s - 2ms/step - acc: 0.8872 - loss: 0.3039 - val_acc: 0.8734 - val_loss: 0.3465\n",
      "Epoch 6/20\n",
      "1500/1500 - 4s - 2ms/step - acc: 0.8924 - loss: 0.2886 - val_acc: 0.8799 - val_loss: 0.3304\n",
      "Epoch 7/20\n",
      "1500/1500 - 4s - 2ms/step - acc: 0.8964 - loss: 0.2769 - val_acc: 0.8867 - val_loss: 0.3105\n",
      "Epoch 8/20\n",
      "1500/1500 - 4s - 2ms/step - acc: 0.9002 - loss: 0.2663 - val_acc: 0.8851 - val_loss: 0.3237\n",
      "Epoch 9/20\n",
      "1500/1500 - 3s - 2ms/step - acc: 0.9034 - loss: 0.2555 - val_acc: 0.8888 - val_loss: 0.3080\n",
      "Epoch 10/20\n",
      "1500/1500 - 3s - 2ms/step - acc: 0.9074 - loss: 0.2466 - val_acc: 0.8792 - val_loss: 0.3325\n",
      "Epoch 11/20\n",
      "1500/1500 - 4s - 2ms/step - acc: 0.9093 - loss: 0.2398 - val_acc: 0.8888 - val_loss: 0.3179\n",
      "Epoch 12/20\n",
      "1500/1500 - 3s - 2ms/step - acc: 0.9126 - loss: 0.2306 - val_acc: 0.8933 - val_loss: 0.3053\n",
      "Epoch 13/20\n",
      "1500/1500 - 3s - 2ms/step - acc: 0.9156 - loss: 0.2251 - val_acc: 0.8855 - val_loss: 0.3291\n",
      "Epoch 14/20\n",
      "1500/1500 - 3s - 2ms/step - acc: 0.9181 - loss: 0.2163 - val_acc: 0.8944 - val_loss: 0.3043\n",
      "Epoch 15/20\n",
      "1500/1500 - 4s - 2ms/step - acc: 0.9213 - loss: 0.2083 - val_acc: 0.8902 - val_loss: 0.3302\n",
      "Epoch 16/20\n",
      "1500/1500 - 3s - 2ms/step - acc: 0.9219 - loss: 0.2053 - val_acc: 0.8913 - val_loss: 0.3247\n",
      "Epoch 17/20\n",
      "1500/1500 - 3s - 2ms/step - acc: 0.9247 - loss: 0.1988 - val_acc: 0.8917 - val_loss: 0.3308\n",
      "Epoch 18/20\n",
      "1500/1500 - 3s - 2ms/step - acc: 0.9261 - loss: 0.1932 - val_acc: 0.8918 - val_loss: 0.3261\n",
      "Epoch 19/20\n",
      "1500/1500 - 6s - 4ms/step - acc: 0.9288 - loss: 0.1889 - val_acc: 0.8931 - val_loss: 0.3162\n",
      "Epoch 20/20\n",
      "1500/1500 - 4s - 2ms/step - acc: 0.9305 - loss: 0.1835 - val_acc: 0.8965 - val_loss: 0.3444\n"
     ]
    }
   ],
   "source": [
    "# 훈련\n",
    "# val_acc가 떨어지면 과적합\n",
    "history = model.fit(x=train_images, \n",
    "                    y=train_oh_targets, \n",
    "                    validation_data=(validation_images, validation_oh_targets), \n",
    "                    batch_size=32,\n",
    "                    epochs=20,\n",
    "                    verbose=2)\n",
    "\n",
    "# 함수 인자로 verbose 옵션은 함수를 실행하면서 발생하는 정보들을 상세하게 출력할 것인지, 표준 출력으로 나타낼 것인지, 출력하지 않을 것인지를 선택할 수 있습니다.\n",
    "# verbose = 0  (출력하지 않음 X)\n",
    "# verbose = 1  (정보를 상세하게 출력함)\n",
    "# verbose = 2  (정보를 함축적으로 출력함)"
   ]
  },
  {
   "cell_type": "code",
   "execution_count": 18,
   "id": "ceb949ad-b93a-474e-ae74-f0961524fed3",
   "metadata": {},
   "outputs": [
    {
     "data": {
      "image/png": "[encoded data removed]",
      "text/plain": [
       "<Figure size 640x480 with 1 Axes>"
      ]
     },
     "metadata": {},
     "output_type": "display_data"
    }
   ],
   "source": [
    "import matplotlib.pyplot as plt\n",
    "\n",
    "# 훈련 결과 그래프로 확인\n",
    "plt.plot(history.history['acc'], label='train')\n",
    "plt.plot(history.history['val_acc'], label='validation')\n",
    "plt.legend()\n",
    "plt.show()\n",
    "\n",
    "# 10번쯤 반복이 괜찮지 않을까..."
   ]
  },
  {
   "cell_type": "code",
   "execution_count": 19,
   "id": "a533aa15-2898-4897-a92a-24ef690296af",
   "metadata": {},
   "outputs": [
    {
     "name": "stdout",
     "output_type": "stream",
     "text": [
      "\u001b[1m1/1\u001b[0m \u001b[32m━━━━━━━━━━━━━━━━━━━━\u001b[0m\u001b[37m\u001b[0m \u001b[1m0s\u001b[0m 45ms/step\n",
      "[[2.83732788e-06 6.45573872e-13 9.06017542e-01 2.30879547e-08\n",
      "  8.26458186e-02 1.44290500e-11 1.13338465e-02 5.86734758e-11\n",
      "  6.22067162e-08 9.59832214e-11]]\n"
     ]
    },
    {
     "data": {
      "image/png": "[encoded data removed]",
      "text/plain": [
       "<Figure size 640x480 with 1 Axes>"
      ]
     },
     "metadata": {},
     "output_type": "display_data"
    }
   ],
   "source": [
    "import matplotlib.pyplot as plt\n",
    "\n",
    "# 예측할 이미지 뽑고\n",
    "# 이미지를 보고 예측된 이름 가져오기\n",
    "\n",
    "# 클래스 이름 지정\n",
    "class_names = ['T-shirt/top', 'Trouser', 'Pullover', 'Dress', 'Coat','Sandal', 'Shirt', 'Sneaker', 'Bag', 'Ankle boot']\n",
    "\n",
    "# 예측\n",
    "pred_prob = model.predict(np.expand_dims(test_images[25], axis=0))\n",
    "print(pred_prob)\n",
    "\n",
    "# 이미지 출력\n",
    "plt.imshow(test_images[25], cmap='gray')\n",
    "# 이미지의 예측된 이름 출력\n",
    "plt.title(class_names[pred_prob.flatten().argsort()[::-1][0]])\n",
    "plt.show()"
   ]
  },
  {
   "cell_type": "code",
   "execution_count": 20,
   "id": "763a38b2-130d-45b1-b4a0-a90135acdfa0",
   "metadata": {},
   "outputs": [
    {
     "name": "stdout",
     "output_type": "stream",
     "text": [
      "\u001b[1m313/313\u001b[0m \u001b[32m━━━━━━━━━━━━━━━━━━━━\u001b[0m\u001b[37m\u001b[0m \u001b[1m1s\u001b[0m 1ms/step - acc: 0.8855 - loss: 0.3729\n"
     ]
    },
    {
     "data": {
      "text/plain": [
       "[0.38153281807899475, 0.8845999836921692]"
      ]
     },
     "execution_count": 20,
     "metadata": {},
     "output_type": "execute_result"
    }
   ],
   "source": [
    "# 평가\n",
    "model.evaluate(test_images, test_oh_targets, batch_size=32)"
   ]
  },
  {
   "cell_type": "markdown",
   "id": "d6b8acdc-6c7a-4eee-a1dc-d1552f97fd95",
   "metadata": {},
   "source": [
    "### Functional API"
   ]
  },
  {
   "cell_type": "code",
   "execution_count": 21,
   "id": "7c051dbf-d8e0-4a7f-ba5e-5fb16f37402a",
   "metadata": {},
   "outputs": [
    {
     "name": "stdout",
     "output_type": "stream",
     "text": [
      "30\n"
     ]
    }
   ],
   "source": [
    "class Test:\n",
    "    def __call__(self, data):\n",
    "        return data + 10\n",
    "\n",
    "# 생성자 뒤에 괄호로 쓴다\n",
    "# call 함수\n",
    "print(Test()(20))"
   ]
  },
  {
   "cell_type": "code",
   "execution_count": 22,
   "id": "be3db5de-6ec8-4563-b5ef-28ef41476e28",
   "metadata": {},
   "outputs": [],
   "source": [
    "from tensorflow.keras.layers import Layer, Input, Dense, Flatten\n",
    "from tensorflow.keras.models import Model\n",
    "\n",
    "# 입력 데이터 크기 \n",
    "INPUT_SIZE = 28\n",
    "\n",
    "# 인공 신경망 생성 함수\n",
    "def create_model():\n",
    "    input_tensor = Input(shape=(INPUT_SIZE, INPUT_SIZE))\n",
    "    x = Flatten()(input_tensor)\n",
    "    x = Dense(64, activation='relu')(x)\n",
    "    x = Dense(128, activation='relu')(x)\n",
    "    output = Dense(10, activation='softmax')(x)\n",
    "\n",
    "    model = Model(inputs=input_tensor, outputs=output)\n",
    "    return model"
   ]
  },
  {
   "cell_type": "code",
   "execution_count": 23,
   "id": "d6633cfc-3fdb-402b-9de0-5fff6e6cba79",
   "metadata": {},
   "outputs": [],
   "source": [
    "from tensorflow.keras.utils import to_categorical\n",
    "from sklearn.model_selection import train_test_split\n",
    "import numpy as np\n",
    "\n",
    "# 데이터 세트 불러오기\n",
    "(train_images, train_targets), (test_images, test_targets) = fashion_mnist.load_data()\n",
    "\n",
    "# 전처리 함수 선언\n",
    "def get_preprocessed_data(images, targets):\n",
    "    images = np.array(images / 255.0, dtype=np.float32)\n",
    "    targets = np.array(targets, dtype=np.float32)\n",
    "\n",
    "    return images, targets\n",
    "\n",
    "# 원-핫 인코딩 변환 함수 선언\n",
    "def get_preprocessed_ohe(images, targets):\n",
    "    images, targets = get_preprocessed_data(images, targets)\n",
    "    oh_targets = to_categorical(targets)\n",
    "\n",
    "    return images, oh_targets\n",
    "\n",
    "# 데이터 세트 분리 함수\n",
    "def get_train_valid_test(train_images, train_targets, test_images, test_targets, validation_size=0.2, random_state=124):\n",
    "    train_images, train_oh_targets = get_preprocessed_ohe(train_images, train_targets)\n",
    "    test_images, test_oh_targets = get_preprocessed_ohe(test_images, test_targets)\n",
    "\n",
    "    train_images, validation_images, train_oh_targets, validation_oh_targets = \\\n",
    "    train_test_split(train_images, train_oh_targets, stratify=train_oh_targets, test_size=validation_size, random_state=random_state)\n",
    "\n",
    "    return (train_images, train_oh_targets), (validation_images, validation_oh_targets), (test_images, test_oh_targets)\n",
    "\n",
    "\n",
    "# 딥러닝은 무조건 모듈화해야 함!"
   ]
  },
  {
   "cell_type": "code",
   "execution_count": 24,
   "id": "3af53391-ee41-462a-a960-8729c5a5409c",
   "metadata": {},
   "outputs": [
    {
     "name": "stdout",
     "output_type": "stream",
     "text": [
      "(48000, 28, 28) (48000, 10)\n",
      "(12000, 28, 28) (12000, 10)\n",
      "(10000, 28, 28) (10000, 10)\n"
     ]
    }
   ],
   "source": [
    "from tensorflow.keras.datasets import fashion_mnist\n",
    "\n",
    "# 데이터 세트 불러오기\n",
    "(train_images, train_targets), (test_images, test_targets) = fashion_mnist.load_data()\n",
    "\n",
    "# 데이터 세트 분리 함수를 통해 데이터 세트 분리\n",
    "# 케라스에서 지원하는 데이터에서만 사용가능한 모듈(케글 이런곳에서 들고온 거 안됨)\n",
    "(train_images, train_oh_targets), (validation_images, validation_oh_targets), (test_images, test_oh_targets) = \\\n",
    "get_train_valid_test(train_images, train_targets, test_images, test_targets)\n",
    "\n",
    "# 형태 확인\n",
    "print(train_images.shape, train_oh_targets.shape)\n",
    "print(validation_images.shape, validation_oh_targets.shape)\n",
    "print(test_images.shape, test_oh_targets.shape)"
   ]
  },
  {
   "cell_type": "code",
   "execution_count": 25,
   "id": "230817e6-ad6d-4388-81f6-df9524dcb81f",
   "metadata": {},
   "outputs": [
    {
     "data": {
      "text/html": [
       "<pre style=\"white-space:pre;overflow-x:auto;line-height:normal;font-family:Menlo,'DejaVu Sans Mono',consolas,'Courier New',monospace\"><span style=\"font-weight: bold\">Model: \"functional_3\"</span>\n",
       "</pre>\n"
      ],
      "text/plain": [
       "\u001b[1mModel: \"functional_3\"\u001b[0m\n"
      ]
     },
     "metadata": {},
     "output_type": "display_data"
    },
    {
     "data": {
      "text/html": [
       "<pre style=\"white-space:pre;overflow-x:auto;line-height:normal;font-family:Menlo,'DejaVu Sans Mono',consolas,'Courier New',monospace\">┏━━━━━━━━━━━━━━━━━━━━━━━━━━━━━━━━━━━━━━┳━━━━━━━━━━━━━━━━━━━━━━━━━━━━━┳━━━━━━━━━━━━━━━━━┓\n",
       "┃<span style=\"font-weight: bold\"> Layer (type)                         </span>┃<span style=\"font-weight: bold\"> Output Shape                </span>┃<span style=\"font-weight: bold\">         Param # </span>┃\n",
       "┡━━━━━━━━━━━━━━━━━━━━━━━━━━━━━━━━━━━━━━╇━━━━━━━━━━━━━━━━━━━━━━━━━━━━━╇━━━━━━━━━━━━━━━━━┩\n",
       "│ input_layer_2 (<span style=\"color: #0087ff; text-decoration-color: #0087ff\">InputLayer</span>)           │ (<span style=\"color: #00d7ff; text-decoration-color: #00d7ff\">None</span>, <span style=\"color: #00af00; text-decoration-color: #00af00\">28</span>, <span style=\"color: #00af00; text-decoration-color: #00af00\">28</span>)              │               <span style=\"color: #00af00; text-decoration-color: #00af00\">0</span> │\n",
       "├──────────────────────────────────────┼─────────────────────────────┼─────────────────┤\n",
       "│ flatten_2 (<span style=\"color: #0087ff; text-decoration-color: #0087ff\">Flatten</span>)                  │ (<span style=\"color: #00d7ff; text-decoration-color: #00d7ff\">None</span>, <span style=\"color: #00af00; text-decoration-color: #00af00\">784</span>)                 │               <span style=\"color: #00af00; text-decoration-color: #00af00\">0</span> │\n",
       "├──────────────────────────────────────┼─────────────────────────────┼─────────────────┤\n",
       "│ dense_6 (<span style=\"color: #0087ff; text-decoration-color: #0087ff\">Dense</span>)                      │ (<span style=\"color: #00d7ff; text-decoration-color: #00d7ff\">None</span>, <span style=\"color: #00af00; text-decoration-color: #00af00\">64</span>)                  │          <span style=\"color: #00af00; text-decoration-color: #00af00\">50,240</span> │\n",
       "├──────────────────────────────────────┼─────────────────────────────┼─────────────────┤\n",
       "│ dense_7 (<span style=\"color: #0087ff; text-decoration-color: #0087ff\">Dense</span>)                      │ (<span style=\"color: #00d7ff; text-decoration-color: #00d7ff\">None</span>, <span style=\"color: #00af00; text-decoration-color: #00af00\">128</span>)                 │           <span style=\"color: #00af00; text-decoration-color: #00af00\">8,320</span> │\n",
       "├──────────────────────────────────────┼─────────────────────────────┼─────────────────┤\n",
       "│ dense_8 (<span style=\"color: #0087ff; text-decoration-color: #0087ff\">Dense</span>)                      │ (<span style=\"color: #00d7ff; text-decoration-color: #00d7ff\">None</span>, <span style=\"color: #00af00; text-decoration-color: #00af00\">10</span>)                  │           <span style=\"color: #00af00; text-decoration-color: #00af00\">1,290</span> │\n",
       "└──────────────────────────────────────┴─────────────────────────────┴─────────────────┘\n",
       "</pre>\n"
      ],
      "text/plain": [
       "┏━━━━━━━━━━━━━━━━━━━━━━━━━━━━━━━━━━━━━━┳━━━━━━━━━━━━━━━━━━━━━━━━━━━━━┳━━━━━━━━━━━━━━━━━┓\n",
       "┃\u001b[1m \u001b[0m\u001b[1mLayer (type)                        \u001b[0m\u001b[1m \u001b[0m┃\u001b[1m \u001b[0m\u001b[1mOutput Shape               \u001b[0m\u001b[1m \u001b[0m┃\u001b[1m \u001b[0m\u001b[1m        Param #\u001b[0m\u001b[1m \u001b[0m┃\n",
       "┡━━━━━━━━━━━━━━━━━━━━━━━━━━━━━━━━━━━━━━╇━━━━━━━━━━━━━━━━━━━━━━━━━━━━━╇━━━━━━━━━━━━━━━━━┩\n",
       "│ input_layer_2 (\u001b[38;5;33mInputLayer\u001b[0m)           │ (\u001b[38;5;45mNone\u001b[0m, \u001b[38;5;34m28\u001b[0m, \u001b[38;5;34m28\u001b[0m)              │               \u001b[38;5;34m0\u001b[0m │\n",
       "├──────────────────────────────────────┼─────────────────────────────┼─────────────────┤\n",
       "│ flatten_2 (\u001b[38;5;33mFlatten\u001b[0m)                  │ (\u001b[38;5;45mNone\u001b[0m, \u001b[38;5;34m784\u001b[0m)                 │               \u001b[38;5;34m0\u001b[0m │\n",
       "├──────────────────────────────────────┼─────────────────────────────┼─────────────────┤\n",
       "│ dense_6 (\u001b[38;5;33mDense\u001b[0m)                      │ (\u001b[38;5;45mNone\u001b[0m, \u001b[38;5;34m64\u001b[0m)                  │          \u001b[38;5;34m50,240\u001b[0m │\n",
       "├──────────────────────────────────────┼─────────────────────────────┼─────────────────┤\n",
       "│ dense_7 (\u001b[38;5;33mDense\u001b[0m)                      │ (\u001b[38;5;45mNone\u001b[0m, \u001b[38;5;34m128\u001b[0m)                 │           \u001b[38;5;34m8,320\u001b[0m │\n",
       "├──────────────────────────────────────┼─────────────────────────────┼─────────────────┤\n",
       "│ dense_8 (\u001b[38;5;33mDense\u001b[0m)                      │ (\u001b[38;5;45mNone\u001b[0m, \u001b[38;5;34m10\u001b[0m)                  │           \u001b[38;5;34m1,290\u001b[0m │\n",
       "└──────────────────────────────────────┴─────────────────────────────┴─────────────────┘\n"
      ]
     },
     "metadata": {},
     "output_type": "display_data"
    },
    {
     "data": {
      "text/html": [
       "<pre style=\"white-space:pre;overflow-x:auto;line-height:normal;font-family:Menlo,'DejaVu Sans Mono',consolas,'Courier New',monospace\"><span style=\"font-weight: bold\"> Total params: </span><span style=\"color: #00af00; text-decoration-color: #00af00\">59,850</span> (233.79 KB)\n",
       "</pre>\n"
      ],
      "text/plain": [
       "\u001b[1m Total params: \u001b[0m\u001b[38;5;34m59,850\u001b[0m (233.79 KB)\n"
      ]
     },
     "metadata": {},
     "output_type": "display_data"
    },
    {
     "data": {
      "text/html": [
       "<pre style=\"white-space:pre;overflow-x:auto;line-height:normal;font-family:Menlo,'DejaVu Sans Mono',consolas,'Courier New',monospace\"><span style=\"font-weight: bold\"> Trainable params: </span><span style=\"color: #00af00; text-decoration-color: #00af00\">59,850</span> (233.79 KB)\n",
       "</pre>\n"
      ],
      "text/plain": [
       "\u001b[1m Trainable params: \u001b[0m\u001b[38;5;34m59,850\u001b[0m (233.79 KB)\n"
      ]
     },
     "metadata": {},
     "output_type": "display_data"
    },
    {
     "data": {
      "text/html": [
       "<pre style=\"white-space:pre;overflow-x:auto;line-height:normal;font-family:Menlo,'DejaVu Sans Mono',consolas,'Courier New',monospace\"><span style=\"font-weight: bold\"> Non-trainable params: </span><span style=\"color: #00af00; text-decoration-color: #00af00\">0</span> (0.00 B)\n",
       "</pre>\n"
      ],
      "text/plain": [
       "\u001b[1m Non-trainable params: \u001b[0m\u001b[38;5;34m0\u001b[0m (0.00 B)\n"
      ]
     },
     "metadata": {},
     "output_type": "display_data"
    }
   ],
   "source": [
    "# 인공 신경망 생성 함수를 통해 인공 신경망 생성\n",
    "model = create_model()\n",
    "# 모델 구조 확인\n",
    "model.summary()"
   ]
  },
  {
   "cell_type": "code",
   "execution_count": 26,
   "id": "d5ce287c-7ee8-4502-8bb3-3fd2dc583312",
   "metadata": {},
   "outputs": [],
   "source": [
    "from tensorflow.keras.optimizers import Adam\n",
    "from tensorflow.keras.losses import CategoricalCrossentropy\n",
    "\n",
    "# 모델 컴파일 (변수에 저장 X)\n",
    "model.compile(optimizer=Adam(0.001), loss=CategoricalCrossentropy(), metrics=['acc'])"
   ]
  },
  {
   "cell_type": "code",
   "execution_count": 27,
   "id": "0bd1ef97-3088-40ee-9d3d-1c555dc5a6c2",
   "metadata": {},
   "outputs": [
    {
     "name": "stdout",
     "output_type": "stream",
     "text": [
      "Epoch 1/20\n",
      "\u001b[1m750/750\u001b[0m \u001b[32m━━━━━━━━━━━━━━━━━━━━\u001b[0m\u001b[37m\u001b[0m \u001b[1m3s\u001b[0m 3ms/step - acc: 0.7390 - loss: 0.7658 - val_acc: 0.8424 - val_loss: 0.4364\n",
      "Epoch 2/20\n",
      "\u001b[1m750/750\u001b[0m \u001b[32m━━━━━━━━━━━━━━━━━━━━\u001b[0m\u001b[37m\u001b[0m \u001b[1m2s\u001b[0m 2ms/step - acc: 0.8503 - loss: 0.4148 - val_acc: 0.8592 - val_loss: 0.3791\n",
      "Epoch 3/20\n",
      "\u001b[1m750/750\u001b[0m \u001b[32m━━━━━━━━━━━━━━━━━━━━\u001b[0m\u001b[37m\u001b[0m \u001b[1m2s\u001b[0m 2ms/step - acc: 0.8660 - loss: 0.3678 - val_acc: 0.8668 - val_loss: 0.3610\n",
      "Epoch 4/20\n",
      "\u001b[1m750/750\u001b[0m \u001b[32m━━━━━━━━━━━━━━━━━━━━\u001b[0m\u001b[37m\u001b[0m \u001b[1m2s\u001b[0m 3ms/step - acc: 0.8783 - loss: 0.3317 - val_acc: 0.8733 - val_loss: 0.3352\n",
      "Epoch 5/20\n",
      "\u001b[1m750/750\u001b[0m \u001b[32m━━━━━━━━━━━━━━━━━━━━\u001b[0m\u001b[37m\u001b[0m \u001b[1m2s\u001b[0m 3ms/step - acc: 0.8845 - loss: 0.3108 - val_acc: 0.8597 - val_loss: 0.3625\n",
      "Epoch 6/20\n",
      "\u001b[1m750/750\u001b[0m \u001b[32m━━━━━━━━━━━━━━━━━━━━\u001b[0m\u001b[37m\u001b[0m \u001b[1m2s\u001b[0m 2ms/step - acc: 0.8895 - loss: 0.3018 - val_acc: 0.8714 - val_loss: 0.3443\n",
      "Epoch 7/20\n",
      "\u001b[1m750/750\u001b[0m \u001b[32m━━━━━━━━━━━━━━━━━━━━\u001b[0m\u001b[37m\u001b[0m \u001b[1m2s\u001b[0m 3ms/step - acc: 0.8955 - loss: 0.2818 - val_acc: 0.8779 - val_loss: 0.3308\n",
      "Epoch 8/20\n",
      "\u001b[1m750/750\u001b[0m \u001b[32m━━━━━━━━━━━━━━━━━━━━\u001b[0m\u001b[37m\u001b[0m \u001b[1m2s\u001b[0m 3ms/step - acc: 0.9015 - loss: 0.2652 - val_acc: 0.8788 - val_loss: 0.3310\n",
      "Epoch 9/20\n",
      "\u001b[1m750/750\u001b[0m \u001b[32m━━━━━━━━━━━━━━━━━━━━\u001b[0m\u001b[37m\u001b[0m \u001b[1m2s\u001b[0m 3ms/step - acc: 0.8988 - loss: 0.2691 - val_acc: 0.8787 - val_loss: 0.3274\n",
      "Epoch 10/20\n",
      "\u001b[1m750/750\u001b[0m \u001b[32m━━━━━━━━━━━━━━━━━━━━\u001b[0m\u001b[37m\u001b[0m \u001b[1m2s\u001b[0m 3ms/step - acc: 0.9020 - loss: 0.2590 - val_acc: 0.8817 - val_loss: 0.3179\n",
      "Epoch 11/20\n",
      "\u001b[1m750/750\u001b[0m \u001b[32m━━━━━━━━━━━━━━━━━━━━\u001b[0m\u001b[37m\u001b[0m \u001b[1m2s\u001b[0m 2ms/step - acc: 0.9077 - loss: 0.2468 - val_acc: 0.8851 - val_loss: 0.3095\n",
      "Epoch 12/20\n",
      "\u001b[1m750/750\u001b[0m \u001b[32m━━━━━━━━━━━━━━━━━━━━\u001b[0m\u001b[37m\u001b[0m \u001b[1m2s\u001b[0m 3ms/step - acc: 0.9109 - loss: 0.2306 - val_acc: 0.8862 - val_loss: 0.3164\n",
      "Epoch 13/20\n",
      "\u001b[1m750/750\u001b[0m \u001b[32m━━━━━━━━━━━━━━━━━━━━\u001b[0m\u001b[37m\u001b[0m \u001b[1m2s\u001b[0m 3ms/step - acc: 0.9136 - loss: 0.2320 - val_acc: 0.8847 - val_loss: 0.3169\n",
      "Epoch 14/20\n",
      "\u001b[1m750/750\u001b[0m \u001b[32m━━━━━━━━━━━━━━━━━━━━\u001b[0m\u001b[37m\u001b[0m \u001b[1m2s\u001b[0m 3ms/step - acc: 0.9172 - loss: 0.2176 - val_acc: 0.8813 - val_loss: 0.3292\n",
      "Epoch 15/20\n",
      "\u001b[1m750/750\u001b[0m \u001b[32m━━━━━━━━━━━━━━━━━━━━\u001b[0m\u001b[37m\u001b[0m \u001b[1m2s\u001b[0m 3ms/step - acc: 0.9194 - loss: 0.2127 - val_acc: 0.8842 - val_loss: 0.3233\n",
      "Epoch 16/20\n",
      "\u001b[1m750/750\u001b[0m \u001b[32m━━━━━━━━━━━━━━━━━━━━\u001b[0m\u001b[37m\u001b[0m \u001b[1m2s\u001b[0m 3ms/step - acc: 0.9209 - loss: 0.2090 - val_acc: 0.8874 - val_loss: 0.3247\n",
      "Epoch 17/20\n",
      "\u001b[1m750/750\u001b[0m \u001b[32m━━━━━━━━━━━━━━━━━━━━\u001b[0m\u001b[37m\u001b[0m \u001b[1m2s\u001b[0m 2ms/step - acc: 0.9242 - loss: 0.1984 - val_acc: 0.8867 - val_loss: 0.3195\n",
      "Epoch 18/20\n",
      "\u001b[1m750/750\u001b[0m \u001b[32m━━━━━━━━━━━━━━━━━━━━\u001b[0m\u001b[37m\u001b[0m \u001b[1m2s\u001b[0m 3ms/step - acc: 0.9253 - loss: 0.1976 - val_acc: 0.8835 - val_loss: 0.3491\n",
      "Epoch 19/20\n",
      "\u001b[1m750/750\u001b[0m \u001b[32m━━━━━━━━━━━━━━━━━━━━\u001b[0m\u001b[37m\u001b[0m \u001b[1m2s\u001b[0m 3ms/step - acc: 0.9224 - loss: 0.1983 - val_acc: 0.8887 - val_loss: 0.3219\n",
      "Epoch 20/20\n",
      "\u001b[1m750/750\u001b[0m \u001b[32m━━━━━━━━━━━━━━━━━━━━\u001b[0m\u001b[37m\u001b[0m \u001b[1m2s\u001b[0m 3ms/step - acc: 0.9305 - loss: 0.1842 - val_acc: 0.8889 - val_loss: 0.3310\n"
     ]
    }
   ],
   "source": [
    "# 훈련\n",
    "history = model.fit(x=train_images, \n",
    "                    y=train_oh_targets, \n",
    "                    batch_size=64, \n",
    "                    epochs=20, \n",
    "                    validation_data=(validation_images, validation_oh_targets))"
   ]
  },
  {
   "cell_type": "code",
   "execution_count": 28,
   "id": "88917d36-775e-48fa-a327-148f2f4092f1",
   "metadata": {},
   "outputs": [
    {
     "data": {
      "image/png": "[encoded data removed]",
      "text/plain": [
       "<Figure size 640x480 with 1 Axes>"
      ]
     },
     "metadata": {},
     "output_type": "display_data"
    }
   ],
   "source": [
    "import matplotlib.pyplot as plt\n",
    "\n",
    "# 학습과정 지표를 그래프화 하는 함수\n",
    "def show_history(history):\n",
    "    plt.plot(history.history['acc'], label='train')\n",
    "    plt.plot(history.history['val_acc'], label='validation')\n",
    "    plt.legend()\n",
    "    plt.show()\n",
    "\n",
    "show_history(history)"
   ]
  },
  {
   "cell_type": "code",
   "execution_count": 29,
   "id": "7fa19684-58c0-494c-be96-d78c16ffebd1",
   "metadata": {},
   "outputs": [
    {
     "name": "stdout",
     "output_type": "stream",
     "text": [
      "\u001b[1m1/1\u001b[0m \u001b[32m━━━━━━━━━━━━━━━━━━━━\u001b[0m\u001b[37m\u001b[0m \u001b[1m0s\u001b[0m 70ms/step\n",
      "[[1.3856778e-04 4.9441629e-10 9.9710649e-01 6.4971855e-09 4.3534685e-04\n",
      "  2.7805255e-11 2.3195825e-03 3.4039276e-14 1.4717925e-09 3.4645986e-12]]\n"
     ]
    }
   ],
   "source": [
    "# 예측\n",
    "pred_prob = model.predict(np.expand_dims(test_images[8500], axis=0))\n",
    "print(pred_prob)"
   ]
  },
  {
   "cell_type": "code",
   "execution_count": 30,
   "id": "791160ed-f7af-4311-b95b-60529cf90fb9",
   "metadata": {},
   "outputs": [
    {
     "data": {
      "image/png": "[encoded data removed]",
      "text/plain": [
       "<Figure size 640x480 with 1 Axes>"
      ]
     },
     "metadata": {},
     "output_type": "display_data"
    }
   ],
   "source": [
    "import matplotlib.pyplot as plt\n",
    "\n",
    "# 클래스 이름 지정\n",
    "class_names = ['T-shirt/top', 'Trouser', 'Pullover', 'Dress', 'Coat','Sandal', 'Shirt', 'Sneaker', 'Bag', 'Ankle boot']\n",
    "\n",
    "# 이미치 출력\n",
    "plt.imshow(test_images[8500], cmap='gray')\n",
    "# 이미지의 예측된 이름 출력\n",
    "plt.title(class_names[pred_prob.flatten().argsort()[::-1][0]])\n",
    "plt.show()"
   ]
  }
 ],
 "metadata": {
  "kernelspec": {
   "display_name": "Python 3 (ipykernel)",
   "language": "python",
   "name": "python3"
  },
  "language_info": {
   "codemirror_mode": {
    "name": "ipython",
    "version": 3
   },
   "file_extension": ".py",
   "mimetype": "text/x-python",
   "name": "python",
   "nbconvert_exporter": "python",
   "pygments_lexer": "ipython3",
   "version": "3.11.8"
  }
 },
 "nbformat": 4,
 "nbformat_minor": 5
}
