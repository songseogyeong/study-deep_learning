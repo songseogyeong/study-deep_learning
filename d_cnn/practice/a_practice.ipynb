{
 "cells": [
  {
   "cell_type": "markdown",
   "id": "d88904ca-f799-41a4-a648-5164fcbfb165",
   "metadata": {},
   "source": [
    "### 100 Sports Image Classification\n",
    "#### 스포츠 이미지 분류\n",
    "https://www.kaggle.com/datasets/gpiosenka/sports-classification"
   ]
  },
  {
   "cell_type": "code",
   "execution_count": 1,
   "id": "db8a71ce-422c-4802-914b-e34c3199ef90",
   "metadata": {},
   "outputs": [],
   "source": [
    "from glob import glob\n",
    "import os\n",
    "\n",
    "# 이미지가 저장되어 있는 경로 지정\n",
    "train_root = './datasets/Sports/train/'\n",
    "val_root = './datasets/Sports/val/'\n",
    "test_root = './datasets/Sports/test/'\n",
    "\n",
    "# 해당 경로를 통해 이미지 폴더를 찾아옴\n",
    "trian_directories = glob(os.path.join(train_root, '*'))\n",
    "val_directories = glob(os.path.join(val_root, '*'))\n",
    "test_directories = glob(os.path.join(test_root, '*'))"
   ]
  },
  {
   "cell_type": "code",
   "execution_count": 2,
   "id": "d31d69da-a326-4f30-b11d-bfe493e506e8",
   "metadata": {
    "scrolled": true
   },
   "outputs": [
    {
     "name": "stdout",
     "output_type": "stream",
     "text": [
      "['./datasets/Sports/train\\\\air hockey', './datasets/Sports/train\\\\ampute football', './datasets/Sports/train\\\\archery', './datasets/Sports/train\\\\arm wrestling', './datasets/Sports/train\\\\axe throwing', './datasets/Sports/train\\\\balance beam', './datasets/Sports/train\\\\barell racing', './datasets/Sports/train\\\\baseball', './datasets/Sports/train\\\\basketball', './datasets/Sports/train\\\\baton twirling', './datasets/Sports/train\\\\bike polo', './datasets/Sports/train\\\\billiards', './datasets/Sports/train\\\\bmx', './datasets/Sports/train\\\\bobsled', './datasets/Sports/train\\\\bowling', './datasets/Sports/train\\\\boxing', './datasets/Sports/train\\\\bull riding', './datasets/Sports/train\\\\bungee jumping', './datasets/Sports/train\\\\canoe slamon', './datasets/Sports/train\\\\cheerleading', './datasets/Sports/train\\\\chuckwagon racing', './datasets/Sports/train\\\\cricket', './datasets/Sports/train\\\\croquet', './datasets/Sports/train\\\\curling', './datasets/Sports/train\\\\disc golf', './datasets/Sports/train\\\\fencing', './datasets/Sports/train\\\\field hockey', './datasets/Sports/train\\\\figure skating men', './datasets/Sports/train\\\\figure skating pairs', './datasets/Sports/train\\\\figure skating women', './datasets/Sports/train\\\\fly fishing', './datasets/Sports/train\\\\football', './datasets/Sports/train\\\\formula 1 racing', './datasets/Sports/train\\\\frisbee', './datasets/Sports/train\\\\gaga', './datasets/Sports/train\\\\giant slalom', './datasets/Sports/train\\\\golf', './datasets/Sports/train\\\\hammer throw', './datasets/Sports/train\\\\hang gliding', './datasets/Sports/train\\\\harness racing', './datasets/Sports/train\\\\high jump', './datasets/Sports/train\\\\hockey', './datasets/Sports/train\\\\horse jumping', './datasets/Sports/train\\\\horse racing', './datasets/Sports/train\\\\horseshoe pitching', './datasets/Sports/train\\\\hurdles', './datasets/Sports/train\\\\hydroplane racing', './datasets/Sports/train\\\\ice climbing', './datasets/Sports/train\\\\ice yachting', './datasets/Sports/train\\\\jai alai', './datasets/Sports/train\\\\javelin', './datasets/Sports/train\\\\jousting', './datasets/Sports/train\\\\judo', './datasets/Sports/train\\\\lacrosse', './datasets/Sports/train\\\\log rolling', './datasets/Sports/train\\\\luge', './datasets/Sports/train\\\\motorcycle racing', './datasets/Sports/train\\\\mushing', './datasets/Sports/train\\\\nascar racing', './datasets/Sports/train\\\\olympic wrestling', './datasets/Sports/train\\\\parallel bar', './datasets/Sports/train\\\\pole climbing', './datasets/Sports/train\\\\pole dancing', './datasets/Sports/train\\\\pole vault', './datasets/Sports/train\\\\polo', './datasets/Sports/train\\\\pommel horse', './datasets/Sports/train\\\\rings', './datasets/Sports/train\\\\rock climbing', './datasets/Sports/train\\\\roller derby', './datasets/Sports/train\\\\rollerblade racing', './datasets/Sports/train\\\\rowing', './datasets/Sports/train\\\\rugby', './datasets/Sports/train\\\\sailboat racing', './datasets/Sports/train\\\\shot put', './datasets/Sports/train\\\\shuffleboard', './datasets/Sports/train\\\\sidecar racing', './datasets/Sports/train\\\\ski jumping', './datasets/Sports/train\\\\sky surfing', './datasets/Sports/train\\\\skydiving', './datasets/Sports/train\\\\snow boarding', './datasets/Sports/train\\\\snowmobile racing', './datasets/Sports/train\\\\speed skating', './datasets/Sports/train\\\\steer wrestling', './datasets/Sports/train\\\\sumo wrestling', './datasets/Sports/train\\\\surfing', './datasets/Sports/train\\\\swimming', './datasets/Sports/train\\\\table tennis', './datasets/Sports/train\\\\tennis', './datasets/Sports/train\\\\track bicycle', './datasets/Sports/train\\\\trapeze', './datasets/Sports/train\\\\tug of war', './datasets/Sports/train\\\\ultimate', './datasets/Sports/train\\\\uneven bars', './datasets/Sports/train\\\\volleyball', './datasets/Sports/train\\\\water cycling', './datasets/Sports/train\\\\water polo', './datasets/Sports/train\\\\weightlifting', './datasets/Sports/train\\\\wheelchair basketball', './datasets/Sports/train\\\\wheelchair racing', './datasets/Sports/train\\\\wingsuit flying']\n",
      "================================================================================\n",
      "['./datasets/Sports/val\\\\air hockey', './datasets/Sports/val\\\\ampute football', './datasets/Sports/val\\\\archery', './datasets/Sports/val\\\\arm wrestling', './datasets/Sports/val\\\\axe throwing', './datasets/Sports/val\\\\balance beam', './datasets/Sports/val\\\\barell racing', './datasets/Sports/val\\\\baseball', './datasets/Sports/val\\\\basketball', './datasets/Sports/val\\\\baton twirling', './datasets/Sports/val\\\\bike polo', './datasets/Sports/val\\\\billiards', './datasets/Sports/val\\\\bmx', './datasets/Sports/val\\\\bobsled', './datasets/Sports/val\\\\bowling', './datasets/Sports/val\\\\boxing', './datasets/Sports/val\\\\bull riding', './datasets/Sports/val\\\\bungee jumping', './datasets/Sports/val\\\\canoe slamon', './datasets/Sports/val\\\\cheerleading', './datasets/Sports/val\\\\chuckwagon racing', './datasets/Sports/val\\\\cricket', './datasets/Sports/val\\\\croquet', './datasets/Sports/val\\\\curling', './datasets/Sports/val\\\\disc golf', './datasets/Sports/val\\\\fencing', './datasets/Sports/val\\\\field hockey', './datasets/Sports/val\\\\figure skating men', './datasets/Sports/val\\\\figure skating pairs', './datasets/Sports/val\\\\figure skating women', './datasets/Sports/val\\\\fly fishing', './datasets/Sports/val\\\\football', './datasets/Sports/val\\\\formula 1 racing', './datasets/Sports/val\\\\frisbee', './datasets/Sports/val\\\\gaga', './datasets/Sports/val\\\\giant slalom', './datasets/Sports/val\\\\golf', './datasets/Sports/val\\\\hammer throw', './datasets/Sports/val\\\\hang gliding', './datasets/Sports/val\\\\harness racing', './datasets/Sports/val\\\\high jump', './datasets/Sports/val\\\\hockey', './datasets/Sports/val\\\\horse jumping', './datasets/Sports/val\\\\horse racing', './datasets/Sports/val\\\\horseshoe pitching', './datasets/Sports/val\\\\hurdles', './datasets/Sports/val\\\\hydroplane racing', './datasets/Sports/val\\\\ice climbing', './datasets/Sports/val\\\\ice yachting', './datasets/Sports/val\\\\jai alai', './datasets/Sports/val\\\\javelin', './datasets/Sports/val\\\\jousting', './datasets/Sports/val\\\\judo', './datasets/Sports/val\\\\lacrosse', './datasets/Sports/val\\\\log rolling', './datasets/Sports/val\\\\luge', './datasets/Sports/val\\\\motorcycle racing', './datasets/Sports/val\\\\mushing', './datasets/Sports/val\\\\nascar racing', './datasets/Sports/val\\\\olympic wrestling', './datasets/Sports/val\\\\parallel bar', './datasets/Sports/val\\\\pole climbing', './datasets/Sports/val\\\\pole dancing', './datasets/Sports/val\\\\pole vault', './datasets/Sports/val\\\\polo', './datasets/Sports/val\\\\pommel horse', './datasets/Sports/val\\\\rings', './datasets/Sports/val\\\\rock climbing', './datasets/Sports/val\\\\roller derby', './datasets/Sports/val\\\\rollerblade racing', './datasets/Sports/val\\\\rowing', './datasets/Sports/val\\\\rugby', './datasets/Sports/val\\\\sailboat racing', './datasets/Sports/val\\\\shot put', './datasets/Sports/val\\\\shuffleboard', './datasets/Sports/val\\\\sidecar racing', './datasets/Sports/val\\\\ski jumping', './datasets/Sports/val\\\\sky surfing', './datasets/Sports/val\\\\skydiving', './datasets/Sports/val\\\\snow boarding', './datasets/Sports/val\\\\snowmobile racing', './datasets/Sports/val\\\\speed skating', './datasets/Sports/val\\\\steer wrestling', './datasets/Sports/val\\\\sumo wrestling', './datasets/Sports/val\\\\surfing', './datasets/Sports/val\\\\swimming', './datasets/Sports/val\\\\table tennis', './datasets/Sports/val\\\\tennis', './datasets/Sports/val\\\\track bicycle', './datasets/Sports/val\\\\trapeze', './datasets/Sports/val\\\\tug of war', './datasets/Sports/val\\\\ultimate', './datasets/Sports/val\\\\uneven bars', './datasets/Sports/val\\\\volleyball', './datasets/Sports/val\\\\water cycling', './datasets/Sports/val\\\\water polo', './datasets/Sports/val\\\\weightlifting', './datasets/Sports/val\\\\wheelchair basketball', './datasets/Sports/val\\\\wheelchair racing', './datasets/Sports/val\\\\wingsuit flying']\n",
      "================================================================================\n",
      "['./datasets/Sports/test\\\\air hockey', './datasets/Sports/test\\\\ampute football', './datasets/Sports/test\\\\archery', './datasets/Sports/test\\\\arm wrestling', './datasets/Sports/test\\\\axe throwing', './datasets/Sports/test\\\\balance beam', './datasets/Sports/test\\\\barell racing', './datasets/Sports/test\\\\baseball', './datasets/Sports/test\\\\basketball', './datasets/Sports/test\\\\baton twirling', './datasets/Sports/test\\\\bike polo', './datasets/Sports/test\\\\billiards', './datasets/Sports/test\\\\bmx', './datasets/Sports/test\\\\bobsled', './datasets/Sports/test\\\\bowling', './datasets/Sports/test\\\\boxing', './datasets/Sports/test\\\\bull riding', './datasets/Sports/test\\\\bungee jumping', './datasets/Sports/test\\\\canoe slamon', './datasets/Sports/test\\\\cheerleading', './datasets/Sports/test\\\\chuckwagon racing', './datasets/Sports/test\\\\cricket', './datasets/Sports/test\\\\croquet', './datasets/Sports/test\\\\curling', './datasets/Sports/test\\\\disc golf', './datasets/Sports/test\\\\fencing', './datasets/Sports/test\\\\field hockey', './datasets/Sports/test\\\\figure skating men', './datasets/Sports/test\\\\figure skating pairs', './datasets/Sports/test\\\\figure skating women', './datasets/Sports/test\\\\fly fishing', './datasets/Sports/test\\\\football', './datasets/Sports/test\\\\formula 1 racing', './datasets/Sports/test\\\\frisbee', './datasets/Sports/test\\\\gaga', './datasets/Sports/test\\\\giant slalom', './datasets/Sports/test\\\\golf', './datasets/Sports/test\\\\hammer throw', './datasets/Sports/test\\\\hang gliding', './datasets/Sports/test\\\\harness racing', './datasets/Sports/test\\\\high jump', './datasets/Sports/test\\\\hockey', './datasets/Sports/test\\\\horse jumping', './datasets/Sports/test\\\\horse racing', './datasets/Sports/test\\\\horseshoe pitching', './datasets/Sports/test\\\\hurdles', './datasets/Sports/test\\\\hydroplane racing', './datasets/Sports/test\\\\ice climbing', './datasets/Sports/test\\\\ice yachting', './datasets/Sports/test\\\\jai alai', './datasets/Sports/test\\\\javelin', './datasets/Sports/test\\\\jousting', './datasets/Sports/test\\\\judo', './datasets/Sports/test\\\\lacrosse', './datasets/Sports/test\\\\log rolling', './datasets/Sports/test\\\\luge', './datasets/Sports/test\\\\motorcycle racing', './datasets/Sports/test\\\\mushing', './datasets/Sports/test\\\\nascar racing', './datasets/Sports/test\\\\olympic wrestling', './datasets/Sports/test\\\\parallel bar', './datasets/Sports/test\\\\pole climbing', './datasets/Sports/test\\\\pole dancing', './datasets/Sports/test\\\\pole vault', './datasets/Sports/test\\\\polo', './datasets/Sports/test\\\\pommel horse', './datasets/Sports/test\\\\rings', './datasets/Sports/test\\\\rock climbing', './datasets/Sports/test\\\\roller derby', './datasets/Sports/test\\\\rollerblade racing', './datasets/Sports/test\\\\rowing', './datasets/Sports/test\\\\rugby', './datasets/Sports/test\\\\sailboat racing', './datasets/Sports/test\\\\shot put', './datasets/Sports/test\\\\shuffleboard', './datasets/Sports/test\\\\sidecar racing', './datasets/Sports/test\\\\ski jumping', './datasets/Sports/test\\\\sky surfing', './datasets/Sports/test\\\\skydiving', './datasets/Sports/test\\\\snow boarding', './datasets/Sports/test\\\\snowmobile racing', './datasets/Sports/test\\\\speed skating', './datasets/Sports/test\\\\steer wrestling', './datasets/Sports/test\\\\sumo wrestling', './datasets/Sports/test\\\\surfing', './datasets/Sports/test\\\\swimming', './datasets/Sports/test\\\\table tennis', './datasets/Sports/test\\\\tennis', './datasets/Sports/test\\\\track bicycle', './datasets/Sports/test\\\\trapeze', './datasets/Sports/test\\\\tug of war', './datasets/Sports/test\\\\ultimate', './datasets/Sports/test\\\\uneven bars', './datasets/Sports/test\\\\volleyball', './datasets/Sports/test\\\\water cycling', './datasets/Sports/test\\\\water polo', './datasets/Sports/test\\\\weightlifting', './datasets/Sports/test\\\\wheelchair basketball', './datasets/Sports/test\\\\wheelchair racing', './datasets/Sports/test\\\\wingsuit flying']\n"
     ]
    }
   ],
   "source": [
    "print(trian_directories)\n",
    "print('=' * 80)\n",
    "print(val_directories)\n",
    "print('=' * 80)\n",
    "print(test_directories)"
   ]
  },
  {
   "cell_type": "code",
   "execution_count": 3,
   "id": "04270d4a-7666-4bec-8d85-064ba8791ba6",
   "metadata": {},
   "outputs": [
    {
     "name": "stdout",
     "output_type": "stream",
     "text": [
      "['air hockey', 'ampute football', 'archery', 'arm wrestling', 'axe throwing', 'balance beam', 'barell racing', 'baseball', 'basketball', 'baton twirling', 'bike polo', 'billiards', 'bmx', 'bobsled', 'bowling', 'boxing', 'bull riding', 'bungee jumping', 'canoe slamon', 'cheerleading', 'chuckwagon racing', 'cricket', 'croquet', 'curling', 'disc golf', 'fencing', 'field hockey', 'figure skating men', 'figure skating pairs', 'figure skating women', 'fly fishing', 'football', 'formula 1 racing', 'frisbee', 'gaga', 'giant slalom', 'golf', 'hammer throw', 'hang gliding', 'harness racing', 'high jump', 'hockey', 'horse jumping', 'horse racing', 'horseshoe pitching', 'hurdles', 'hydroplane racing', 'ice climbing', 'ice yachting', 'jai alai', 'javelin', 'jousting', 'judo', 'lacrosse', 'log rolling', 'luge', 'motorcycle racing', 'mushing', 'nascar racing', 'olympic wrestling', 'parallel bar', 'pole climbing', 'pole dancing', 'pole vault', 'polo', 'pommel horse', 'rings', 'rock climbing', 'roller derby', 'rollerblade racing', 'rowing', 'rugby', 'sailboat racing', 'shot put', 'shuffleboard', 'sidecar racing', 'ski jumping', 'sky surfing', 'skydiving', 'snow boarding', 'snowmobile racing', 'speed skating', 'steer wrestling', 'sumo wrestling', 'surfing', 'swimming', 'table tennis', 'tennis', 'track bicycle', 'trapeze', 'tug of war', 'ultimate', 'uneven bars', 'volleyball', 'water cycling', 'water polo', 'weightlifting', 'wheelchair basketball', 'wheelchair racing', 'wingsuit flying']\n"
     ]
    }
   ],
   "source": [
    "# 폴더 이름 저장할 초기 list 생성\n",
    "train_directory_names = []\n",
    "\n",
    "for directory in trian_directories:\n",
    "    # 디렉토리의 이름을 찾아와서 list에 저장\n",
    "    train_directory_names.append(directory[directory.rindex('\\\\') + 1:])\n",
    "\n",
    "print(train_directory_names)"
   ]
  },
  {
   "cell_type": "code",
   "execution_count": 4,
   "id": "ee54a350-9247-4207-8f57-b63a8bce4879",
   "metadata": {},
   "outputs": [
    {
     "name": "stdout",
     "output_type": "stream",
     "text": [
      "['air hockey', 'ampute football', 'archery', 'arm wrestling', 'axe throwing', 'balance beam', 'barell racing', 'baseball', 'basketball', 'baton twirling', 'bike polo', 'billiards', 'bmx', 'bobsled', 'bowling', 'boxing', 'bull riding', 'bungee jumping', 'canoe slamon', 'cheerleading', 'chuckwagon racing', 'cricket', 'croquet', 'curling', 'disc golf', 'fencing', 'field hockey', 'figure skating men', 'figure skating pairs', 'figure skating women', 'fly fishing', 'football', 'formula 1 racing', 'frisbee', 'gaga', 'giant slalom', 'golf', 'hammer throw', 'hang gliding', 'harness racing', 'high jump', 'hockey', 'horse jumping', 'horse racing', 'horseshoe pitching', 'hurdles', 'hydroplane racing', 'ice climbing', 'ice yachting', 'jai alai', 'javelin', 'jousting', 'judo', 'lacrosse', 'log rolling', 'luge', 'motorcycle racing', 'mushing', 'nascar racing', 'olympic wrestling', 'parallel bar', 'pole climbing', 'pole dancing', 'pole vault', 'polo', 'pommel horse', 'rings', 'rock climbing', 'roller derby', 'rollerblade racing', 'rowing', 'rugby', 'sailboat racing', 'shot put', 'shuffleboard', 'sidecar racing', 'ski jumping', 'sky surfing', 'skydiving', 'snow boarding', 'snowmobile racing', 'speed skating', 'steer wrestling', 'sumo wrestling', 'surfing', 'swimming', 'table tennis', 'tennis', 'track bicycle', 'trapeze', 'tug of war', 'ultimate', 'uneven bars', 'volleyball', 'water cycling', 'water polo', 'weightlifting', 'wheelchair basketball', 'wheelchair racing', 'wingsuit flying']\n"
     ]
    }
   ],
   "source": [
    "# 폴더 이름 저장할 초기 list 생성\n",
    "val_directory_names = []\n",
    "\n",
    "for directory in val_directories:\n",
    "    # 디렉토리의 이름을 찾아와서 list에 저장\n",
    "    val_directory_names.append(directory[directory.rindex('\\\\') + 1:])\n",
    "\n",
    "print(val_directory_names)"
   ]
  },
  {
   "cell_type": "code",
   "execution_count": 5,
   "id": "254586f1-550a-4e0e-9f48-c1dac0c5bf42",
   "metadata": {},
   "outputs": [
    {
     "name": "stdout",
     "output_type": "stream",
     "text": [
      "['air hockey', 'ampute football', 'archery', 'arm wrestling', 'axe throwing', 'balance beam', 'barell racing', 'baseball', 'basketball', 'baton twirling', 'bike polo', 'billiards', 'bmx', 'bobsled', 'bowling', 'boxing', 'bull riding', 'bungee jumping', 'canoe slamon', 'cheerleading', 'chuckwagon racing', 'cricket', 'croquet', 'curling', 'disc golf', 'fencing', 'field hockey', 'figure skating men', 'figure skating pairs', 'figure skating women', 'fly fishing', 'football', 'formula 1 racing', 'frisbee', 'gaga', 'giant slalom', 'golf', 'hammer throw', 'hang gliding', 'harness racing', 'high jump', 'hockey', 'horse jumping', 'horse racing', 'horseshoe pitching', 'hurdles', 'hydroplane racing', 'ice climbing', 'ice yachting', 'jai alai', 'javelin', 'jousting', 'judo', 'lacrosse', 'log rolling', 'luge', 'motorcycle racing', 'mushing', 'nascar racing', 'olympic wrestling', 'parallel bar', 'pole climbing', 'pole dancing', 'pole vault', 'polo', 'pommel horse', 'rings', 'rock climbing', 'roller derby', 'rollerblade racing', 'rowing', 'rugby', 'sailboat racing', 'shot put', 'shuffleboard', 'sidecar racing', 'ski jumping', 'sky surfing', 'skydiving', 'snow boarding', 'snowmobile racing', 'speed skating', 'steer wrestling', 'sumo wrestling', 'surfing', 'swimming', 'table tennis', 'tennis', 'track bicycle', 'trapeze', 'tug of war', 'ultimate', 'uneven bars', 'volleyball', 'water cycling', 'water polo', 'weightlifting', 'wheelchair basketball', 'wheelchair racing', 'wingsuit flying']\n"
     ]
    }
   ],
   "source": [
    "# 폴더 이름 저장할 초기 list 생성\n",
    "test_directory_names = []\n",
    "\n",
    "for directory in test_directories:\n",
    "    # 디렉토리의 이름을 찾아와서 list에 저장\n",
    "    test_directory_names.append(directory[directory.rindex('\\\\') + 1:])\n",
    "\n",
    "print(test_directory_names)"
   ]
  },
  {
   "cell_type": "code",
   "execution_count": 6,
   "id": "74a02011-a460-434b-831b-c0c9f638b762",
   "metadata": {},
   "outputs": [],
   "source": [
    "# 이미지 별 폴더 안 이미지들의 파일명 변경\n",
    "for name in train_directory_names:\n",
    "    for i, file_name in enumerate(os.listdir(os.path.join(train_root, name))):\n",
    "        # 이전 파일의 전체 경로\n",
    "        old_file = os.path.join(train_root + name + '/', file_name)\n",
    "        # 신규 파일 전체 경로 작성\n",
    "        new_file = os.path.join(train_root + name + '/', name + str(i + 1) + '.png')\n",
    "\n",
    "        # 이전 파일의 이름을 신규 파일로 변경\n",
    "        os.rename(old_file, new_file)"
   ]
  },
  {
   "cell_type": "code",
   "execution_count": 7,
   "id": "adc2ce85-4be9-4b9e-be47-5e918915e737",
   "metadata": {},
   "outputs": [],
   "source": [
    "# 이미지 별 폴더 안 이미지들의 파일명 변경\n",
    "for name in val_directory_names:\n",
    "    for i, file_name in enumerate(os.listdir(os.path.join(val_root, name))):\n",
    "        # 이전 파일의 전체 경로\n",
    "        old_file = os.path.join(val_root + name + '/', file_name)\n",
    "        # 신규 파일 전체 경로 작성\n",
    "        new_file = os.path.join(val_root + name + '/', name + str(i + 1) + '.png')\n",
    "\n",
    "        # 이전 파일의 이름을 신규 파일로 변경\n",
    "        os.rename(old_file, new_file)"
   ]
  },
  {
   "cell_type": "code",
   "execution_count": 8,
   "id": "47cfebb5-4fb8-4e2e-92dc-c47cb61dfc9e",
   "metadata": {},
   "outputs": [],
   "source": [
    "# 이미지 별 폴더 안 이미지들의 파일명 변경\n",
    "for name in test_directory_names:\n",
    "    for i, file_name in enumerate(os.listdir(os.path.join(test_root, name))):\n",
    "        # 이전 파일의 전체 경로\n",
    "        old_file = os.path.join(test_root + name + '/', file_name)\n",
    "        # 신규 파일 전체 경로 작성\n",
    "        new_file = os.path.join(test_root + name + '/', name + str(i + 1) + '.png')\n",
    "\n",
    "        # 이전 파일의 이름을 신규 파일로 변경\n",
    "        os.rename(old_file, new_file)"
   ]
  },
  {
   "cell_type": "code",
   "execution_count": 9,
   "id": "21a09379-2e27-4689-ac72-038db3759ded",
   "metadata": {
    "scrolled": true
   },
   "outputs": [
    {
     "name": "stdout",
     "output_type": "stream",
     "text": [
      "Found 13493 images belonging to 100 classes.\n",
      "Found 500 images belonging to 100 classes.\n",
      "Found 500 images belonging to 100 classes.\n",
      "{'air hockey': 0, 'ampute football': 1, 'archery': 2, 'arm wrestling': 3, 'axe throwing': 4, 'balance beam': 5, 'barell racing': 6, 'baseball': 7, 'basketball': 8, 'baton twirling': 9, 'bike polo': 10, 'billiards': 11, 'bmx': 12, 'bobsled': 13, 'bowling': 14, 'boxing': 15, 'bull riding': 16, 'bungee jumping': 17, 'canoe slamon': 18, 'cheerleading': 19, 'chuckwagon racing': 20, 'cricket': 21, 'croquet': 22, 'curling': 23, 'disc golf': 24, 'fencing': 25, 'field hockey': 26, 'figure skating men': 27, 'figure skating pairs': 28, 'figure skating women': 29, 'fly fishing': 30, 'football': 31, 'formula 1 racing': 32, 'frisbee': 33, 'gaga': 34, 'giant slalom': 35, 'golf': 36, 'hammer throw': 37, 'hang gliding': 38, 'harness racing': 39, 'high jump': 40, 'hockey': 41, 'horse jumping': 42, 'horse racing': 43, 'horseshoe pitching': 44, 'hurdles': 45, 'hydroplane racing': 46, 'ice climbing': 47, 'ice yachting': 48, 'jai alai': 49, 'javelin': 50, 'jousting': 51, 'judo': 52, 'lacrosse': 53, 'log rolling': 54, 'luge': 55, 'motorcycle racing': 56, 'mushing': 57, 'nascar racing': 58, 'olympic wrestling': 59, 'parallel bar': 60, 'pole climbing': 61, 'pole dancing': 62, 'pole vault': 63, 'polo': 64, 'pommel horse': 65, 'rings': 66, 'rock climbing': 67, 'roller derby': 68, 'rollerblade racing': 69, 'rowing': 70, 'rugby': 71, 'sailboat racing': 72, 'shot put': 73, 'shuffleboard': 74, 'sidecar racing': 75, 'ski jumping': 76, 'sky surfing': 77, 'skydiving': 78, 'snow boarding': 79, 'snowmobile racing': 80, 'speed skating': 81, 'steer wrestling': 82, 'sumo wrestling': 83, 'surfing': 84, 'swimming': 85, 'table tennis': 86, 'tennis': 87, 'track bicycle': 88, 'trapeze': 89, 'tug of war': 90, 'ultimate': 91, 'uneven bars': 92, 'volleyball': 93, 'water cycling': 94, 'water polo': 95, 'weightlifting': 96, 'wheelchair basketball': 97, 'wheelchair racing': 98, 'wingsuit flying': 99}\n",
      "================================================================================\n",
      "{'air hockey': 0, 'ampute football': 1, 'archery': 2, 'arm wrestling': 3, 'axe throwing': 4, 'balance beam': 5, 'barell racing': 6, 'baseball': 7, 'basketball': 8, 'baton twirling': 9, 'bike polo': 10, 'billiards': 11, 'bmx': 12, 'bobsled': 13, 'bowling': 14, 'boxing': 15, 'bull riding': 16, 'bungee jumping': 17, 'canoe slamon': 18, 'cheerleading': 19, 'chuckwagon racing': 20, 'cricket': 21, 'croquet': 22, 'curling': 23, 'disc golf': 24, 'fencing': 25, 'field hockey': 26, 'figure skating men': 27, 'figure skating pairs': 28, 'figure skating women': 29, 'fly fishing': 30, 'football': 31, 'formula 1 racing': 32, 'frisbee': 33, 'gaga': 34, 'giant slalom': 35, 'golf': 36, 'hammer throw': 37, 'hang gliding': 38, 'harness racing': 39, 'high jump': 40, 'hockey': 41, 'horse jumping': 42, 'horse racing': 43, 'horseshoe pitching': 44, 'hurdles': 45, 'hydroplane racing': 46, 'ice climbing': 47, 'ice yachting': 48, 'jai alai': 49, 'javelin': 50, 'jousting': 51, 'judo': 52, 'lacrosse': 53, 'log rolling': 54, 'luge': 55, 'motorcycle racing': 56, 'mushing': 57, 'nascar racing': 58, 'olympic wrestling': 59, 'parallel bar': 60, 'pole climbing': 61, 'pole dancing': 62, 'pole vault': 63, 'polo': 64, 'pommel horse': 65, 'rings': 66, 'rock climbing': 67, 'roller derby': 68, 'rollerblade racing': 69, 'rowing': 70, 'rugby': 71, 'sailboat racing': 72, 'shot put': 73, 'shuffleboard': 74, 'sidecar racing': 75, 'ski jumping': 76, 'sky surfing': 77, 'skydiving': 78, 'snow boarding': 79, 'snowmobile racing': 80, 'speed skating': 81, 'steer wrestling': 82, 'sumo wrestling': 83, 'surfing': 84, 'swimming': 85, 'table tennis': 86, 'tennis': 87, 'track bicycle': 88, 'trapeze': 89, 'tug of war': 90, 'ultimate': 91, 'uneven bars': 92, 'volleyball': 93, 'water cycling': 94, 'water polo': 95, 'weightlifting': 96, 'wheelchair basketball': 97, 'wheelchair racing': 98, 'wingsuit flying': 99}\n",
      "================================================================================\n",
      "{'air hockey': 0, 'ampute football': 1, 'archery': 2, 'arm wrestling': 3, 'axe throwing': 4, 'balance beam': 5, 'barell racing': 6, 'baseball': 7, 'basketball': 8, 'baton twirling': 9, 'bike polo': 10, 'billiards': 11, 'bmx': 12, 'bobsled': 13, 'bowling': 14, 'boxing': 15, 'bull riding': 16, 'bungee jumping': 17, 'canoe slamon': 18, 'cheerleading': 19, 'chuckwagon racing': 20, 'cricket': 21, 'croquet': 22, 'curling': 23, 'disc golf': 24, 'fencing': 25, 'field hockey': 26, 'figure skating men': 27, 'figure skating pairs': 28, 'figure skating women': 29, 'fly fishing': 30, 'football': 31, 'formula 1 racing': 32, 'frisbee': 33, 'gaga': 34, 'giant slalom': 35, 'golf': 36, 'hammer throw': 37, 'hang gliding': 38, 'harness racing': 39, 'high jump': 40, 'hockey': 41, 'horse jumping': 42, 'horse racing': 43, 'horseshoe pitching': 44, 'hurdles': 45, 'hydroplane racing': 46, 'ice climbing': 47, 'ice yachting': 48, 'jai alai': 49, 'javelin': 50, 'jousting': 51, 'judo': 52, 'lacrosse': 53, 'log rolling': 54, 'luge': 55, 'motorcycle racing': 56, 'mushing': 57, 'nascar racing': 58, 'olympic wrestling': 59, 'parallel bar': 60, 'pole climbing': 61, 'pole dancing': 62, 'pole vault': 63, 'polo': 64, 'pommel horse': 65, 'rings': 66, 'rock climbing': 67, 'roller derby': 68, 'rollerblade racing': 69, 'rowing': 70, 'rugby': 71, 'sailboat racing': 72, 'shot put': 73, 'shuffleboard': 74, 'sidecar racing': 75, 'ski jumping': 76, 'sky surfing': 77, 'skydiving': 78, 'snow boarding': 79, 'snowmobile racing': 80, 'speed skating': 81, 'steer wrestling': 82, 'sumo wrestling': 83, 'surfing': 84, 'swimming': 85, 'table tennis': 86, 'tennis': 87, 'track bicycle': 88, 'trapeze': 89, 'tug of war': 90, 'ultimate': 91, 'uneven bars': 92, 'volleyball': 93, 'water cycling': 94, 'water polo': 95, 'weightlifting': 96, 'wheelchair basketball': 97, 'wheelchair racing': 98, 'wingsuit flying': 99}\n"
     ]
    }
   ],
   "source": [
    "from tensorflow.keras.preprocessing.image import ImageDataGenerator\n",
    "\n",
    "# 이미지의 픽셀 값을 0에서 255 사이에서 0에서 1 사이의 값으로 조정\n",
    "image_data_generator = ImageDataGenerator(rescale=1./255)\n",
    "\n",
    "# 디렉토리에서 이미지를 가져와 배치로 변환\n",
    "train_generator = image_data_generator.flow_from_directory(train_root, target_size=(150, 150), batch_size=32, class_mode='categorical')\n",
    "val_generator = image_data_generator.flow_from_directory(val_root, target_size=(150, 150), batch_size=32, class_mode='categorical')\n",
    "test_generator = image_data_generator.flow_from_directory(test_root, target_size=(150, 150), batch_size=32, class_mode='categorical')\n",
    "\n",
    "print(train_generator.class_indices)\n",
    "print('=' * 80)\n",
    "print(val_generator.class_indices)\n",
    "print('=' * 80)\n",
    "print(test_generator.class_indices)"
   ]
  },
  {
   "cell_type": "code",
   "execution_count": 10,
   "id": "c6cd856f-6e48-4746-865c-4e0997e60a9b",
   "metadata": {},
   "outputs": [
    {
     "data": {
      "text/html": [
       "<div>\n",
       "<style scoped>\n",
       "    .dataframe tbody tr th:only-of-type {\n",
       "        vertical-align: middle;\n",
       "    }\n",
       "\n",
       "    .dataframe tbody tr th {\n",
       "        vertical-align: top;\n",
       "    }\n",
       "\n",
       "    .dataframe thead th {\n",
       "        text-align: right;\n",
       "    }\n",
       "</style>\n",
       "<table border=\"1\" class=\"dataframe\">\n",
       "  <thead>\n",
       "    <tr style=\"text-align: right;\">\n",
       "      <th></th>\n",
       "      <th>file_paths</th>\n",
       "      <th>targets</th>\n",
       "    </tr>\n",
       "  </thead>\n",
       "  <tbody>\n",
       "    <tr>\n",
       "      <th>0</th>\n",
       "      <td>./datasets/Sports/train/air hockey/air hockey1...</td>\n",
       "      <td>0</td>\n",
       "    </tr>\n",
       "    <tr>\n",
       "      <th>1</th>\n",
       "      <td>./datasets/Sports/train/air hockey/air hockey1...</td>\n",
       "      <td>0</td>\n",
       "    </tr>\n",
       "    <tr>\n",
       "      <th>2</th>\n",
       "      <td>./datasets/Sports/train/air hockey/air hockey1...</td>\n",
       "      <td>0</td>\n",
       "    </tr>\n",
       "    <tr>\n",
       "      <th>3</th>\n",
       "      <td>./datasets/Sports/train/air hockey/air hockey1...</td>\n",
       "      <td>0</td>\n",
       "    </tr>\n",
       "    <tr>\n",
       "      <th>4</th>\n",
       "      <td>./datasets/Sports/train/air hockey/air hockey1...</td>\n",
       "      <td>0</td>\n",
       "    </tr>\n",
       "    <tr>\n",
       "      <th>...</th>\n",
       "      <td>...</td>\n",
       "      <td>...</td>\n",
       "    </tr>\n",
       "    <tr>\n",
       "      <th>13488</th>\n",
       "      <td>./datasets/Sports/train/wingsuit flying/wingsu...</td>\n",
       "      <td>99</td>\n",
       "    </tr>\n",
       "    <tr>\n",
       "      <th>13489</th>\n",
       "      <td>./datasets/Sports/train/wingsuit flying/wingsu...</td>\n",
       "      <td>99</td>\n",
       "    </tr>\n",
       "    <tr>\n",
       "      <th>13490</th>\n",
       "      <td>./datasets/Sports/train/wingsuit flying/wingsu...</td>\n",
       "      <td>99</td>\n",
       "    </tr>\n",
       "    <tr>\n",
       "      <th>13491</th>\n",
       "      <td>./datasets/Sports/train/wingsuit flying/wingsu...</td>\n",
       "      <td>99</td>\n",
       "    </tr>\n",
       "    <tr>\n",
       "      <th>13492</th>\n",
       "      <td>./datasets/Sports/train/wingsuit flying/wingsu...</td>\n",
       "      <td>99</td>\n",
       "    </tr>\n",
       "  </tbody>\n",
       "</table>\n",
       "<p>13493 rows × 2 columns</p>\n",
       "</div>"
      ],
      "text/plain": [
       "                                              file_paths  targets\n",
       "0      ./datasets/Sports/train/air hockey/air hockey1...        0\n",
       "1      ./datasets/Sports/train/air hockey/air hockey1...        0\n",
       "2      ./datasets/Sports/train/air hockey/air hockey1...        0\n",
       "3      ./datasets/Sports/train/air hockey/air hockey1...        0\n",
       "4      ./datasets/Sports/train/air hockey/air hockey1...        0\n",
       "...                                                  ...      ...\n",
       "13488  ./datasets/Sports/train/wingsuit flying/wingsu...       99\n",
       "13489  ./datasets/Sports/train/wingsuit flying/wingsu...       99\n",
       "13490  ./datasets/Sports/train/wingsuit flying/wingsu...       99\n",
       "13491  ./datasets/Sports/train/wingsuit flying/wingsu...       99\n",
       "13492  ./datasets/Sports/train/wingsuit flying/wingsu...       99\n",
       "\n",
       "[13493 rows x 2 columns]"
      ]
     },
     "execution_count": 10,
     "metadata": {},
     "output_type": "execute_result"
    }
   ],
   "source": [
    "import pandas as pd\n",
    "\n",
    "# 파일 경로와 타겟값을 가지고 새로운 데이터 프레임 생성\n",
    "train_df = pd.DataFrame({'file_paths': train_generator.filepaths, 'targets': train_generator.classes})\n",
    "# 경로 중 \\\\(역슬래시)로 되어 있는 부분을 /(슬래시)로 변경\n",
    "train_df.loc[:, 'file_paths'] = train_df.file_paths.apply(lambda x: x.replace('\\\\', '/'))\n",
    "train_df"
   ]
  },
  {
   "cell_type": "code",
   "execution_count": 11,
   "id": "ec4779c0-3658-4823-9e5d-aad641417601",
   "metadata": {},
   "outputs": [
    {
     "data": {
      "text/html": [
       "<div>\n",
       "<style scoped>\n",
       "    .dataframe tbody tr th:only-of-type {\n",
       "        vertical-align: middle;\n",
       "    }\n",
       "\n",
       "    .dataframe tbody tr th {\n",
       "        vertical-align: top;\n",
       "    }\n",
       "\n",
       "    .dataframe thead th {\n",
       "        text-align: right;\n",
       "    }\n",
       "</style>\n",
       "<table border=\"1\" class=\"dataframe\">\n",
       "  <thead>\n",
       "    <tr style=\"text-align: right;\">\n",
       "      <th></th>\n",
       "      <th>file_paths</th>\n",
       "      <th>targets</th>\n",
       "    </tr>\n",
       "  </thead>\n",
       "  <tbody>\n",
       "    <tr>\n",
       "      <th>0</th>\n",
       "      <td>./datasets/Sports/val/air hockey/air hockey1.png</td>\n",
       "      <td>0</td>\n",
       "    </tr>\n",
       "    <tr>\n",
       "      <th>1</th>\n",
       "      <td>./datasets/Sports/val/air hockey/air hockey2.png</td>\n",
       "      <td>0</td>\n",
       "    </tr>\n",
       "    <tr>\n",
       "      <th>2</th>\n",
       "      <td>./datasets/Sports/val/air hockey/air hockey3.png</td>\n",
       "      <td>0</td>\n",
       "    </tr>\n",
       "    <tr>\n",
       "      <th>3</th>\n",
       "      <td>./datasets/Sports/val/air hockey/air hockey4.png</td>\n",
       "      <td>0</td>\n",
       "    </tr>\n",
       "    <tr>\n",
       "      <th>4</th>\n",
       "      <td>./datasets/Sports/val/air hockey/air hockey5.png</td>\n",
       "      <td>0</td>\n",
       "    </tr>\n",
       "    <tr>\n",
       "      <th>...</th>\n",
       "      <td>...</td>\n",
       "      <td>...</td>\n",
       "    </tr>\n",
       "    <tr>\n",
       "      <th>495</th>\n",
       "      <td>./datasets/Sports/val/wingsuit flying/wingsuit...</td>\n",
       "      <td>99</td>\n",
       "    </tr>\n",
       "    <tr>\n",
       "      <th>496</th>\n",
       "      <td>./datasets/Sports/val/wingsuit flying/wingsuit...</td>\n",
       "      <td>99</td>\n",
       "    </tr>\n",
       "    <tr>\n",
       "      <th>497</th>\n",
       "      <td>./datasets/Sports/val/wingsuit flying/wingsuit...</td>\n",
       "      <td>99</td>\n",
       "    </tr>\n",
       "    <tr>\n",
       "      <th>498</th>\n",
       "      <td>./datasets/Sports/val/wingsuit flying/wingsuit...</td>\n",
       "      <td>99</td>\n",
       "    </tr>\n",
       "    <tr>\n",
       "      <th>499</th>\n",
       "      <td>./datasets/Sports/val/wingsuit flying/wingsuit...</td>\n",
       "      <td>99</td>\n",
       "    </tr>\n",
       "  </tbody>\n",
       "</table>\n",
       "<p>500 rows × 2 columns</p>\n",
       "</div>"
      ],
      "text/plain": [
       "                                            file_paths  targets\n",
       "0     ./datasets/Sports/val/air hockey/air hockey1.png        0\n",
       "1     ./datasets/Sports/val/air hockey/air hockey2.png        0\n",
       "2     ./datasets/Sports/val/air hockey/air hockey3.png        0\n",
       "3     ./datasets/Sports/val/air hockey/air hockey4.png        0\n",
       "4     ./datasets/Sports/val/air hockey/air hockey5.png        0\n",
       "..                                                 ...      ...\n",
       "495  ./datasets/Sports/val/wingsuit flying/wingsuit...       99\n",
       "496  ./datasets/Sports/val/wingsuit flying/wingsuit...       99\n",
       "497  ./datasets/Sports/val/wingsuit flying/wingsuit...       99\n",
       "498  ./datasets/Sports/val/wingsuit flying/wingsuit...       99\n",
       "499  ./datasets/Sports/val/wingsuit flying/wingsuit...       99\n",
       "\n",
       "[500 rows x 2 columns]"
      ]
     },
     "execution_count": 11,
     "metadata": {},
     "output_type": "execute_result"
    }
   ],
   "source": [
    "import pandas as pd\n",
    "\n",
    "# 파일 경로와 타겟값을 가지고 새로운 데이터 프레임 생성\n",
    "val_df = pd.DataFrame({'file_paths': val_generator.filepaths, 'targets': val_generator.classes})\n",
    "# 경로 중 \\\\(역슬래시)로 되어 있는 부분을 /(슬래시)로 변경\n",
    "val_df.loc[:, 'file_paths'] = val_df.file_paths.apply(lambda x: x.replace('\\\\', '/'))\n",
    "val_df"
   ]
  },
  {
   "cell_type": "code",
   "execution_count": 12,
   "id": "9ef2f8d7-1af4-4ed6-931b-b0ef4ab113cc",
   "metadata": {},
   "outputs": [
    {
     "data": {
      "text/html": [
       "<div>\n",
       "<style scoped>\n",
       "    .dataframe tbody tr th:only-of-type {\n",
       "        vertical-align: middle;\n",
       "    }\n",
       "\n",
       "    .dataframe tbody tr th {\n",
       "        vertical-align: top;\n",
       "    }\n",
       "\n",
       "    .dataframe thead th {\n",
       "        text-align: right;\n",
       "    }\n",
       "</style>\n",
       "<table border=\"1\" class=\"dataframe\">\n",
       "  <thead>\n",
       "    <tr style=\"text-align: right;\">\n",
       "      <th></th>\n",
       "      <th>file_paths</th>\n",
       "      <th>targets</th>\n",
       "    </tr>\n",
       "  </thead>\n",
       "  <tbody>\n",
       "    <tr>\n",
       "      <th>0</th>\n",
       "      <td>./datasets/Sports/test/air hockey/air hockey1.png</td>\n",
       "      <td>0</td>\n",
       "    </tr>\n",
       "    <tr>\n",
       "      <th>1</th>\n",
       "      <td>./datasets/Sports/test/air hockey/air hockey2.png</td>\n",
       "      <td>0</td>\n",
       "    </tr>\n",
       "    <tr>\n",
       "      <th>2</th>\n",
       "      <td>./datasets/Sports/test/air hockey/air hockey3.png</td>\n",
       "      <td>0</td>\n",
       "    </tr>\n",
       "    <tr>\n",
       "      <th>3</th>\n",
       "      <td>./datasets/Sports/test/air hockey/air hockey4.png</td>\n",
       "      <td>0</td>\n",
       "    </tr>\n",
       "    <tr>\n",
       "      <th>4</th>\n",
       "      <td>./datasets/Sports/test/air hockey/air hockey5.png</td>\n",
       "      <td>0</td>\n",
       "    </tr>\n",
       "    <tr>\n",
       "      <th>...</th>\n",
       "      <td>...</td>\n",
       "      <td>...</td>\n",
       "    </tr>\n",
       "    <tr>\n",
       "      <th>495</th>\n",
       "      <td>./datasets/Sports/test/wingsuit flying/wingsui...</td>\n",
       "      <td>99</td>\n",
       "    </tr>\n",
       "    <tr>\n",
       "      <th>496</th>\n",
       "      <td>./datasets/Sports/test/wingsuit flying/wingsui...</td>\n",
       "      <td>99</td>\n",
       "    </tr>\n",
       "    <tr>\n",
       "      <th>497</th>\n",
       "      <td>./datasets/Sports/test/wingsuit flying/wingsui...</td>\n",
       "      <td>99</td>\n",
       "    </tr>\n",
       "    <tr>\n",
       "      <th>498</th>\n",
       "      <td>./datasets/Sports/test/wingsuit flying/wingsui...</td>\n",
       "      <td>99</td>\n",
       "    </tr>\n",
       "    <tr>\n",
       "      <th>499</th>\n",
       "      <td>./datasets/Sports/test/wingsuit flying/wingsui...</td>\n",
       "      <td>99</td>\n",
       "    </tr>\n",
       "  </tbody>\n",
       "</table>\n",
       "<p>500 rows × 2 columns</p>\n",
       "</div>"
      ],
      "text/plain": [
       "                                            file_paths  targets\n",
       "0    ./datasets/Sports/test/air hockey/air hockey1.png        0\n",
       "1    ./datasets/Sports/test/air hockey/air hockey2.png        0\n",
       "2    ./datasets/Sports/test/air hockey/air hockey3.png        0\n",
       "3    ./datasets/Sports/test/air hockey/air hockey4.png        0\n",
       "4    ./datasets/Sports/test/air hockey/air hockey5.png        0\n",
       "..                                                 ...      ...\n",
       "495  ./datasets/Sports/test/wingsuit flying/wingsui...       99\n",
       "496  ./datasets/Sports/test/wingsuit flying/wingsui...       99\n",
       "497  ./datasets/Sports/test/wingsuit flying/wingsui...       99\n",
       "498  ./datasets/Sports/test/wingsuit flying/wingsui...       99\n",
       "499  ./datasets/Sports/test/wingsuit flying/wingsui...       99\n",
       "\n",
       "[500 rows x 2 columns]"
      ]
     },
     "execution_count": 12,
     "metadata": {},
     "output_type": "execute_result"
    }
   ],
   "source": [
    "import pandas as pd\n",
    "\n",
    "# 파일 경로와 타겟값을 가지고 새로운 데이터 프레임 생성\n",
    "test_df = pd.DataFrame({'file_paths': test_generator.filepaths, 'targets': test_generator.classes})\n",
    "# 경로 중 \\\\(역슬래시)로 되어 있는 부분을 /(슬래시)로 변경\n",
    "test_df.loc[:, 'file_paths'] = test_df.file_paths.apply(lambda x: x.replace('\\\\', '/'))\n",
    "test_df"
   ]
  },
  {
   "cell_type": "code",
   "execution_count": 13,
   "id": "cd27b439-59a1-4074-9868-6913174ac492",
   "metadata": {},
   "outputs": [
    {
     "name": "stdout",
     "output_type": "stream",
     "text": [
      "targets\n",
      "31    191\n",
      "32    190\n",
      "58    189\n",
      "7     174\n",
      "41    172\n",
      "     ... \n",
      "44    102\n",
      "3      99\n",
      "99     98\n",
      "91     97\n",
      "77     59\n",
      "Name: count, Length: 100, dtype: int64\n"
     ]
    }
   ],
   "source": [
    "# 테스트 데이터 세트 분리\n",
    "X_train = train_df.file_paths\n",
    "y_train = train_df.targets\n",
    "\n",
    "print(y_train.value_counts())"
   ]
  },
  {
   "cell_type": "code",
   "execution_count": 14,
   "id": "22a15122-9a07-480f-8bac-97300d808b72",
   "metadata": {},
   "outputs": [
    {
     "name": "stdout",
     "output_type": "stream",
     "text": [
      "targets\n",
      "0     5\n",
      "63    5\n",
      "73    5\n",
      "72    5\n",
      "71    5\n",
      "     ..\n",
      "30    5\n",
      "29    5\n",
      "28    5\n",
      "27    5\n",
      "99    5\n",
      "Name: count, Length: 100, dtype: int64\n"
     ]
    }
   ],
   "source": [
    "# 테스트 데이터 세트 분리\n",
    "X_val = val_df.file_paths\n",
    "y_val = val_df.targets\n",
    "\n",
    "print(y_val.value_counts())"
   ]
  },
  {
   "cell_type": "code",
   "execution_count": 15,
   "id": "595cd9f3-37d2-4251-a8d5-95dc93b08208",
   "metadata": {},
   "outputs": [
    {
     "name": "stdout",
     "output_type": "stream",
     "text": [
      "targets\n",
      "0     5\n",
      "63    5\n",
      "73    5\n",
      "72    5\n",
      "71    5\n",
      "     ..\n",
      "30    5\n",
      "29    5\n",
      "28    5\n",
      "27    5\n",
      "99    5\n",
      "Name: count, Length: 100, dtype: int64\n"
     ]
    }
   ],
   "source": [
    "# 테스트 데이터 세트 분리\n",
    "X_test = test_df.file_paths\n",
    "y_test = test_df.targets\n",
    "\n",
    "print(y_test.value_counts())"
   ]
  }
 ],
 "metadata": {
  "kernelspec": {
   "display_name": "Python 3 (ipykernel)",
   "language": "python",
   "name": "python3"
  },
  "language_info": {
   "codemirror_mode": {
    "name": "ipython",
    "version": 3
   },
   "file_extension": ".py",
   "mimetype": "text/x-python",
   "name": "python",
   "nbconvert_exporter": "python",
   "pygments_lexer": "ipython3",
   "version": "3.11.8"
  }
 },
 "nbformat": 4,
 "nbformat_minor": 5
}
