{
 "cells": [
  {
   "cell_type": "markdown",
   "id": "d493c6b7-edfb-4bdc-a837-5c824fa400ba",
   "metadata": {},
   "source": [
    "### Data Augmentation, 데이터 증강\n",
    "- 이미지의 종류와 개수가 적으면, CNN 모델의 성능이 떨어질 수 밖에 없다. 또한, 몇 안 되는 이미지로 훈련시키면 과적합이 발생한다.\n",
    "=트레이닝 데이터에 과하게 fit이 되기 때문에...\n",
    "- CNN 모델의 성능을 높이고 과적합을 개선하기 위해서는 이미지의 종류와 개수가 많아야 한다. 즉, 데이터의 양을 늘려야 한다.\n",
    "- 이미지 데이터는 학습 데이터를 수집하여 양을 늘리기 쉽지 않기 때문에, 원본 이미지를 변형시켜서 양을 늘릴 수 있다.\n",
    "- Data Augmentation을 통해 원본 이미지에 다양한 번형을 주어서 학습 이미지 데이터를 늘리는 것과 유사한 효과를 볼 수 있다.\n",
    "- 원본 학습 이미지의 개수를 늘리는 것이 아닌 매 학습 마다 개별 원본 이미지를 변형해서 학습을 수행한다.\n",
    "= 100장이 수억개가 되는게 아니라 효과를 주어서 진행.... 이미지 용ㅇ량이 느는게 아님\n",
    "\n",
    "<img src='./images/data_augmentation.png' width='400' style='margin-left: 30px'>\n",
    "\n",
    "#### 공간 레벨 변형\n",
    "- 좌우 또는 상하 반전, 특정 영역만큼 확대, 축소, 회전 등으로 변형시킨다.\n",
    "\n",
    "<img src='./images/spatial.png' width='500px'>\n",
    "\n",
    "#### 픽셀 레벨 변형\n",
    "- 밝기, 명암, 채도, 색상 등을 변형시킨다.\n",
    "\n",
    "<img src='./images/pixel.png' width='500px' style='margin-left: 10px'>"
   ]
  },
  {
   "cell_type": "code",
   "execution_count": 1,
   "id": "cd34c611-52ba-4036-8861-acc31a52e1c7",
   "metadata": {},
   "outputs": [
    {
     "name": "stdout",
     "output_type": "stream",
     "text": [
      "{'cane': 'dog', 'cavallo': 'horse', 'elefante': 'elephant', 'farfalla': 'butterfly', 'gallina': 'chicken', 'gatto': 'cat', 'mucca': 'cow', 'pecora': 'sheep', 'scoiattolo': 'squirrel', 'dog': 'cane', 'elephant': 'elefante', 'butterfly': 'farfalla', 'chicken': 'gallina', 'cat': 'gatto', 'cow': 'mucca', 'spider': 'ragno', 'squirrel': 'scoiattolo'}\n",
      "{'dog': 'cane', 'horse': 'cavallo', 'elephant': 'elefante', 'butterfly': 'farfalla', 'chicken': 'gallina', 'cat': 'gatto', 'cow': 'mucca', 'sheep': 'pecora', 'squirrel': 'scoiattolo', 'cane': 'dog', 'elefante': 'elephant', 'farfalla': 'butterfly', 'gallina': 'chicken', 'gatto': 'cat', 'mucca': 'cow', 'ragno': 'spider', 'scoiattolo': 'squirrel'}\n"
     ]
    }
   ],
   "source": [
    "# with문으로 파일을 열고 f로 할당\n",
    "with open('./datasets/animals/translate.py') as f:\n",
    "    # 파일을 내용을 읽어와 content에 저장\n",
    "    content = f.readline()\n",
    "    # 중괄호 사이의 문장을 찾아서 가져오고\n",
    "    # eval을 사용하여 문자열 안에 갇혀있는 문장을 실제 딕셔너리로 변환\n",
    "    contents1 = eval(content[content.index('{'):content.index('}') + 1])\n",
    "    # 키와 값을 반대로 변경하여 저장\n",
    "    contents2 = {v : k for k, v in contents1.items()}\n",
    "\n",
    "print(contents1, contents2, sep='\\n')"
   ]
  },
  {
   "cell_type": "code",
   "execution_count": 2,
   "id": "8607ca6f-a684-4999-9cbf-e4661d4be14c",
   "metadata": {},
   "outputs": [],
   "source": [
    "from glob import glob\n",
    "import os\n",
    "\n",
    "# 이미지가 저장되어 있는 경로 지정\n",
    "root = './datasets/animals/original/'\n",
    "\n",
    "# 해당 경로를 통해 이미지 폴더를 찾아옴\n",
    "# glob: 파일 경로와 이름 패턴을 사용하여 파일을 찾을 수 있게 해주는 모듈\n",
    "# *: 모든 문자열을 대체\n",
    "directories = glob(os.path.join(root, '*'))\n",
    "\n",
    "# 원래 정방향인데 에러나면 역방향으로 찾음\n",
    "for directory in directories:\n",
    "    try:\n",
    "        # 디렉터리 이름을 해당하는 번역된 이름으로 변경\n",
    "        os.rename(directory, os.path.join(root, contents1[directory[directory.rindex('\\\\') + 1:]]))\n",
    "    except KeyError as e:\n",
    "        # KeyError가 발생하면 번역된 이름이 아닌 원래 이름으로 변경\n",
    "        os.rename(directory, os.path.join(root, contents2[directory[directory.rindex('\\\\') + 1:]]))"
   ]
  },
  {
   "cell_type": "code",
   "execution_count": 3,
   "id": "1b31b6cf-55a6-43cd-83c8-b8223c9fa56b",
   "metadata": {},
   "outputs": [
    {
     "name": "stdout",
     "output_type": "stream",
     "text": [
      "['butterfly', 'cat', 'chicken', 'cow', 'dog', 'elephant', 'horse', 'sheep', 'spider', 'squirrel']\n"
     ]
    }
   ],
   "source": [
    "# 이미지가 저장되어 있는 경로 지정\n",
    "root = './datasets/animals/original/'\n",
    "\n",
    "# 해당 경로를 통해 이미지 폴더를 찾아옴\n",
    "directories = glob(os.path.join(root, '*'))\n",
    "# 폴더 이름 저장할 초기 list 생성\n",
    "directory_names = []\n",
    "\n",
    "for directory in directories:\n",
    "    # 디렉토리의 이름을 찾아와서 list에 저장\n",
    "    # rindex: 문자열에서 특정 문자 또는 부분 문자열의 마지막으로 발생하는 인덱스를 반환하는 메서드\n",
    "    directory_names.append(directory[directory.rindex('\\\\') + 1:])\n",
    "\n",
    "print(directory_names)"
   ]
  },
  {
   "cell_type": "code",
   "execution_count": 4,
   "id": "f813c881-dc29-4e25-b2cb-0ddc49aadd4f",
   "metadata": {},
   "outputs": [],
   "source": [
    "# 이미지가 저장되어 있는 경로 지정\n",
    "root = './datasets/animals/original/'\n",
    "\n",
    "# 이미지 별 폴더 안 이미지들의 파일명 변경\n",
    "for name in directory_names:\n",
    "    # os.listdir(): 지정된 디렉토리 내의 파일 목록 가져오기\n",
    "    # enumerate(): 함수를 사용하여 파일 목록에서 파일 이름과 해당 파일의 인덱스를 반환\n",
    "    for i, file_name in enumerate(os.listdir(os.path.join(root, name))):\n",
    "        # 이전 파일의 전체 경로\n",
    "        old_file = os.path.join(root + name + '/', file_name)\n",
    "        # 신규 파일 전체 경로 작성\n",
    "        new_file = os.path.join(root + name + '/', name + str(i + 1) + '.png')\n",
    "\n",
    "        # 이전 파일의 이름을 신규 파일로 변경\n",
    "        os.rename(old_file, new_file)"
   ]
  },
  {
   "cell_type": "code",
   "execution_count": 5,
   "id": "b62a7a8a-22f3-48c9-b8ec-c7c7e8974a8d",
   "metadata": {},
   "outputs": [
    {
     "ename": "TypeError",
     "evalue": "ImageDataGenerator.flow_from_directory() got an unexpected keyword argument 'targets_size'",
     "output_type": "error",
     "traceback": [
      "\u001b[1;31m---------------------------------------------------------------------------\u001b[0m",
      "\u001b[1;31mTypeError\u001b[0m                                 Traceback (most recent call last)",
      "Cell \u001b[1;32mIn[5], line 12\u001b[0m\n\u001b[0;32m      8\u001b[0m idg \u001b[38;5;241m=\u001b[39m ImageDataGenerator(rescale\u001b[38;5;241m=\u001b[39m\u001b[38;5;241m1.\u001b[39m\u001b[38;5;241m/\u001b[39m\u001b[38;5;241m255\u001b[39m)\n\u001b[0;32m     10\u001b[0m \u001b[38;5;66;03m# 디렉토리에서 이미지를 가져와 배치로 변환\u001b[39;00m\n\u001b[0;32m     11\u001b[0m \u001b[38;5;66;03m# flow_from_directory(): 디렉토리를 통해서 가져옴\u001b[39;00m\n\u001b[1;32m---> 12\u001b[0m idg\u001b[38;5;241m.\u001b[39mflow_from_directory(\n\u001b[0;32m     13\u001b[0m     root,\n\u001b[0;32m     14\u001b[0m     targets_size\u001b[38;5;241m=\u001b[39m(\u001b[38;5;241m250\u001b[39m, \u001b[38;5;241m250\u001b[39m),\n\u001b[0;32m     15\u001b[0m     \u001b[38;5;66;03m# 한번에 가져오면 하드웨어에 무리가가기 때문에 나눠서 가져오기\u001b[39;00m\n\u001b[0;32m     16\u001b[0m     batch_size\u001b[38;5;241m=\u001b[39m\u001b[38;5;241m32\u001b[39m,\n\u001b[0;32m     17\u001b[0m     class_mode\u001b[38;5;241m=\u001b[39m\u001b[38;5;124m'\u001b[39m\u001b[38;5;124mcategorical\u001b[39m\u001b[38;5;124m'\u001b[39m\n\u001b[0;32m     18\u001b[0m )\n\u001b[0;32m     20\u001b[0m \u001b[38;5;28mprint\u001b[39m(generator\u001b[38;5;241m.\u001b[39mclass_indices)\n",
      "\u001b[1;31mTypeError\u001b[0m: ImageDataGenerator.flow_from_directory() got an unexpected keyword argument 'targets_size'"
     ]
    }
   ],
   "source": [
    "from tensorflow.keras.preprocessing.image import ImageDataGenerator\n",
    "\n",
    "# 경로 지정\n",
    "root = './datasets/animals/original/'\n",
    "\n",
    "# 이미지의 픽셀 값을 0에서 255 사이에서 0에서 1 사이의 값으로 조정\n",
    "# ImageDataGenerator: 이미지 데이터를 증강하고 전처리하는 데 사용되는 클래스\n",
    "idg = ImageDataGenerator(rescale=1./255)\n",
    "\n",
    "# 디렉토리에서 이미지를 가져와 배치로 변환\n",
    "# flow_from_directory(): 디렉토리를 통해서 가져옴\n",
    "idg.flow_from_directory(\n",
    "    root,\n",
    "    targets_size=(250, 250),\n",
    "    # 한번에 가져오면 하드웨어에 무리가가기 때문에 나눠서 가져오기\n",
    "    batch_size=32,\n",
    "    class_mode='categorical'\n",
    ")\n",
    "\n",
    "print(generator.class_indices)"
   ]
  },
  {
   "cell_type": "code",
   "execution_count": null,
   "id": "66b2a099-2a46-4c6a-b5f7-9bf395a3a40f",
   "metadata": {},
   "outputs": [],
   "source": [
    "# # cv2로 변환된 파일 불러오기 위해 opencv-python 설치\n",
    "# pip install opencv-python"
   ]
  },
  {
   "cell_type": "code",
   "execution_count": null,
   "id": "f7e95a98-b36d-4d91-9092-2bcd2a4ad87e",
   "metadata": {},
   "outputs": [],
   "source": [
    "import cv2\n",
    "import matplotlib.pyplot as plt\n",
    "\n",
    "# 이미지 경로는 generator가 가지고 있음\n",
    "\n",
    "# # 이미지 읽어오기\n",
    "# cv2.imread(경로)\n",
    "\n",
    "# 형변환\n",
    "cv2.cvtColor(cv2.imread(generator.filepaths[3000]), cv2.COLOR_BGR2RGB)\n",
    "\n",
    "def show_image(image):\n",
    "    plt.figure(figsize=(4, 4))\n",
    "    plt.imshow(image)\n",
    "    # 옆에 꺼주기\n",
    "    plt.axis('off')\n",
    "\n",
    "\n",
    "show_image(image)"
   ]
  },
  {
   "cell_type": "code",
   "execution_count": null,
   "id": "a43aa79b-df05-4168-bc5e-9aa54ff4e6c3",
   "metadata": {},
   "outputs": [],
   "source": [
    "import numpy as np\n",
    "from tensorflow.keras.preprocessing.image import ImageDataGenerator\n",
    "\n",
    "# Horizontal Filp: 좌우반전 적용\n",
    "# 적용하더라도 반드시 변환되지 않고 특정 확률로 랜덤하게 적용된다.\n",
    "# ImageDataGenerator 가져오는 것만이 목적이 아님...\n",
    "# horizontal_flip 수평으로 반전시킴\n",
    "idg = ImageDataGenerator(horizontal_flip=True)\n",
    "\n",
    "# ImageDataGenerator는 배치 사이즈를 포함한 4차원으로 연산되기 때문에\n",
    "# 기존 image를 한 차원 증가시켜 준다.\n",
    "# 차원 증가\n",
    "# 차원을 맞춰서 넣어야함, 직므 3차원인데 4차원으로 증가 필요 (배치가 붙어있으면 4차원)\n",
    "image_batch = np.expand_dims(image, axis=0)\n",
    "\n",
    "# 4차원 이미지(배치 사이즈 포함)를 fit에 전달한다.\n",
    "idg.fit(image_batch)\n",
    "# fit한 뒤 flow에 다시 넣어준다.\n",
    "#fit에서 flow로 가져와진게 데이터 제너레이터가 됨 (핏 트랜스폼이랑 같음)\n",
    "data_generator = idg.flow(image_batch)\n",
    "\n",
    "# 적용된 이미지를 next로 가져온다.\n",
    "aug_image_batch = next(data_genrator)\n",
    "\n",
    "# 이미지를 시각화하기 위해서 한 차원 감소시킨 3차원으로 변경해 준다.\n",
    "# 어그먼테이션을 적용하려면 삼차원에서 사처원\n",
    "# 핏하고 플로우함 근데 도 이미지 쇼 하려면 3차원으로 바꿔야함 그래서 스퀴즈를씀\n",
    "aug_image = np.squeeze(aug_image_batch)\n",
    "\n",
    "# 실수에서 정수로 변경 후 출력해 준다.\n",
    "# 현재 소 수점이라 정수로 변경하여 출력\n",
    "show_image(aug_image.astype('int'))\n",
    "\n",
    "# 근데 하다보면 좌우반전이 안되다가 할 수도 있는데 이유가 확률적임, 랜덤하게 적용된다."
   ]
  },
  {
   "cell_type": "code",
   "execution_count": null,
   "id": "b6524872-3d71-4615-b151-2d3fd5a17122",
   "metadata": {},
   "outputs": [],
   "source": [
    "N_IMAGES = 4\n",
    "fig, axs = plt.subplots(1, N_IMAGES, figsize=(22, 8))\n",
    "\n",
    "for i in range(N_IMAGES):\n",
    "    aug_image_batch = next(data_generator)\n",
    "    aug_image = np.squeeze(aug_image_batch)\n",
    "    aug_image = aug_image.astype('int')\n",
    "    axs[i].imshow(aug_image)\n",
    "    axs[i].axis('off')"
   ]
  },
  {
   "cell_type": "code",
   "execution_count": null,
   "id": "1324e193-eda7-4391-a66d-ff72f7bbd981",
   "metadata": {},
   "outputs": [],
   "source": [
    "def show_aug_image_batch(image, idg, n_imagaes=4, to_int=True):\n",
    "    image_batch = np.expand_dims(image, axis=0)\n",
    "    idg.fit(image_batch)\n",
    "    data_generator = idg.flow(image_batch)\n",
    "\n",
    "    fig, axs = plt.subplots(1, n_images, figsize=(n_images * 5, 8))\n",
    "\n",
    "    for i in range(N_IMAGES):\n",
    "        aug_image_batch = next(data_generator)\n",
    "        aug_image = np.squeeze(aug_image_batch)\n",
    "        if to_int:\n",
    "            aug_image = aug_image.astype('int')\n",
    "            \n",
    "        axs[i].imshow(aug_image)\n",
    "        axs[i].axis('off')"
   ]
  },
  {
   "cell_type": "code",
   "execution_count": null,
   "id": "05ebcbc6-d7aa-4cb9-941e-135cc7c238d9",
   "metadata": {},
   "outputs": [],
   "source": [
    "# 좌우 반전\n",
    "idg = ImaageDataGenerator(horizontal_flip=True)\n",
    "show_aug_image_batch(image, idg)\n",
    "\n",
    "# Vertical filp: 상하반전 적용\n",
    "idg = ImaageDataGenerator(vertical_flip=True)\n",
    "show_aug_image_batch(image, idg)\n",
    "\n",
    "# 상하, 좌우 반전\n",
    "idg = ImaageDataGenerator(horizontal_flip=True, vertical_flip=True)\n",
    "show_aug_image_batch(image, idg)"
   ]
  },
  {
   "cell_type": "code",
   "execution_count": null,
   "id": "9a6ec9f8-4ef1-499e-8c77-6542bd88886d",
   "metadata": {},
   "outputs": [],
   "source": [
    "# Rotation_range: 회전(0 ~ n)\n",
    "idg = ImaageDataGenerator(rotation_range=45)\n",
    "show_aug_image_batch(image, idg)\n",
    "\n",
    "idg = ImaageDataGenerator(rotation_range=45, horizontal_flip=True, vertical_flip=True)\n",
    "show_aug_image_batch(image, idg)"
   ]
  },
  {
   "cell_type": "code",
   "execution_count": null,
   "id": "5aaf787e-d3c9-4d03-8abb-f015d26a4886",
   "metadata": {},
   "outputs": [],
   "source": [
    "# 가까운 가장자리를 늘려서 이동시킴\n",
    "idg = ImaageDataGenerator(width_shift_range=0.4)\n",
    "show_aug_image_batch(image, idg)\n",
    "\n",
    "idg = ImaageDataGenerator(height_shift_range=0.4)\n",
    "show_aug_image_batch(image, idg)"
   ]
  },
  {
   "cell_type": "code",
   "execution_count": null,
   "id": "3028252b-083b-4560-943a-23752e3e55ce",
   "metadata": {},
   "outputs": [],
   "source": [
    "idg = ImaageDataGenerator(rotation_range=45, horizontal_flip=True, vertical_flip=True, width_shift_range=0.4, height_shift_range=0.4)\n",
    "show_aug_image_batch(image, idg)"
   ]
  },
  {
   "cell_type": "code",
   "execution_count": null,
   "id": "0052edbd-3f91-4f39-b00b-1108549a8ea3",
   "metadata": {},
   "outputs": [],
   "source": [
    "# 빈 공간을 가장 가까운 곳의 픽셀 값으로 채움 (디폴트)\n",
    "idg = ImaageDataGenerator(width_shift_range=0.4, fill_mode='nearest')\n",
    "show_aug_image_batch(image, idg)\n",
    "\n",
    "# 빈 공간을 해당 영역 근처 공간으로 채움\n",
    "idg = ImaageDataGenerator(width_shift_range=0.4, fill_mode='reflect')\n",
    "show_aug_image_batch(image, idg)\n",
    "\n",
    "# 빈 공간을 잘려나간 이미지로 채움\n",
    "idg = ImaageDataGenerator(width_shift_range=0.4, fill_mode='wrap')\n",
    "show_aug_image_batch(image, idg)\n",
    "\n",
    "\n",
    "# 특정 픽셀값으로 채움\n",
    "# fill_mode='constant'상수로 받는다, cval=41 컬러색상\n",
    "idg = ImaageDataGenerator(width_shift_range=0.4, fill_mode='constant', cval=45)\n",
    "show_aug_image_batch(image, idg)"
   ]
  },
  {
   "cell_type": "code",
   "execution_count": null,
   "id": "d5ae671a-d74e-40c0-aadb-bf4ae8cc7e36",
   "metadata": {},
   "outputs": [],
   "source": [
    "# Zoom in: 확대\n",
    "idg = ImaageDataGenerator(zoom_range=[0.5, 0.9])\n",
    "show_aug_image_batch(image, idg)\n",
    "\n",
    "# Zoom out: 축소\n",
    "idg = ImaageDataGenerator(zoom_range=[1.1, 1.5], fill_mode='constant', cval=45))\n",
    "show_aug_image_batch(image, idg)\n",
    "\n",
    "# 1보다 작으면 확대, 1보다 크면 축소\n",
    "idg = ImaageDataGenerator(zoom_range=[0.5, 1.5], fill_mode='constant', cval=45))\n",
    "show_aug_image_batch(image, idg)\n"
   ]
  },
  {
   "cell_type": "code",
   "execution_count": null,
   "id": "96e5d500-8fc5-4b8a-ad2c-0cb6b39ab079",
   "metadata": {},
   "outputs": [],
   "source": [
    "# Shear: 늘리기 (0 ~ n)\n",
    "idg = ImaageDataGenerator(shear_range=45)\n",
    "show_aug_image_batch(image, idg)"
   ]
  },
  {
   "cell_type": "code",
   "execution_count": null,
   "id": "96583e67-2b6b-40bb-b7de-901c56d65cca",
   "metadata": {},
   "outputs": [],
   "source": [
    "# Brightness: 밝기 조절\n",
    "# 1보다 작으면 어두워짐, 1보다 크면 밝아짐\n",
    "idg = ImaageDataGenerator(brightness_range=(0.1, 0.9))\n",
    "show_aug_image_batch(image, idg)\n",
    "\n",
    "idg = ImaageDataGenerator(brightness_range=(1.1, 1.5))\n",
    "show_aug_image_batch(image, idg)"
   ]
  },
  {
   "cell_type": "code",
   "execution_count": null,
   "id": "2b7c4e77-4fe4-4490-98e5-5cb55a562f13",
   "metadata": {},
   "outputs": [],
   "source": [
    "# Channel Shift: 채널 변경 \n",
    "# RGB 채널을 임의의 값으로 변경\n",
    "idg = ImaageDataGenerator(channel_shift_range=150)\n",
    "show_aug_image_batch(image, idg)"
   ]
  },
  {
   "cell_type": "code",
   "execution_count": null,
   "id": "918cad7b-d0db-43f1-a21b-89c872edcb45",
   "metadata": {},
   "outputs": [],
   "source": [
    "# 리스케일 보기에는 다 검은색으로 나오지만 해줘야함!"
   ]
  },
  {
   "cell_type": "markdown",
   "id": "4467611a-8d7b-4b37-9ab4-6cc73b445556",
   "metadata": {},
   "source": [
    "#### albumentations"
   ]
  },
  {
   "cell_type": "code",
   "execution_count": null,
   "id": "97004c2d-bb75-4c4e-bbb5-a8134b4beccd",
   "metadata": {},
   "outputs": [],
   "source": [
    "from tensorflow.keras.preprocessing.image import ImageDataGenerator\n",
    "\n",
    "root = './datasets/animals/original/'\n",
    "\n",
    "idg = ImageDataGenerator(rescale=1./255)\n",
    "generator = idg.flow_from_directory(\n",
    "    root,\n",
    "    target_size=(250, 250),\n",
    "    batch_size=32,\n",
    "    class_mode='categorical'\n",
    ")\n",
    "\n",
    "print(generator.class_indices)"
   ]
  },
  {
   "cell_type": "code",
   "execution_count": null,
   "id": "0baff407-2392-43de-81b7-27dc01e2955e",
   "metadata": {},
   "outputs": [],
   "source": [
    "import cv2\n",
    "import matplotlib.pyplot as plt\n",
    "\n",
    "# 형변환\n",
    "cv2.cvtColor(cv2.imread(generator.filepaths[407]), cv2.COLOR_BGR2RGB)\n",
    "\n",
    "def show_image(image):\n",
    "    plt.figure(figsize=(4, 4))\n",
    "    plt.imshow(image)\n",
    "    # 옆에 꺼주기\n",
    "    plt.axis('off')\n",
    "\n",
    "\n",
    "show_image(image)"
   ]
  },
  {
   "cell_type": "code",
   "execution_count": null,
   "id": "d96c9c23-1203-4a9e-8b43-c4f83a9e10bf",
   "metadata": {},
   "outputs": [],
   "source": [
    "# # cmd 창에서 albumentations 설치\n",
    "# conda install -c conda-forge albumentations"
   ]
  },
  {
   "cell_type": "code",
   "execution_count": null,
   "id": "ca5ff5ab-58d1-442c-a97f-aa74c16d91ea",
   "metadata": {},
   "outputs": [],
   "source": [
    "def show_images(images, targets, ncols=4, title=None):\n",
    "    figure, axs = plt.subplots(figsize=(ncols * 5, 4), nrows=1, ncols=ncols)\n",
    "    for i in range(ncols):\n",
    "        axs[i].imshow(images[i])\n",
    "        axs[i].set_title(targets[i])\n",
    "\n",
    "def prepeat_aug(original_image=None, aug_image=None, target=None, aug=None, ncols=2):\n",
    "    image_list = [original_image]\n",
    "    target_list = ['Original']\n",
    "\n",
    "    original_image = aug(image=original_image)['image']\n",
    "    image_list.append(aug_image)\n",
    "    target_list.append(target)\n",
    "    \n",
    "    show_images(image_list, target_list, ncols)"
   ]
  },
  {
   "cell_type": "code",
   "execution_count": 6,
   "id": "6924c82a-1ceb-45c5-bde2-2ace6a66f4fa",
   "metadata": {},
   "outputs": [
    {
     "ename": "ModuleNotFoundError",
     "evalue": "No module named 'albumentations'",
     "output_type": "error",
     "traceback": [
      "\u001b[1;31m---------------------------------------------------------------------------\u001b[0m",
      "\u001b[1;31mModuleNotFoundError\u001b[0m                       Traceback (most recent call last)",
      "Cell \u001b[1;32mIn[6], line 1\u001b[0m\n\u001b[1;32m----> 1\u001b[0m \u001b[38;5;28;01mimport\u001b[39;00m \u001b[38;5;21;01malbumentations\u001b[39;00m \u001b[38;5;28;01mas\u001b[39;00m \u001b[38;5;21;01mA\u001b[39;00m\n",
      "\u001b[1;31mModuleNotFoundError\u001b[0m: No module named 'albumentations'"
     ]
    }
   ],
   "source": [
    "import albumentations as A\n",
    "# 확률 작성 가능 1하면 무조건 됨\n",
    "# call 함수로 되어 있어서 이미지를 넣으면 됨!\n",
    "aug = A.HorizontalFlip(p=0.5)\n",
    "# # dict으로 되어 있기 때문에 ['image'] 이렇게 바로 불러올 수 있음\n",
    "# aug(image=image)['image']\n",
    "\n",
    "repeat_aug(original_image=image, aug_image=aug_image, target='HorizontalFlip', aug=aug)"
   ]
  },
  {
   "cell_type": "code",
   "execution_count": null,
   "id": "c6baba10-10d1-4fb6-a113-d017fbf52f47",
   "metadata": {},
   "outputs": [],
   "source": [
    "aug = A.VerticalFlip(p=0.5)\n",
    "\n",
    "repeat_aug(original_image=image, aug_image=aug_image, target='VerticalFlip', aug=aug)"
   ]
  },
  {
   "cell_type": "code",
   "execution_count": null,
   "id": "9a9f80be-a328-4e29-800e-c8eeeec1c01b",
   "metadata": {},
   "outputs": [],
   "source": [
    "# limit=90 일 경우 -90 ~ 90 범위를 갖는다.\n",
    "# 거울처럼 반사\n",
    "aug = A.Rotate(p=0.5, limit=90, border_mode=cv2.BORDER_REFLECT)\n",
    "# 잘린부분으로 채우기\n",
    "aug = A.Rotate(p=0.5, limit=90, border_mode=cv2.BORDER_WRAP)\n",
    "# 검은색으로 채우기(훈련 시  검은색으로 하기)\n",
    "aug = A.Rotate(p=0.5, limit=90, border_mode=cv2.BORDER_CONSTANT)\n",
    "\n",
    "repeat_aug(original_image=image, aug_image=aug_image, target='Rotate', aug=aug)"
   ]
  },
  {
   "cell_type": "code",
   "execution_count": null,
   "id": "a4b5a989-c180-412d-b271-d766c4857709",
   "metadata": {},
   "outputs": [],
   "source": [
    "# 랜덤한 값으로 회전함\n",
    "aug = A.RandomRotate90(p=0.5)\n",
    "\n",
    "repeat_aug(original_image=image, aug_image=aug_image, target='RandomRotate90', aug=aug)"
   ]
  },
  {
   "cell_type": "code",
   "execution_count": null,
   "id": "20fae965-3cc0-44bf-9b20-6c0c3ab561d5",
   "metadata": {},
   "outputs": [],
   "source": [
    "# shift와 scale(zoom), rotate를 함께 또는 별개로 적용, 별개로 적용할 경우 나머지 0으로 설정\n",
    "# shift_limit/scale_limit=0.5=(-0.5, 0.5)\n",
    "aug = A.ShiftScaleRotate(p=0.5, shift_limit=0, scale_limit=0.5, border_mode=cv2.BORDER_CONSTANT, rotate_limit=90)\n",
    "\n",
    "repeat_aug(original_image=image, aug_image=aug_image, target='RandomRotate90', aug=aug)"
   ]
  },
  {
   "cell_type": "code",
   "execution_count": null,
   "id": "715ae108-5947-4c13-8d4d-fc4d1b20dea3",
   "metadata": {},
   "outputs": [],
   "source": [
    "def show_images(images, targets, ncols=4, title=None):\n",
    "    figure, axs = plt.subplots(figsize=(ncols * 5, 4), nrows=1, ncols=ncols)\n",
    "    for i in range(ncols):\n",
    "        axs[i].imshow(images[i])\n",
    "        axs[i].set_title(targets[i])\n",
    "\n",
    "def prepeat_aug(original_image=None, aug_image=None, target=None, aug=None, ncols=2):\n",
    "    image_list = [original_image]\n",
    "    target_list = ['Original']\n",
    "\n",
    "    for i in range(ncols + 1):\n",
    "        original_image = aug(image=original_image)['image']\n",
    "        image_list.append(aug_image)\n",
    "        target_list.append(target)\n",
    "    \n",
    "    show_images(image_list, target_list, ncols)"
   ]
  },
  {
   "cell_type": "code",
   "execution_count": null,
   "id": "3f30003a-e298-4091-beb6-10781966abd2",
   "metadata": {},
   "outputs": [],
   "source": [
    "aug = A.ShiftScaleRotate(p=0.5, shift_limit=0, scale_limit=0.5, border_mode=cv2.BORDER_CONSTANT, rotate_limit=90)\n",
    "\n",
    "repeat_aug(original_image=image, aug_image=aug_image, target='RandomRotate90', aug=aug, ncols=5)"
   ]
  },
  {
   "cell_type": "code",
   "execution_count": null,
   "id": "bd0ffd5f-842b-41d3-90b4-5d2612fd0787",
   "metadata": {},
   "outputs": [],
   "source": [
    "# 생성자에 list로 전달\n",
    "A.Compose([\n",
    "    A.VerticalFlip(p=0.5),\n",
    "    A.HorizontalFlip(p=0.5),\n",
    "])"
   ]
  },
  {
   "cell_type": "code",
   "execution_count": null,
   "id": "5eac9f5b-4eeb-4374-84e2-2b660b26e577",
   "metadata": {},
   "outputs": [],
   "source": [
    "image.shape"
   ]
  },
  {
   "cell_type": "code",
   "execution_count": null,
   "id": "accc9765-43ed-42ea-96eb-835e10892b67",
   "metadata": {},
   "outputs": [],
   "source": [
    "# 특정 영역을 잘라낸 후 원본 사이즈로 다시 Resize하지 않음\n",
    "# x: width, y:height, max 값은 이미지 크기로 설정해야 한다.\n",
    "# 범위가 아닌 지정한 부분을 제외한 나머지 부분을 가져온다.\n",
    "aug = A.Crop(x_min=90, y_min=60, x_max=300, y_max=200, p=1)\n",
    "repeat_aug(original_image=image, aug_image=aug_image, target='Crop', aug=aug, ncols=2)"
   ]
  },
  {
   "cell_type": "code",
   "execution_count": null,
   "id": "d7df04eb-ae6a-4063-97de-8643bf44d48a",
   "metadata": {},
   "outputs": [],
   "source": [
    "aug = A.Compose([\n",
    "    A.Crop(x_min=90, y_min=60, x_max=300, y_max=200, p=1),\n",
    "    A.Resize(250,250)\n",
    "])\n",
    "repeat_aug(original_image=image, aug_image=aug_image, target='Crop', aug=aug, ncols=2)\n",
    "aug(image=image)['image'].shape"
   ]
  },
  {
   "cell_type": "code",
   "execution_count": null,
   "id": "ad581004-89df-47fa-b149-3d3f5748eaad",
   "metadata": {},
   "outputs": [],
   "source": [
    "aug = A.CenterCrop(height=100, width=200, p=1)\n",
    "repeat_aug(original_image=image, aug_image=aug_image, target='CenterCrop', aug=aug, ncols=2)\n",
    "aug(image=image)['image'].shape"
   ]
  },
  {
   "cell_type": "code",
   "execution_count": null,
   "id": "a20c7ae3-796b-4ed9-aec3-416e39d3415c",
   "metadata": {},
   "outputs": [],
   "source": [
    "aug = A.Compose([\n",
    "    A.CenterCrop(height=100, width=200, p=1),\n",
    "    A.Resize(250,250)\n",
    "])\n",
    "\n",
    "repeat_aug(original_image=image, aug_image=aug_image, target='CenterCrop', aug=aug, ncols=2)\n",
    "aug(image=image)['image'].shape"
   ]
  },
  {
   "cell_type": "code",
   "execution_count": null,
   "id": "cdbbd916-4865-4a59-81e7-516fc0f4fef2",
   "metadata": {},
   "outputs": [],
   "source": [
    "aug = A.RandomCrop(height=100, width=200, p=1)\n",
    "\n",
    "repeat_aug(original_image=image, aug_image=aug_image, target='RandomCrop', aug=aug, ncols=2)\n",
    "aug(image=image)['image'].shape"
   ]
  },
  {
   "cell_type": "code",
   "execution_count": null,
   "id": "3707c231-0d18-4a6e-a17e-c2700a8428cc",
   "metadata": {},
   "outputs": [],
   "source": [
    "aug = A.Compose([\n",
    "    A.RandomCrop(height=100, width=200, p=1),\n",
    "    A.Resize(250,250)\n",
    "])\n",
    "\n",
    "repeat_aug(original_image=image, aug_image=aug_image, target='RandomCrop', aug=aug, ncols=2)\n",
    "aug(image=image)['image'].shape"
   ]
  },
  {
   "cell_type": "code",
   "execution_count": null,
   "id": "14b9ebcc-1e84-4cd1-802b-16faa3dc3bf5",
   "metadata": {},
   "outputs": [],
   "source": [
    "# 특정 영역을 scale 범위만큼 잘라낸 후, 전달한 width와 height 크기로 Resize 한다.\n",
    "# 원본 이미지가 100 X 100일 경우 scale(0.1, 0.5)를 적용하면,\n",
    "# 10 ~ 50% 범위의 랜덤한 영역을 잘라낸 후 resize해준다.\n",
    "aug = A.RandomResizedCrop(height=250, width=250, scale=(0.2, 0.5), p=1)\n",
    "\n",
    "repeat_aug(original_image=image, aug_image=aug_image, target='RandomResizedCrop', aug=aug, ncols=5)\n",
    "aug(image=image)['image'].shape"
   ]
  },
  {
   "cell_type": "code",
   "execution_count": null,
   "id": "8b9b1897-dd6a-4117-b643-097cc1d8d6da",
   "metadata": {},
   "outputs": [],
   "source": [
    "# 밝기, 대비\n",
    "# 0.2 == (-0.2, 0.2)\n",
    "# 개별 작업 진행 시, 나머지는 0을 전달한다.\n",
    "A.RandomBrightnessContrast(brightness_limit=0.2, contrast_limit=0.2, p=1)\n",
    "\n",
    "repeat_aug(original_image=image, aug_image=aug_image, target='RandomBrightnessContrast', aug=aug, ncols=5)"
   ]
  },
  {
   "cell_type": "code",
   "execution_count": null,
   "id": "88b319e9-95cb-4d3a-82e5-457f7349aff7",
   "metadata": {},
   "outputs": [],
   "source": [
    "# 색상, 채도, 명도\n",
    "# hue_shift_limit\n",
    "# sat_shift_limit\n",
    "# val_shift_limit\n",
    "aug = A.HueSaturationValue(p=1)\n",
    "\n",
    "repeat_aug(original_image=image, aug_image=aug_image, target='HueSaturationValue', aug=aug, ncols=5)"
   ]
  },
  {
   "cell_type": "code",
   "execution_count": null,
   "id": "427c74c8-1bdb-4478-8e64-1e0b3faad3b2",
   "metadata": {},
   "outputs": [],
   "source": [
    "# 밝기, 대비, 채도, 색상\n",
    "aug = A.ColorJitter(p=1)\n",
    "\n",
    "repeat_aug(original_image=image, aug_image=aug_image, target='ColorJitter', aug=aug, ncols=5)"
   ]
  },
  {
   "cell_type": "code",
   "execution_count": null,
   "id": "6002925d-2215-4983-899a-9679d04700a3",
   "metadata": {},
   "outputs": [],
   "source": [
    "# 채널 위치 변경\n",
    "aug = A.ChannelShuffle(p=1)\n",
    "\n",
    "repeat_aug(original_image=image, aug_image=aug_image, target='ChannelShuffle', aug=aug, ncols=5)"
   ]
  },
  {
   "cell_type": "code",
   "execution_count": null,
   "id": "970a9181-222b-4150-be0b-de03872a555e",
   "metadata": {},
   "outputs": [],
   "source": [
    "# 가우시안 분포(정규 분포)를 사용해서 Noise를 생성한다.\n",
    "aug = A.GaussNoise(p=1, var_limit=(400, 900))\n",
    "\n",
    "repeat_aug(original_image=image, aug_image=aug_image, target='GaussNoise', aug=aug, ncols=5)"
   ]
  },
  {
   "cell_type": "code",
   "execution_count": null,
   "id": "a2b287f8-8e11-4117-a8fb-e14ac1893c18",
   "metadata": {},
   "outputs": [],
   "source": [
    "# 명암 대비가 선명한 정도 조정\n",
    "# 어두운 이미지가 많은 경우에 사용\n",
    "aug = A.CLAHE(p=1, clip_limt=4)\n",
    "\n",
    "repeat_aug(original_image=image, aug_image=aug_image, target='CLAHE', aug=aug, ncols=5)"
   ]
  },
  {
   "cell_type": "code",
   "execution_count": null,
   "id": "0d7c000b-afae-496c-aec3-d175f8750829",
   "metadata": {},
   "outputs": [],
   "source": [
    "# 가우시안 분포(정규 분포)를 사용해서 Noise를 생성한다.\n",
    "aug = A.Blur(p=1, blur_limit=(3, 5))\n",
    "\n",
    "repeat_aug(original_image=image, aug_image=aug_image, target='Blur', aug=aug, ncols=5)"
   ]
  },
  {
   "cell_type": "code",
   "execution_count": null,
   "id": "d2af082f-013f-4c12-925a-3d9192208c14",
   "metadata": {},
   "outputs": [],
   "source": [
    "aug = A.Compose([\n",
    "    A.RandomResizedCrop(height=250, width=250, scale=(0.2, 0.5), p=0.5),\n",
    "    A.ColorJitter(p=0.5),\n",
    "    A.Resize(250,250,p=1)\n",
    "], p=0.5)\n",
    "\n",
    "repeat_aug(original_image=image, aug_image=aug_image, target='Compose', aug=aug, ncols=2)"
   ]
  },
  {
   "cell_type": "code",
   "execution_count": null,
   "id": "ad8496d6-e7a6-4939-813e-548c9059f4a8",
   "metadata": {},
   "outputs": [],
   "source": [
    "# 여러 개 중 한 개만 골라서 적용\n",
    "aug = A.Oneof([\n",
    "    A.RandomResizedCrop(height=250, width=250, scale=(0.2, 0.5), p=0.5),\n",
    "    A.ColorJitter(p=0.5),\n",
    "    A.Resize(250,250,p=1)\n",
    "], p=0.5)\n",
    "\n",
    "repeat_aug(original_image=image, aug_image=aug_image, target='Oneof', aug=aug, ncols=2)"
   ]
  },
  {
   "cell_type": "code",
   "execution_count": null,
   "id": "a97cde89-7b63-4dd6-ac5e-048697da4cef",
   "metadata": {},
   "outputs": [],
   "source": [
    "# 검은색 정사각형을 랜덤하게 배치하여 noise를 발생시킨다.\n",
    "aug = A.CoarseDropout(max_holse=100, max_height=10, max_width=10, p=0.5)\n",
    "\n",
    "repeat_aug(original_image=image, aug_image=aug_image, target='CoarseDropout', aug=aug, ncols=2)"
   ]
  },
  {
   "cell_type": "markdown",
   "id": "7773297e-cb67-4dce-885a-c34cef81fdf3",
   "metadata": {},
   "source": [
    "### 🚩 정리\n",
    "#### 기본적으로 많이 사용되는 변환은 아래와 같다.\n",
    "\n",
    "- Vertical (상하)\n",
    "- Horizontal (좌우)\n",
    "- ShiftScaleRotation (이동, zoom, 회전)\n",
    "- RandomCrop(랜덤 크롭), CenterCrop(센터 크롭), RandomBrightnessContrast (밝기, 대비)\n",
    "- ColorJitter (색상, 채도, 명도)\n",
    "- CLAHE(명암 대비를 통한 선명도 조정), Blur (블러-nosie), CoarseDropout (noise 추가)\n",
    "\n",
    "이렇게 쓰게 되면 똑같은 것으로 fit을 2~3번 해야 하며, p는 웬만하면 0.5로 진행"
   ]
  },
  {
   "cell_type": "code",
   "execution_count": null,
   "id": "53b5f470-4241-4224-a7fb-16d7229ed9fb",
   "metadata": {},
   "outputs": [],
   "source": [
    "import albumentations as A\n",
    "from tensorflow.keras.preprocessing.image import ImageDataGenerator\n",
    "\n",
    "def transform(image):\n",
    "    aug = A.Compose([\n",
    "        A.HorizontalFlip(p=0.5),\n",
    "        A.VerticalFlip(p=0.5),\n",
    "        A.OneOf([\n",
    "            A.ColorJitter(p=1),\n",
    "            A.RandomBrightnessContrast(brightness_limit=0.2, contrast_limit=0.2, p=0.5)\n",
    "        ], p=1)\n",
    "    ], 0.5)\n",
    "    \n",
    "    return aug(image=image)['image']\n",
    "\n",
    "idg =ImageDataGenerator(preprocessing_function=transform, rescale=1./255)"
   ]
  },
  {
   "cell_type": "markdown",
   "id": "2d3f4087-f0e1-4f9e-bd58-c76d39c470b2",
   "metadata": {},
   "source": [
    "Xray같은 것은 사용 노노, 상황에 맞게 진행"
   ]
  }
 ],
 "metadata": {
  "kernelspec": {
   "display_name": "Python 3 (ipykernel)",
   "language": "python",
   "name": "python3"
  },
  "language_info": {
   "codemirror_mode": {
    "name": "ipython",
    "version": 3
   },
   "file_extension": ".py",
   "mimetype": "text/x-python",
   "name": "python",
   "nbconvert_exporter": "python",
   "pygments_lexer": "ipython3",
   "version": "3.11.8"
  }
 },
 "nbformat": 4,
 "nbformat_minor": 5
}
