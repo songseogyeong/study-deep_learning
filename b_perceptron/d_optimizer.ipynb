{
 "cells": [
  {
   "cell_type": "markdown",
   "id": "0e66445e-a455-4f29-ac52-063ecf025854",
   "metadata": {},
   "source": [
    "### Optimizer, 최적화\n",
    "- 최적의 경사 하강법을 적용하기 위해 필요하며, 최소값을 찾아가는 방법들을 의미한다.\n",
    "- loss를 줄이는 방향으로 최소 loss를 보다 빠르고 안정적으로 수렴할 수 있어야 한다.\n",
    "\n",
    "<img src=\"./images/optimizer.png\" width=\"650px\" style=\"margin-left: 10px;\">\n",
    "\n",
    "\n",
    "#### Momentum\n",
    "- 가중치를 계속 업데이트할 때마다 이전의 값을 일정 수준 반영시키면서 새로운 가중치로 업데이트한다.\n",
    "- 지역 최소값에서 벗어나지 못하는 문제를 해결할 수 있으며, 진행했던 방향만큼 추가적으로 더하여, 관성처럼 빠져나올 수 있게 해준다.\n",
    "\n",
    "<img src=\"./images/momentum.png\" width=\"600px\">\n",
    "\n",
    "#### AdaGrad (Adaptive Gradient)\n",
    "- 가중치 별로 서로 다른 학습률을 동적으로 적용한다.\n",
    "- 적게 변화된 가중치는 보다 큰 학습률을 적용하고, 많이 변화된 가중치는 보다 작은 학습률을 적용시킨다.\n",
    "- 처음에는 큰 보폭으로 이동하다가 최소값에 가까워질 수록 작은 보폭으로 이동하게 된다.\n",
    "- 과거의 모든 기울기를 사용하기 때문에 학습률이 급격히 감소하여, 분모가 커짐으로써 학습률이 0에 가까워지는 문제가 있다.\n",
    "\n",
    "이미지 넣기\n",
    "\n",
    "#### RMSProp (Root Mean Sqaure Propagation)\n",
    "- AdaGrad의 단점을 보완한 기법으로서, 학습률이 지나치게 작아지는 것을 막기 위해 지수 가중 평균법(Exponentially weighted average)을 통해 구한다.  \n",
    "  <sub>과거의 것을 약하게 최근의 것을 강하게함(직전꺼가 영향력이 크다)</sub>\n",
    "- 지수 가중 평균법이란, 데이터의 이동 평균을 구할 때 오래된 데이터가 미치는 영향을 지수적으로 감쇠하도록 하는 방법이다.\n",
    "- 이전의 기울기들을 똑같이 더해가는 것이 아니라 훨씬 이전의 기울기는 조금 반영하고 최근의 기울기를 많이 반영한다.\n",
    "- features마다 적절한 학습률을 적용하여 효율적인 학습을 진행할 수 있고, AdaGrad 보다 학습을 오래할 수 있다.\n",
    "\n",
    "#### Adam (Adaptive Moment Estimation)\n",
    "- Momentum과 RMSProp 두 가지 방식을 결합한 형태로서, 진행하던 속도에 관성을 주고, 지수 가중 평균법을 적용한 알고리즘이다.\n",
    "- 최적화 방법 중에서 가장 많이 사용되는 알고리즘이며, 수식은 아래와 같다.\n",
    "\n",
    "- <div style=\"display: flex\">\n",
    "    <div>\n",
    "        <img src=\"./images/adam01.png\" width=\"300\" style=\"margin-top: 20px; margin-left: 0\">\n",
    "    </div>\n",
    "    <div>\n",
    "        <img src=\"./images/adam02.png\" width=\"200\" style=\"margin-top: 20px; margin-left: 80px\">\n",
    "    </div>\n",
    "</div>"
   ]
  }
 ],
 "metadata": {
  "kernelspec": {
   "display_name": "Python 3 (ipykernel)",
   "language": "python",
   "name": "python3"
  },
  "language_info": {
   "codemirror_mode": {
    "name": "ipython",
    "version": 3
   },
   "file_extension": ".py",
   "mimetype": "text/x-python",
   "name": "python",
   "nbconvert_exporter": "python",
   "pygments_lexer": "ipython3",
   "version": "3.11.8"
  }
 },
 "nbformat": 4,
 "nbformat_minor": 5
}
