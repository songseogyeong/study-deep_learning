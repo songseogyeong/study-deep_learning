{
 "cells": [
  {
   "cell_type": "markdown",
   "id": "fcbea33a-b21b-46c5-95f5-33690421fa5d",
   "metadata": {},
   "source": [
    "#### Activation Function, 활성화 함수\n",
    "- 인공 신경망에서 입력 값에 가중치를 곱한 뒤 합한 결과를 적용하는 함수이다.\n",
    "---\n",
    "1. 시그모이드 함수 (이진분류)\n",
    "    - 은닉층이 아닌 최종 활성화 함수. 즉, 출력층에서 사용된다.\n",
    "    - 은닉에서 사용 시, 입력 값이 양의 방향으로 큰 값일 경우 출력 값의 변화가 없으며, 음의 방향도 마찬가지이다.\n",
    "    - 평균이 0이 아니기 때문에 정규 분포 형태가 아니고, 이는 방향에 따라 기울기가 달라져서 탐색 경로가 비효율적(지그재그)이 된다.\n",
    "\n",
    "<img src='./images/sigmoid.png' width='500px'>\n",
    "\n",
    "2. 소프트맥스 함수 (다중분류)\n",
    "    - 은닉층이 아닌 최종 활성화 함수(출력층)에서 사용된다.\n",
    "    - 시그모이드와 유사하게 0 ~ 1 사이의 값을 출력하지만, 이진 분류가 아닌 다중 분류를 통해 모든 확률 값이 1이 되도록 해준다.\n",
    "    - 여러 개의 타겟 데이터를 분류하는 다중 분류의 최종 활성화 함수(출력층)로 사용된다.\n",
    "\n",
    "<img src='./images/softmax.png' width='450px'>\n",
    "\n",
    "3. 탄젠트 함수\n",
    "    - 은닉층이 아닌 최종 활성화 함수(출력층)에서 사용된다.\n",
    "    - 은닉층에서 사용 시, 시그모이드와 달리 -1 ~1 사이의 값을 출력해서 평균이 0이 될 수 있지만,  \n",
    "      여전히 입력 값의 양의 방향으로 큰 값일 경우 출력값의 변화가 미비하고 음의 방향도 마찬가지이다.\n",
    "\n",
    "<img src='./images/tanh.png' width='650px'>\n",
    "\n",
    "4. 렐루 함수\n",
    "   - max(0, 0) = 최대값을 구해주는 함수 뒤는 input값, 음수가 나오면 안됨,  음수 부분은 0으로 취급함\n",
    "   - 대표적인 은닉층의 활성 함수이다.\n",
    "   - 입력 값이 0보다 작으면 출력은 0,0 보다 크면 입력값을 출력하게 된다.\n",
    "\n",
    "<img src='./images/relu.png' width='480px'>"
   ]
  },
  {
   "cell_type": "markdown",
   "id": "2793e911-0bab-4fbd-8332-7cbb8d3ae7ac",
   "metadata": {},
   "source": [
    "### Cross Entropy\n",
    "- 실제 데이터의 확률 분포와, 학습된 모델이 계산한 확률 분포의 차이를 구하는데 사용된다.\n",
    "- 분류 문제에서 원-핫 인코딩을 통해 사용할 수 있는 오차 계산법이다.\n",
    "\n",
    "<img src=\"./images/cross_entropy01.png\" width=\"350\" style=\"margin:20px; margin-left:10px\">\n",
    "<img src=\"./images/cross_entropy02.png\" width=\"700\" style=\"margin-left:0\">"
   ]
  }
 ],
 "metadata": {
  "kernelspec": {
   "display_name": "Python 3 (ipykernel)",
   "language": "python",
   "name": "python3"
  },
  "language_info": {
   "codemirror_mode": {
    "name": "ipython",
    "version": 3
   },
   "file_extension": ".py",
   "mimetype": "text/x-python",
   "name": "python",
   "nbconvert_exporter": "python",
   "pygments_lexer": "ipython3",
   "version": "3.11.8"
  }
 },
 "nbformat": 4,
 "nbformat_minor": 5
}
